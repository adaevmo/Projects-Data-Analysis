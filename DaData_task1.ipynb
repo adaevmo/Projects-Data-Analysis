{
 "cells": [
  {
   "cell_type": "markdown",
   "metadata": {},
   "source": [
    "### Задание 1\n",
    "\n",
    "В Подсказки по компаниям пробуют вводить названия брендов, которые не всегда совпадают с названием юридического лица.\n",
    "Например, «Дейта Кью» мы легко подскажем, а вот «Дадата» — уже нет. Хочется это исправить.\n",
    "Расскажите:\n",
    "1.\tКак бы вы составили справочник брендов (откуда возьмёте информацию, как приведёте к нужному виду, какие видите проблемы или открытые вопросы).\n",
    "2.\tКаким бы он был (структура справочника и пяток записей для примера)."
   ]
  },
  {
   "cell_type": "markdown",
   "metadata": {},
   "source": [
    "**Описание подхода к решению**\n",
    "\n",
    "Бренд - это символ (набор символов) какой-либо компании, формирующий ее имидж. Для защиты бренда от использования в чужих интересах все составляющие бренда регистрируются в Роспатенте как торговый знак. Роспатент ведет [открытый реестр товарных знаков и знаков обслуживания РФ](https://rospatent.gov.ru/opendata/7730176088-tz), который обновляется ежемесячно.\n",
    "\n",
    "Данные представляют из себя csv-файл, где в колонках данные о регистрации и прочих признаках товарного знака, а также ссылка на электронный документ публикации товарного знака ([пример документа](https://www1.fips.ru/fips_servl/fips_servlet?DB=RUTM&DocNumber=913526)). В этом документе содержится изображение обозначения товарного знака и прочие сведения (классы классификатора товаров и услуг и проч.) При этом словесное обозначение товарного знака отсутствует как в документе публикации, так и в самом реестре.\n",
    "\n",
    "Следует отметить, что даже само [заявление для регистрации торгового знака](https://rospatent.gov.ru/ru/stateservices/gosudarstvennaya-registraciya-tovarnogo-znaka-znaka-obsluzhivaniya-kollektivnogo-znaka-i-vydacha-svidetelstv-na-tovarnyy-znak-znak-obsluzhivaniya-kollektivnyy-znak-ih-dublikatov) не содержит отдельного поля для указания словесного обозначения товарного знака. Максимум - указание признака \"словесный знак\" и текстовое описание заявляемого обозначения, которое заполняется редко. В реестре в колонке вид товарного знака только пустые значения, в документах публикации признак словесного товарного знака указан далеко не по всем позициям, содержащим только слова на изображениях. В изображениях, где кроме слов есть рисунок или особый шрифт, признак словесного знака не указывается, так как элементы дизайна - тоже важная его часть.\\\n",
    "Поэтому все, что мы можем получить из наиболее полного реестра товарных знаков, - это их изображения. \n",
    "\n",
    "Однако, с помощью ПО для выделения текста из картинки мы можем получить словесное обозначение бренда из полученных изображений, там, где это возможно. Для этого я использовал наиболее популярное и хорошо себя зарекомендовавшее приложение Tesseract.\n",
    "\n",
    "Далее на нескольких примерах рассмотрим возможности и ограничения такого подхода."
   ]
  },
  {
   "cell_type": "markdown",
   "metadata": {},
   "source": [
    "Импортируем необходимые библиотеки"
   ]
  },
  {
   "cell_type": "code",
   "execution_count": 1,
   "metadata": {},
   "outputs": [],
   "source": [
    "import pandas as pd\n",
    "import numpy as np\n",
    "\n",
    "from PIL import Image\n",
    "from pytesseract import pytesseract\n",
    "import io\n",
    "\n",
    "from bs4 import BeautifulSoup\n",
    "import requests\n",
    "import re\n",
    "import time\n",
    "\n",
    "from IPython.display import Image as show_img\n",
    "from IPython.core.display import HTML "
   ]
  },
  {
   "cell_type": "markdown",
   "metadata": {},
   "source": [
    "Загрузим открытый реестр товарных знаков и знаков обслуживания РФ с сайта Роспатента."
   ]
  },
  {
   "cell_type": "code",
   "execution_count": 2,
   "metadata": {},
   "outputs": [
    {
     "data": {
      "text/html": [
       "<div>\n",
       "<style scoped>\n",
       "    .dataframe tbody tr th:only-of-type {\n",
       "        vertical-align: middle;\n",
       "    }\n",
       "\n",
       "    .dataframe tbody tr th {\n",
       "        vertical-align: top;\n",
       "    }\n",
       "\n",
       "    .dataframe thead th {\n",
       "        text-align: right;\n",
       "    }\n",
       "</style>\n",
       "<table border=\"1\" class=\"dataframe\">\n",
       "  <thead>\n",
       "    <tr style=\"text-align: right;\">\n",
       "      <th></th>\n",
       "      <th>registration number</th>\n",
       "      <th>registration date</th>\n",
       "      <th>right holder name</th>\n",
       "      <th>right holder address</th>\n",
       "      <th>correspondence address</th>\n",
       "      <th>right holder ogrn</th>\n",
       "      <th>right holder inn</th>\n",
       "      <th>kind specification</th>\n",
       "      <th>publication URL</th>\n",
       "    </tr>\n",
       "  </thead>\n",
       "  <tbody>\n",
       "    <tr>\n",
       "      <th>843205</th>\n",
       "      <td>913522</td>\n",
       "      <td>20221230.0</td>\n",
       "      <td>Общество с ограниченной ответственностью «А-ЛАБ»</td>\n",
       "      <td>123458, Москва, муниципальный округ Строгино в...</td>\n",
       "      <td>125284, Москва, Хорошевское шоссе,24,120, Фили...</td>\n",
       "      <td>1217700011726</td>\n",
       "      <td>7.734440e+09</td>\n",
       "      <td>NaN</td>\n",
       "      <td>http://www1.fips.ru/fips_servl/fips_servlet?DB...</td>\n",
       "    </tr>\n",
       "    <tr>\n",
       "      <th>843206</th>\n",
       "      <td>913523</td>\n",
       "      <td>20221230.0</td>\n",
       "      <td>Общество с ограниченной ответственностью \"СФЕРА\"</td>\n",
       "      <td>249028, Калужская область, Боровский р-н, г. Е...</td>\n",
       "      <td>123290, Москва-290, А/Я 46,а/я 46, Ржевцев Вал...</td>\n",
       "      <td>1204000007958</td>\n",
       "      <td>4.003041e+09</td>\n",
       "      <td>NaN</td>\n",
       "      <td>http://www1.fips.ru/fips_servl/fips_servlet?DB...</td>\n",
       "    </tr>\n",
       "    <tr>\n",
       "      <th>843207</th>\n",
       "      <td>913524</td>\n",
       "      <td>20221230.0</td>\n",
       "      <td>Будко Наталья Анатольевна</td>\n",
       "      <td>108811, Москва, г. Московский, ул. Москвитина,...</td>\n",
       "      <td>140008, Московская область, г. Люберцы, 3-е По...</td>\n",
       "      <td>315774600107169</td>\n",
       "      <td>7.720709e+11</td>\n",
       "      <td>NaN</td>\n",
       "      <td>http://www1.fips.ru/fips_servl/fips_servlet?DB...</td>\n",
       "    </tr>\n",
       "    <tr>\n",
       "      <th>843208</th>\n",
       "      <td>913525</td>\n",
       "      <td>20221230.0</td>\n",
       "      <td>Германова Юлия Павловна</td>\n",
       "      <td>156019, Костромская область, г. Кострома, ш. К...</td>\n",
       "      <td>156000, Костромская область, г. Кострома, ул. ...</td>\n",
       "      <td>304440114200095</td>\n",
       "      <td>4.401200e+11</td>\n",
       "      <td>NaN</td>\n",
       "      <td>http://www1.fips.ru/fips_servl/fips_servlet?DB...</td>\n",
       "    </tr>\n",
       "    <tr>\n",
       "      <th>843209</th>\n",
       "      <td>913526</td>\n",
       "      <td>20221230.0</td>\n",
       "      <td>Общество с ограниченной ответственностью «Союз...</td>\n",
       "      <td>119136, Москва, 3-й Сетуньский пр-д, 10</td>\n",
       "      <td>196601, Санкт-Петербург, Пушкин-1, а/я 61, Теп...</td>\n",
       "      <td>1127746172080</td>\n",
       "      <td>7.729705e+09</td>\n",
       "      <td>NaN</td>\n",
       "      <td>http://www1.fips.ru/fips_servl/fips_servlet?DB...</td>\n",
       "    </tr>\n",
       "  </tbody>\n",
       "</table>\n",
       "</div>"
      ],
      "text/plain": [
       "       registration number  registration date  \\\n",
       "843205              913522         20221230.0   \n",
       "843206              913523         20221230.0   \n",
       "843207              913524         20221230.0   \n",
       "843208              913525         20221230.0   \n",
       "843209              913526         20221230.0   \n",
       "\n",
       "                                        right holder name  \\\n",
       "843205   Общество с ограниченной ответственностью «А-ЛАБ»   \n",
       "843206   Общество с ограниченной ответственностью \"СФЕРА\"   \n",
       "843207                          Будко Наталья Анатольевна   \n",
       "843208                            Германова Юлия Павловна   \n",
       "843209  Общество с ограниченной ответственностью «Союз...   \n",
       "\n",
       "                                     right holder address  \\\n",
       "843205  123458, Москва, муниципальный округ Строгино в...   \n",
       "843206  249028, Калужская область, Боровский р-н, г. Е...   \n",
       "843207  108811, Москва, г. Московский, ул. Москвитина,...   \n",
       "843208  156019, Костромская область, г. Кострома, ш. К...   \n",
       "843209            119136, Москва, 3-й Сетуньский пр-д, 10   \n",
       "\n",
       "                                   correspondence address right holder ogrn  \\\n",
       "843205  125284, Москва, Хорошевское шоссе,24,120, Фили...     1217700011726   \n",
       "843206  123290, Москва-290, А/Я 46,а/я 46, Ржевцев Вал...     1204000007958   \n",
       "843207  140008, Московская область, г. Люберцы, 3-е По...   315774600107169   \n",
       "843208  156000, Костромская область, г. Кострома, ул. ...   304440114200095   \n",
       "843209  196601, Санкт-Петербург, Пушкин-1, а/я 61, Теп...     1127746172080   \n",
       "\n",
       "        right holder inn kind specification  \\\n",
       "843205      7.734440e+09                NaN   \n",
       "843206      4.003041e+09                NaN   \n",
       "843207      7.720709e+11                NaN   \n",
       "843208      4.401200e+11                NaN   \n",
       "843209      7.729705e+09                NaN   \n",
       "\n",
       "                                          publication URL  \n",
       "843205  http://www1.fips.ru/fips_servl/fips_servlet?DB...  \n",
       "843206  http://www1.fips.ru/fips_servl/fips_servlet?DB...  \n",
       "843207  http://www1.fips.ru/fips_servl/fips_servlet?DB...  \n",
       "843208  http://www1.fips.ru/fips_servl/fips_servlet?DB...  \n",
       "843209  http://www1.fips.ru/fips_servl/fips_servlet?DB...  "
      ]
     },
     "execution_count": 2,
     "metadata": {},
     "output_type": "execute_result"
    }
   ],
   "source": [
    "data = pd.read_csv('~//data-20230101-structure-20180828.csv', low_memory=False)\\\n",
    "[['registration number',\n",
    "  'registration date',\n",
    "  'right holder name',\n",
    "  'right holder address',\n",
    "  'correspondence address',\n",
    "  'right holder ogrn',\n",
    "  'right holder inn',\n",
    "  'kind specification',\n",
    "  'publication URL']]\n",
    "data.tail()"
   ]
  },
  {
   "cell_type": "code",
   "execution_count": 3,
   "metadata": {},
   "outputs": [
    {
     "data": {
      "text/plain": [
       "NaN     843209\n",
       "\\r\\n         1\n",
       "Name: kind specification, dtype: int64"
      ]
     },
     "execution_count": 3,
     "metadata": {},
     "output_type": "execute_result"
    }
   ],
   "source": [
    "data['kind specification'].value_counts(dropna=0)"
   ]
  },
  {
   "cell_type": "code",
   "execution_count": 4,
   "metadata": {},
   "outputs": [
    {
     "name": "stdout",
     "output_type": "stream",
     "text": [
      "Датасет содержит 843 210 записей о торговых знаках.\n",
      "Из них зарегистрировано после 1990 г.: 826 447.\n",
      "После 2000 г.: 729 893.\n",
      "За последний месяц (декабрь 2022): 7 074.\n",
      "В среднем за последние 3 месяца (окт-дек 2022): 6 173.\n"
     ]
    }
   ],
   "source": [
    "print(f\"Датасет содержит {f'{data.shape[0]:,.0f}'.replace(',', ' ')} записей о торговых знаках.\")\n",
    "print(f'''Из них зарегистрировано после 1990 г.: \\\n",
    "{f'{data[data[\"registration date\"] > 19900000].shape[0]:,.0f}'.replace(',', ' ')}.''')\n",
    "print(f'''После 2000 г.: \\\n",
    "{f'{data[data[\"registration date\"] > 20000000].shape[0]:,.0f}'.replace(',', ' ')}.''')\n",
    "\n",
    "mean_3_last = round(np.mean([data[data[\"registration date\"] > 20221200].shape[0],\n",
    "                   data[(data[\"registration date\"] > 20221100) & (data[\"registration date\"] < 20221200)].shape[0],\n",
    "                   data[(data[\"registration date\"] > 20221000) & (data[\"registration date\"] < 20221100)].shape[0]]))\n",
    "\n",
    "print(f'''За последний месяц (декабрь 2022): \\\n",
    "{f'{data[data[\"registration date\"] > 20221200].shape[0]:,.0f}'.replace(',', ' ')}.''')\n",
    "print(f'''В среднем за последние 3 месяца (окт-дек 2022): \\\n",
    "{f'{mean_3_last:,.0f}'.replace(',', ' ')}.''')"
   ]
  },
  {
   "cell_type": "markdown",
   "metadata": {},
   "source": [
    "Для тестирования ограничимся данными за декабрь."
   ]
  },
  {
   "cell_type": "code",
   "execution_count": 5,
   "metadata": {},
   "outputs": [
    {
     "data": {
      "text/html": [
       "<div>\n",
       "<style scoped>\n",
       "    .dataframe tbody tr th:only-of-type {\n",
       "        vertical-align: middle;\n",
       "    }\n",
       "\n",
       "    .dataframe tbody tr th {\n",
       "        vertical-align: top;\n",
       "    }\n",
       "\n",
       "    .dataframe thead th {\n",
       "        text-align: right;\n",
       "    }\n",
       "</style>\n",
       "<table border=\"1\" class=\"dataframe\">\n",
       "  <thead>\n",
       "    <tr style=\"text-align: right;\">\n",
       "      <th></th>\n",
       "      <th>registration number</th>\n",
       "      <th>registration date</th>\n",
       "      <th>right holder name</th>\n",
       "      <th>right holder address</th>\n",
       "      <th>correspondence address</th>\n",
       "      <th>right holder ogrn</th>\n",
       "      <th>right holder inn</th>\n",
       "      <th>kind specification</th>\n",
       "      <th>publication URL</th>\n",
       "    </tr>\n",
       "  </thead>\n",
       "  <tbody>\n",
       "    <tr>\n",
       "      <th>7071</th>\n",
       "      <td>913524</td>\n",
       "      <td>20221230.0</td>\n",
       "      <td>Будко Наталья Анатольевна</td>\n",
       "      <td>108811, Москва, г. Московский, ул. Москвитина,...</td>\n",
       "      <td>140008, Московская область, г. Люберцы, 3-е По...</td>\n",
       "      <td>315774600107169</td>\n",
       "      <td>7.720709e+11</td>\n",
       "      <td>NaN</td>\n",
       "      <td>http://www1.fips.ru/fips_servl/fips_servlet?DB...</td>\n",
       "    </tr>\n",
       "    <tr>\n",
       "      <th>7072</th>\n",
       "      <td>913525</td>\n",
       "      <td>20221230.0</td>\n",
       "      <td>Германова Юлия Павловна</td>\n",
       "      <td>156019, Костромская область, г. Кострома, ш. К...</td>\n",
       "      <td>156000, Костромская область, г. Кострома, ул. ...</td>\n",
       "      <td>304440114200095</td>\n",
       "      <td>4.401200e+11</td>\n",
       "      <td>NaN</td>\n",
       "      <td>http://www1.fips.ru/fips_servl/fips_servlet?DB...</td>\n",
       "    </tr>\n",
       "    <tr>\n",
       "      <th>7073</th>\n",
       "      <td>913526</td>\n",
       "      <td>20221230.0</td>\n",
       "      <td>Общество с ограниченной ответственностью «Союз...</td>\n",
       "      <td>119136, Москва, 3-й Сетуньский пр-д, 10</td>\n",
       "      <td>196601, Санкт-Петербург, Пушкин-1, а/я 61, Теп...</td>\n",
       "      <td>1127746172080</td>\n",
       "      <td>7.729705e+09</td>\n",
       "      <td>NaN</td>\n",
       "      <td>http://www1.fips.ru/fips_servl/fips_servlet?DB...</td>\n",
       "    </tr>\n",
       "  </tbody>\n",
       "</table>\n",
       "</div>"
      ],
      "text/plain": [
       "     registration number  registration date  \\\n",
       "7071              913524         20221230.0   \n",
       "7072              913525         20221230.0   \n",
       "7073              913526         20221230.0   \n",
       "\n",
       "                                      right holder name  \\\n",
       "7071                          Будко Наталья Анатольевна   \n",
       "7072                            Германова Юлия Павловна   \n",
       "7073  Общество с ограниченной ответственностью «Союз...   \n",
       "\n",
       "                                   right holder address  \\\n",
       "7071  108811, Москва, г. Московский, ул. Москвитина,...   \n",
       "7072  156019, Костромская область, г. Кострома, ш. К...   \n",
       "7073            119136, Москва, 3-й Сетуньский пр-д, 10   \n",
       "\n",
       "                                 correspondence address right holder ogrn  \\\n",
       "7071  140008, Московская область, г. Люберцы, 3-е По...   315774600107169   \n",
       "7072  156000, Костромская область, г. Кострома, ул. ...   304440114200095   \n",
       "7073  196601, Санкт-Петербург, Пушкин-1, а/я 61, Теп...     1127746172080   \n",
       "\n",
       "      right holder inn kind specification  \\\n",
       "7071      7.720709e+11                NaN   \n",
       "7072      4.401200e+11                NaN   \n",
       "7073      7.729705e+09                NaN   \n",
       "\n",
       "                                        publication URL  \n",
       "7071  http://www1.fips.ru/fips_servl/fips_servlet?DB...  \n",
       "7072  http://www1.fips.ru/fips_servl/fips_servlet?DB...  \n",
       "7073  http://www1.fips.ru/fips_servl/fips_servlet?DB...  "
      ]
     },
     "execution_count": 5,
     "metadata": {},
     "output_type": "execute_result"
    }
   ],
   "source": [
    "data_test = data[data[\"registration date\"] > 20221200].reset_index(drop=1)\n",
    "data_test.tail(3)"
   ]
  },
  {
   "cell_type": "markdown",
   "metadata": {},
   "source": [
    "Для удобства обрежем названия организационных форм из названий организаций"
   ]
  },
  {
   "cell_type": "code",
   "execution_count": 6,
   "metadata": {},
   "outputs": [],
   "source": [
    "def get_the_name(x):\n",
    "    if '«' in x:\n",
    "        return x.split('«')[1].split('»')[0]\n",
    "    if '\"' in x:\n",
    "        return x.split('\"')[1]\n",
    "    else: \n",
    "        return x"
   ]
  },
  {
   "cell_type": "code",
   "execution_count": 7,
   "metadata": {},
   "outputs": [
    {
     "data": {
      "text/html": [
       "<div>\n",
       "<style scoped>\n",
       "    .dataframe tbody tr th:only-of-type {\n",
       "        vertical-align: middle;\n",
       "    }\n",
       "\n",
       "    .dataframe tbody tr th {\n",
       "        vertical-align: top;\n",
       "    }\n",
       "\n",
       "    .dataframe thead th {\n",
       "        text-align: right;\n",
       "    }\n",
       "</style>\n",
       "<table border=\"1\" class=\"dataframe\">\n",
       "  <thead>\n",
       "    <tr style=\"text-align: right;\">\n",
       "      <th></th>\n",
       "      <th>registration number</th>\n",
       "      <th>registration date</th>\n",
       "      <th>right holder name</th>\n",
       "      <th>right holder name cut</th>\n",
       "      <th>right holder address</th>\n",
       "      <th>correspondence address</th>\n",
       "      <th>right holder ogrn</th>\n",
       "      <th>right holder inn</th>\n",
       "      <th>kind specification</th>\n",
       "      <th>publication URL</th>\n",
       "    </tr>\n",
       "  </thead>\n",
       "  <tbody>\n",
       "    <tr>\n",
       "      <th>7071</th>\n",
       "      <td>913524</td>\n",
       "      <td>20221230.0</td>\n",
       "      <td>Будко Наталья Анатольевна</td>\n",
       "      <td>Будко Наталья Анатольевна</td>\n",
       "      <td>108811, Москва, г. Московский, ул. Москвитина,...</td>\n",
       "      <td>140008, Московская область, г. Люберцы, 3-е По...</td>\n",
       "      <td>315774600107169</td>\n",
       "      <td>7.720709e+11</td>\n",
       "      <td>NaN</td>\n",
       "      <td>http://www1.fips.ru/fips_servl/fips_servlet?DB...</td>\n",
       "    </tr>\n",
       "    <tr>\n",
       "      <th>7072</th>\n",
       "      <td>913525</td>\n",
       "      <td>20221230.0</td>\n",
       "      <td>Германова Юлия Павловна</td>\n",
       "      <td>Германова Юлия Павловна</td>\n",
       "      <td>156019, Костромская область, г. Кострома, ш. К...</td>\n",
       "      <td>156000, Костромская область, г. Кострома, ул. ...</td>\n",
       "      <td>304440114200095</td>\n",
       "      <td>4.401200e+11</td>\n",
       "      <td>NaN</td>\n",
       "      <td>http://www1.fips.ru/fips_servl/fips_servlet?DB...</td>\n",
       "    </tr>\n",
       "    <tr>\n",
       "      <th>7073</th>\n",
       "      <td>913526</td>\n",
       "      <td>20221230.0</td>\n",
       "      <td>Общество с ограниченной ответственностью «Союз...</td>\n",
       "      <td>Союз Святого Иоанна Воина</td>\n",
       "      <td>119136, Москва, 3-й Сетуньский пр-д, 10</td>\n",
       "      <td>196601, Санкт-Петербург, Пушкин-1, а/я 61, Теп...</td>\n",
       "      <td>1127746172080</td>\n",
       "      <td>7.729705e+09</td>\n",
       "      <td>NaN</td>\n",
       "      <td>http://www1.fips.ru/fips_servl/fips_servlet?DB...</td>\n",
       "    </tr>\n",
       "  </tbody>\n",
       "</table>\n",
       "</div>"
      ],
      "text/plain": [
       "     registration number  registration date  \\\n",
       "7071              913524         20221230.0   \n",
       "7072              913525         20221230.0   \n",
       "7073              913526         20221230.0   \n",
       "\n",
       "                                      right holder name  \\\n",
       "7071                          Будко Наталья Анатольевна   \n",
       "7072                            Германова Юлия Павловна   \n",
       "7073  Общество с ограниченной ответственностью «Союз...   \n",
       "\n",
       "          right holder name cut  \\\n",
       "7071  Будко Наталья Анатольевна   \n",
       "7072    Германова Юлия Павловна   \n",
       "7073  Союз Святого Иоанна Воина   \n",
       "\n",
       "                                   right holder address  \\\n",
       "7071  108811, Москва, г. Московский, ул. Москвитина,...   \n",
       "7072  156019, Костромская область, г. Кострома, ш. К...   \n",
       "7073            119136, Москва, 3-й Сетуньский пр-д, 10   \n",
       "\n",
       "                                 correspondence address right holder ogrn  \\\n",
       "7071  140008, Московская область, г. Люберцы, 3-е По...   315774600107169   \n",
       "7072  156000, Костромская область, г. Кострома, ул. ...   304440114200095   \n",
       "7073  196601, Санкт-Петербург, Пушкин-1, а/я 61, Теп...     1127746172080   \n",
       "\n",
       "      right holder inn kind specification  \\\n",
       "7071      7.720709e+11                NaN   \n",
       "7072      4.401200e+11                NaN   \n",
       "7073      7.729705e+09                NaN   \n",
       "\n",
       "                                        publication URL  \n",
       "7071  http://www1.fips.ru/fips_servl/fips_servlet?DB...  \n",
       "7072  http://www1.fips.ru/fips_servl/fips_servlet?DB...  \n",
       "7073  http://www1.fips.ru/fips_servl/fips_servlet?DB...  "
      ]
     },
     "execution_count": 7,
     "metadata": {},
     "output_type": "execute_result"
    }
   ],
   "source": [
    "data_test['right holder name cut'] = data_test['right holder name'].apply(lambda x:get_the_name(x))\n",
    "data_test = data_test.iloc[:,[0,1,2,9,3,4,5,6,7,8]]\n",
    "data_test.tail(3)"
   ]
  },
  {
   "cell_type": "markdown",
   "metadata": {},
   "source": [
    "Далее создадим функцию для получения ссылки на изображение торгового знака из ссылки на публикацию о торговом знаке."
   ]
  },
  {
   "cell_type": "code",
   "execution_count": 8,
   "metadata": {},
   "outputs": [],
   "source": [
    "def get_img_url(url):\n",
    "    time.sleep(3)\n",
    "    response=requests.get(url)\n",
    "    response.encoding = 'utf-8'\n",
    "    soup = BeautifulSoup(response.text, 'lxml')\n",
    "    img_url = str(soup.find('img', alt=\"\" ,src=re.compile(\".jpg\"))).split('\"')[1]\n",
    "    return img_url"
   ]
  },
  {
   "cell_type": "markdown",
   "metadata": {},
   "source": [
    "Например:"
   ]
  },
  {
   "cell_type": "code",
   "execution_count": 9,
   "metadata": {},
   "outputs": [
    {
     "data": {
      "text/plain": [
       "'http://www1.fips.ru/fips_servl/fips_servlet?DB=RUTM&DocNumber=906491'"
      ]
     },
     "execution_count": 9,
     "metadata": {},
     "output_type": "execute_result"
    }
   ],
   "source": [
    "url = data_test['publication URL'][55]\n",
    "url"
   ]
  },
  {
   "cell_type": "code",
   "execution_count": 10,
   "metadata": {},
   "outputs": [
    {
     "data": {
      "text/plain": [
       "'http://new.fips.ru/ofpstorage/TM/2022.12.01/RUNWTM/000/000/090/649/100/%D0%A2%D0%97-906491-00001/00000001-m.jpg'"
      ]
     },
     "execution_count": 10,
     "metadata": {},
     "output_type": "execute_result"
    }
   ],
   "source": [
    "get_img_url(url)"
   ]
  },
  {
   "cell_type": "markdown",
   "metadata": {},
   "source": [
    "Создадим функцию, извлекающую текстовое обозначение бренда из графического изображения с помощью приложения tesseract. \n",
    "\n",
    "Извлечем русский и английский текст"
   ]
  },
  {
   "cell_type": "code",
   "execution_count": 11,
   "metadata": {},
   "outputs": [],
   "source": [
    "def get_brand_name(img_url):\n",
    "    web_img = requests.get(img_url)\n",
    "\n",
    "    path_to_tesseract = r'C:\\Program Files\\Tesseract-OCR\\tesseract.exe'\n",
    "    pytesseract.tesseract_cmd = path_to_tesseract\n",
    "\n",
    "    img = Image.open(io.BytesIO(web_img.content))\n",
    "    text1 = pytesseract.image_to_string(img, lang=\"rus\")\n",
    "    text2 = pytesseract.image_to_string(img, lang=\"eng\")\n",
    "    \n",
    "    return [re.sub('\\W|\\s',' ',text1).strip(), re.sub('\\W|\\s',' ',text2).strip()]"
   ]
  },
  {
   "cell_type": "markdown",
   "metadata": {},
   "source": [
    "Рассмотрим работу функций на нескольких примерах:"
   ]
  },
  {
   "cell_type": "code",
   "execution_count": 12,
   "metadata": {},
   "outputs": [
    {
     "data": {
      "text/plain": [
       "array(['http://www1.fips.ru/fips_servl/fips_servlet?DB=RUTM&DocNumber=906493',\n",
       "       'http://www1.fips.ru/fips_servl/fips_servlet?DB=RUTM&DocNumber=906838',\n",
       "       'http://www1.fips.ru/fips_servl/fips_servlet?DB=RUTM&DocNumber=910442',\n",
       "       'http://www1.fips.ru/fips_servl/fips_servlet?DB=RUTM&DocNumber=910885',\n",
       "       'http://www1.fips.ru/fips_servl/fips_servlet?DB=RUTM&DocNumber=913450'],\n",
       "      dtype=object)"
      ]
     },
     "execution_count": 12,
     "metadata": {},
     "output_type": "execute_result"
    }
   ],
   "source": [
    "examples = data_test.loc[[57,402,4001,4444,7000],'publication URL'].values\n",
    "examples"
   ]
  },
  {
   "cell_type": "code",
   "execution_count": 13,
   "metadata": {},
   "outputs": [
    {
     "data": {
      "text/html": [
       "<img src=\"http://new.fips.ru/ofpstorage/TM/2022.12.01/RUNWTM/000/000/090/649/300/%D0%A2%D0%97-906493-00001/00000001-m.jpg\"/>"
      ],
      "text/plain": [
       "<IPython.core.display.Image object>"
      ]
     },
     "metadata": {},
     "output_type": "display_data"
    },
    {
     "name": "stdout",
     "output_type": "stream",
     "text": [
      "['ЗК', 'wikikid']\n"
     ]
    },
    {
     "data": {
      "text/html": [
       "<img src=\"http://new.fips.ru/ofpstorage/TM/2022.12.01/RUNWTM/000/000/090/683/800/%D0%A2%D0%97-906838-00001/00000001-m.jpg\"/>"
      ],
      "text/plain": [
       "<IPython.core.display.Image object>"
      ]
     },
     "metadata": {},
     "output_type": "display_data"
    },
    {
     "name": "stdout",
     "output_type": "stream",
     "text": [
      "['аь', 'Ca']\n"
     ]
    },
    {
     "data": {
      "text/html": [
       "<img src=\"http://new.fips.ru/ofpstorage/TM/2022.12.09/RUNWTM/000/000/091/044/200/%D0%A2%D0%97-910442-00001/00000001-m.jpg\"/>"
      ],
      "text/plain": [
       "<IPython.core.display.Image object>"
      ]
     },
     "metadata": {},
     "output_type": "display_data"
    },
    {
     "name": "stdout",
     "output_type": "stream",
     "text": [
      "['О кРУЖЕНИЕ  визнЕс клуБ', 'OKPYKEHUE  suaHEC KnyS']\n"
     ]
    },
    {
     "data": {
      "text/html": [
       "<img src=\"http://new.fips.ru/ofpstorage/TM/2022.12.13/RUNWTM/000/000/091/088/500/%D0%A2%D0%97-910885-00001/00000001-m.jpg\"/>"
      ],
      "text/plain": [
       "<IPython.core.display.Image object>"
      ]
     },
     "metadata": {},
     "output_type": "display_data"
    },
    {
     "name": "stdout",
     "output_type": "stream",
     "text": [
      "['ВАУБАВ БАЙСАР', 'BAYSAR BAUCAP']\n"
     ]
    },
    {
     "data": {
      "text/html": [
       "<img src=\"http://new.fips.ru/ofpstorage/TM/2022.12.27/RUNWTM/000/000/091/345/000/%D0%A2%D0%97-913450-00001/00000001-m.jpg\"/>"
      ],
      "text/plain": [
       "<IPython.core.display.Image object>"
      ]
     },
     "metadata": {},
     "output_type": "display_data"
    },
    {
     "name": "stdout",
     "output_type": "stream",
     "text": [
      "['Я  22777 И  у ФЫБАКА', 'wy ZZ 7  y PLIBAKA']\n",
      "\n",
      "\n",
      "--- 24.4 seconds ---\n"
     ]
    }
   ],
   "source": [
    "start_time = time.time()\n",
    "for i in range(len(examples)):\n",
    "    img_url = get_img_url(examples[i])\n",
    "    display(show_img(url= img_url))\n",
    "    print(get_brand_name(img_url))\n",
    "exec_time = time.time() - start_time\n",
    "print(\"\\n\\n--- %s seconds ---\" % round(exec_time,1))"
   ]
  },
  {
   "cell_type": "markdown",
   "metadata": {},
   "source": [
    "Есть заметные огрехи для торговых знаков с изощренным дизайном, но большинство полученных названий в целом соответствуют изображениям, это радует. Далее можно будет еще потюнить правописание с помощью библиотеки nltk..\n",
    "\n",
    "Ко всему массиву декабря применить функцию не удалось, заблокировали на сайте Роспатента за бессовестный парсинг)\n",
    "Благо быстро разблокировали, и я добавил 3-секундный лаг в функцию парсинга, но теперь это просто долго."
   ]
  },
  {
   "cell_type": "code",
   "execution_count": 14,
   "metadata": {},
   "outputs": [
    {
     "name": "stdout",
     "output_type": "stream",
     "text": [
      "Примерное время выполнения программы для данных за один месяц: 8.4 ч\n"
     ]
    }
   ],
   "source": [
    "print (f'Примерное время выполнения программы для данных за один месяц: \\\n",
    "{round(((exec_time / len(examples)) * mean_3_last) /60 /60,1)} ч')"
   ]
  },
  {
   "cell_type": "markdown",
   "metadata": {},
   "source": [
    "Тем не менее с текущей версией алгоритма можно меньше чем за 1 ночь обновить данные по брендам для компаний. И на следующий день пробежаться по массиву вручную. 6-7 тыс строк - это много, но в целом реально. За то данные будут максимально полными."
   ]
  },
  {
   "cell_type": "markdown",
   "metadata": {},
   "source": [
    "Финальная таблица будет выглядеть примерно так:"
   ]
  },
  {
   "cell_type": "code",
   "execution_count": 15,
   "metadata": {},
   "outputs": [
    {
     "data": {
      "text/html": [
       "<table border=\"1\" class=\"dataframe\">\n",
       "  <thead>\n",
       "    <tr style=\"text-align: right;\">\n",
       "      <th></th>\n",
       "      <th>right holder name cut</th>\n",
       "      <th>publication URL</th>\n",
       "      <th>logo</th>\n",
       "      <th>brand name</th>\n",
       "    </tr>\n",
       "  </thead>\n",
       "  <tbody>\n",
       "    <tr>\n",
       "      <th>57</th>\n",
       "      <td>Викикид электронная коммерция</td>\n",
       "      <td>http://www1.fips.ru/fips_servl/fips_servlet?DB=RUTM&DocNumber=906493</td>\n",
       "      <td><img src=\"http://new.fips.ru/ofpstorage/TM/2022.12.01/RUNWTM/000/000/090/649/300/%D0%A2%D0%97-906493-00001/00000001-m.jpg\" width=\"60\" ></td>\n",
       "      <td>[ЗК, wikikid]</td>\n",
       "    </tr>\n",
       "    <tr>\n",
       "      <th>402</th>\n",
       "      <td>Тагызаде Эльшан Алисафтар Оглы</td>\n",
       "      <td>http://www1.fips.ru/fips_servl/fips_servlet?DB=RUTM&DocNumber=906838</td>\n",
       "      <td><img src=\"http://new.fips.ru/ofpstorage/TM/2022.12.01/RUNWTM/000/000/090/683/800/%D0%A2%D0%97-906838-00001/00000001-m.jpg\" width=\"60\" ></td>\n",
       "      <td>[аь, Ca]</td>\n",
       "    </tr>\n",
       "    <tr>\n",
       "      <th>4001</th>\n",
       "      <td>Маркеттайм</td>\n",
       "      <td>http://www1.fips.ru/fips_servl/fips_servlet?DB=RUTM&DocNumber=910442</td>\n",
       "      <td><img src=\"http://new.fips.ru/ofpstorage/TM/2022.12.09/RUNWTM/000/000/091/044/200/%D0%A2%D0%97-910442-00001/00000001-m.jpg\" width=\"60\" ></td>\n",
       "      <td>[О кРУЖЕНИЕ  визнЕс клуБ, OKPYKEHUE  suaHEC KnyS]</td>\n",
       "    </tr>\n",
       "    <tr>\n",
       "      <th>4444</th>\n",
       "      <td>ПРОМОБОРУДОВАНИЕ</td>\n",
       "      <td>http://www1.fips.ru/fips_servl/fips_servlet?DB=RUTM&DocNumber=910885</td>\n",
       "      <td><img src=\"http://new.fips.ru/ofpstorage/TM/2022.12.13/RUNWTM/000/000/091/088/500/%D0%A2%D0%97-910885-00001/00000001-m.jpg\" width=\"60\" ></td>\n",
       "      <td>[ВАУБАВ БАЙСАР, BAYSAR BAUCAP]</td>\n",
       "    </tr>\n",
       "    <tr>\n",
       "      <th>7000</th>\n",
       "      <td>ФИШЕРМАН</td>\n",
       "      <td>http://www1.fips.ru/fips_servl/fips_servlet?DB=RUTM&DocNumber=913450</td>\n",
       "      <td><img src=\"http://new.fips.ru/ofpstorage/TM/2022.12.27/RUNWTM/000/000/091/345/000/%D0%A2%D0%97-913450-00001/00000001-m.jpg\" width=\"60\" ></td>\n",
       "      <td>[Я  22777 И  у ФЫБАКА, wy ZZ 7  y PLIBAKA]</td>\n",
       "    </tr>\n",
       "  </tbody>\n",
       "</table>"
      ],
      "text/plain": [
       "<IPython.core.display.HTML object>"
      ]
     },
     "execution_count": 15,
     "metadata": {},
     "output_type": "execute_result"
    }
   ],
   "source": [
    "mapping = data_test.loc[[57,402,4001,4444,7000],['right holder name cut','publication URL']]\n",
    "mapping['logo'] = mapping['publication URL'].apply(lambda x: get_img_url(x))\n",
    "mapping['brand name'] = mapping['logo'].apply(lambda x: get_brand_name(x))\n",
    "\n",
    "def path_to_image_html(img_url):\n",
    "    return '<img src=\"'+ img_url + '\" width=\"60\" >'\n",
    "mapping.to_html(escape=False, formatters=dict(logo=path_to_image_html))\n",
    "HTML(mapping.to_html(escape=False,formatters=dict(logo=path_to_image_html)))"
   ]
  }
 ],
 "metadata": {
  "kernelspec": {
   "display_name": "Python 3",
   "language": "python",
   "name": "python3"
  },
  "language_info": {
   "codemirror_mode": {
    "name": "ipython",
    "version": 3
   },
   "file_extension": ".py",
   "mimetype": "text/x-python",
   "name": "python",
   "nbconvert_exporter": "python",
   "pygments_lexer": "ipython3",
   "version": "3.8.5"
  }
 },
 "nbformat": 4,
 "nbformat_minor": 4
}

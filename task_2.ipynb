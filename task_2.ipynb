{
 "cells": [
  {
   "cell_type": "markdown",
   "metadata": {},
   "source": [
    "### Задание 2.\n",
    "Имеется таблица, содержащая лог размещения и перемещения банкоматов по локациям.\n",
    "Один банкомат может быть размещен по различным адресам в разные моменты времени.\n",
    "\n",
    "таблица: ATM\\\n",
    "ATM_ID  iNTEGER     Идентификатор\\\n",
    "ADR     STRING      Адрес размещения\\\n",
    "DT_INS  TIMESTAMP        Дата и время установки по указанному адресу\n",
    "\n",
    "Сформировать отчет по состоянию на 01.01.2020 00:00:00 с перечнем банкоматов: их идентификатор, адрес размещения и датой установки\n",
    "\n",
    "ATM_ID;ADR;DT_INS\\\n",
    "1;Ленина,2;2019.01.01 00:01:00\\\n",
    "1;Ленина,3;2019.06.01 00:01:00\\\n",
    "1;Ленина,2;2019.12.21 00:01:00\\\n",
    "1;Ленина,5;2020.12.21 00:01:00\\\n",
    "2;Ленина,4;2019.12.01 00:01:00\\\n",
    "2;Ленина,4;2019.12.01 00:01:00\\\n",
    "10;Ленина,5;2019.08.01 00:01:00\\\n",
    "15;Ленина,6;2019.07.01 00:01:00\\\n",
    "\n",
    "В данных могут быть проблемы - минусом отмечены некорректные строки лога (подразумевается, что нужно понять логику некоректности). \\\n",
    "Плюсом отмечена корректная строка по данному банкомату (без маркеров - также корректные строки).\n",
    "Для построения отчета необходимо брать только корректные.\n",
    "\n",
    "1;Ленина,2;2019.01.01 00:01:00\\\n",
    "1;Ленина,3;2019.06.01 00:01:00\\\n",
    "1;Ленина,2;2019.12.21 00:01:00\\\n",
    "1;Ленина,5;2020.12.21 00:01:00\\\n",
    "+2;Ленина,2;2019.01.01 00:01:00\\\n",
    "-2;Ленина,2;2019.06.01 00:01:00\\\n",
    "-2;Ленина,2;2019.12.21 00:01:00\\\n",
    "2;Ленина,3;2020.12.21 00:01:00\n",
    "\n",
    "Задание выполняется на SQL и на python.\\\n",
    "Для проверки задания также необходимо подготовить скрипт на python для генерации тестовых данных объемом не менее 1млн. строк. Названия улиц не обязательно должны быть осмысленными, главное чтобы выполнялось условие про некорректные строки, а решение должно предусматривать выполнение обозначенной логики построения отчета.\\  \n",
    "С учетом того, что скрипт генерирует каждый раз новые данные, достаточно чтобы в среднем (при нескольких повторениях) скрипт генерировал в т.ч. некорректные строки."
   ]
  },
  {
   "cell_type": "code",
   "execution_count": 1,
   "metadata": {},
   "outputs": [],
   "source": [
    "import pandas as pd"
   ]
  },
  {
   "cell_type": "markdown",
   "metadata": {},
   "source": [
    "Данные сгенерированы в отдельном скрипте и сохранены в csv. Загрузим их"
   ]
  },
  {
   "cell_type": "code",
   "execution_count": 12,
   "metadata": {},
   "outputs": [
    {
     "data": {
      "text/html": [
       "<div>\n",
       "<style scoped>\n",
       "    .dataframe tbody tr th:only-of-type {\n",
       "        vertical-align: middle;\n",
       "    }\n",
       "\n",
       "    .dataframe tbody tr th {\n",
       "        vertical-align: top;\n",
       "    }\n",
       "\n",
       "    .dataframe thead th {\n",
       "        text-align: right;\n",
       "    }\n",
       "</style>\n",
       "<table border=\"1\" class=\"dataframe\">\n",
       "  <thead>\n",
       "    <tr style=\"text-align: right;\">\n",
       "      <th></th>\n",
       "      <th>ATM_ID</th>\n",
       "      <th>ADR</th>\n",
       "      <th>DT_INS</th>\n",
       "    </tr>\n",
       "  </thead>\n",
       "  <tbody>\n",
       "    <tr>\n",
       "      <th>0</th>\n",
       "      <td>1</td>\n",
       "      <td>Заречная, 16</td>\n",
       "      <td>2019-10-19 21:37:00</td>\n",
       "    </tr>\n",
       "    <tr>\n",
       "      <th>1</th>\n",
       "      <td>1</td>\n",
       "      <td>Заречная, 20</td>\n",
       "      <td>2019-11-22 20:53:48</td>\n",
       "    </tr>\n",
       "    <tr>\n",
       "      <th>2</th>\n",
       "      <td>1</td>\n",
       "      <td>Заречная, 21</td>\n",
       "      <td>2019-11-02 22:05:48</td>\n",
       "    </tr>\n",
       "    <tr>\n",
       "      <th>3</th>\n",
       "      <td>1</td>\n",
       "      <td>Зеленая, 16</td>\n",
       "      <td>2019-10-27 06:58:36</td>\n",
       "    </tr>\n",
       "    <tr>\n",
       "      <th>4</th>\n",
       "      <td>1</td>\n",
       "      <td>Зеленая, 26</td>\n",
       "      <td>2019-11-26 22:05:48</td>\n",
       "    </tr>\n",
       "    <tr>\n",
       "      <th>...</th>\n",
       "      <td>...</td>\n",
       "      <td>...</td>\n",
       "      <td>...</td>\n",
       "    </tr>\n",
       "    <tr>\n",
       "      <th>999995</th>\n",
       "      <td>39910</td>\n",
       "      <td>Новая, 14</td>\n",
       "      <td>2019-11-18 14:10:36</td>\n",
       "    </tr>\n",
       "    <tr>\n",
       "      <th>999996</th>\n",
       "      <td>39916</td>\n",
       "      <td>Садовая, 28</td>\n",
       "      <td>2019-09-12 19:13:00</td>\n",
       "    </tr>\n",
       "    <tr>\n",
       "      <th>999997</th>\n",
       "      <td>39917</td>\n",
       "      <td>Садовая, 27</td>\n",
       "      <td>2019-11-11 12:15:24</td>\n",
       "    </tr>\n",
       "    <tr>\n",
       "      <th>999998</th>\n",
       "      <td>39919</td>\n",
       "      <td>Мятная, 23</td>\n",
       "      <td>2019-11-01 21:08:12</td>\n",
       "    </tr>\n",
       "    <tr>\n",
       "      <th>999999</th>\n",
       "      <td>39946</td>\n",
       "      <td>Лесная, 2</td>\n",
       "      <td>2019-11-16 11:17:48</td>\n",
       "    </tr>\n",
       "  </tbody>\n",
       "</table>\n",
       "<p>1000000 rows × 3 columns</p>\n",
       "</div>"
      ],
      "text/plain": [
       "        ATM_ID           ADR              DT_INS\n",
       "0            1  Заречная, 16 2019-10-19 21:37:00\n",
       "1            1  Заречная, 20 2019-11-22 20:53:48\n",
       "2            1  Заречная, 21 2019-11-02 22:05:48\n",
       "3            1   Зеленая, 16 2019-10-27 06:58:36\n",
       "4            1   Зеленая, 26 2019-11-26 22:05:48\n",
       "...        ...           ...                 ...\n",
       "999995   39910     Новая, 14 2019-11-18 14:10:36\n",
       "999996   39916   Садовая, 28 2019-09-12 19:13:00\n",
       "999997   39917   Садовая, 27 2019-11-11 12:15:24\n",
       "999998   39919    Мятная, 23 2019-11-01 21:08:12\n",
       "999999   39946     Лесная, 2 2019-11-16 11:17:48\n",
       "\n",
       "[1000000 rows x 3 columns]"
      ]
     },
     "execution_count": 12,
     "metadata": {},
     "output_type": "execute_result"
    }
   ],
   "source": [
    "task2_data = pd.read_csv('~/!Tests/task2_data.csv', sep=';', parse_dates=['DT_INS']).drop(columns=['Unnamed: 0'])\n",
    "task2_data"
   ]
  },
  {
   "cell_type": "markdown",
   "metadata": {},
   "source": [
    "Сформируем отчет."
   ]
  },
  {
   "cell_type": "code",
   "execution_count": 23,
   "metadata": {},
   "outputs": [
    {
     "name": "stderr",
     "output_type": "stream",
     "text": [
      "C:\\Games\\Anaconda\\Anaconda installed\\lib\\site-packages\\pandas\\core\\frame.py:3607: SettingWithCopyWarning: \n",
      "A value is trying to be set on a copy of a slice from a DataFrame.\n",
      "Try using .loc[row_indexer,col_indexer] = value instead\n",
      "\n",
      "See the caveats in the documentation: https://pandas.pydata.org/pandas-docs/stable/user_guide/indexing.html#returning-a-view-versus-a-copy\n",
      "  self._set_item(key, value)\n"
     ]
    },
    {
     "data": {
      "text/html": [
       "<div>\n",
       "<style scoped>\n",
       "    .dataframe tbody tr th:only-of-type {\n",
       "        vertical-align: middle;\n",
       "    }\n",
       "\n",
       "    .dataframe tbody tr th {\n",
       "        vertical-align: top;\n",
       "    }\n",
       "\n",
       "    .dataframe thead th {\n",
       "        text-align: right;\n",
       "    }\n",
       "</style>\n",
       "<table border=\"1\" class=\"dataframe\">\n",
       "  <thead>\n",
       "    <tr style=\"text-align: right;\">\n",
       "      <th></th>\n",
       "      <th>ATM_ID</th>\n",
       "      <th>ADR</th>\n",
       "      <th>DT_INS</th>\n",
       "    </tr>\n",
       "  </thead>\n",
       "  <tbody>\n",
       "    <tr>\n",
       "      <th>7</th>\n",
       "      <td>1</td>\n",
       "      <td>Лазо, 20</td>\n",
       "      <td>2019-12-26 12:58:36</td>\n",
       "    </tr>\n",
       "    <tr>\n",
       "      <th>48</th>\n",
       "      <td>2</td>\n",
       "      <td>Заречная, 13</td>\n",
       "      <td>2019-12-31 02:39:24</td>\n",
       "    </tr>\n",
       "    <tr>\n",
       "      <th>152</th>\n",
       "      <td>3</td>\n",
       "      <td>Зеленая, 1</td>\n",
       "      <td>2019-12-28 18:58:36</td>\n",
       "    </tr>\n",
       "    <tr>\n",
       "      <th>312</th>\n",
       "      <td>4</td>\n",
       "      <td>Ромашковая, 10</td>\n",
       "      <td>2019-12-31 04:20:12</td>\n",
       "    </tr>\n",
       "    <tr>\n",
       "      <th>362</th>\n",
       "      <td>5</td>\n",
       "      <td>Ленина, 28</td>\n",
       "      <td>2019-12-29 07:13:00</td>\n",
       "    </tr>\n",
       "    <tr>\n",
       "      <th>452</th>\n",
       "      <td>6</td>\n",
       "      <td>Лазо, 21</td>\n",
       "      <td>2019-12-29 13:41:48</td>\n",
       "    </tr>\n",
       "    <tr>\n",
       "      <th>616</th>\n",
       "      <td>7</td>\n",
       "      <td>Ромашковая, 22</td>\n",
       "      <td>2019-12-29 01:56:12</td>\n",
       "    </tr>\n",
       "    <tr>\n",
       "      <th>664</th>\n",
       "      <td>8</td>\n",
       "      <td>Лазо, 14</td>\n",
       "      <td>2019-12-31 04:34:36</td>\n",
       "    </tr>\n",
       "    <tr>\n",
       "      <th>791</th>\n",
       "      <td>9</td>\n",
       "      <td>Победы, 15</td>\n",
       "      <td>2019-12-31 12:29:48</td>\n",
       "    </tr>\n",
       "    <tr>\n",
       "      <th>824</th>\n",
       "      <td>10</td>\n",
       "      <td>Заречная, 20</td>\n",
       "      <td>2019-12-31 12:44:12</td>\n",
       "    </tr>\n",
       "  </tbody>\n",
       "</table>\n",
       "</div>"
      ],
      "text/plain": [
       "     ATM_ID             ADR              DT_INS\n",
       "7         1        Лазо, 20 2019-12-26 12:58:36\n",
       "48        2    Заречная, 13 2019-12-31 02:39:24\n",
       "152       3      Зеленая, 1 2019-12-28 18:58:36\n",
       "312       4  Ромашковая, 10 2019-12-31 04:20:12\n",
       "362       5      Ленина, 28 2019-12-29 07:13:00\n",
       "452       6        Лазо, 21 2019-12-29 13:41:48\n",
       "616       7  Ромашковая, 22 2019-12-29 01:56:12\n",
       "664       8        Лазо, 14 2019-12-31 04:34:36\n",
       "791       9      Победы, 15 2019-12-31 12:29:48\n",
       "824      10    Заречная, 20 2019-12-31 12:44:12"
      ]
     },
     "execution_count": 23,
     "metadata": {},
     "output_type": "execute_result"
    }
   ],
   "source": [
    "#оставим только строки до отчетной даты\n",
    "report = task2_data.query('DT_INS < @pd.to_datetime(\"2020-01-01\")')\n",
    "#подтянем адрес предыдущего положения банкомата по времени по каждому id банкомата отдельно\n",
    "report['ADR_prev'] = report.sort_values('DT_INS').groupby('ATM_ID')['ADR'].shift(1)\n",
    "#исключим строки, текущий и предыдущий адрес по которым совпадает\n",
    "report = report.query('ADR != ADR_prev or ADR_prev != ADR_prev')\n",
    "#отранжируем по времени в обратном порядке и удалим дубликаты по ATM_ID\n",
    "report = report.sort_values('DT_INS', ascending=0).drop_duplicates(subset='ATM_ID')\n",
    "#получим итоговый отчет\n",
    "report.drop(columns=['ADR_prev']).sort_values('ATM_ID').head(10)"
   ]
  },
  {
   "cell_type": "markdown",
   "metadata": {},
   "source": [
    "Проверка:"
   ]
  },
  {
   "cell_type": "code",
   "execution_count": 22,
   "metadata": {},
   "outputs": [
    {
     "data": {
      "text/plain": [
       "38206"
      ]
     },
     "execution_count": 22,
     "metadata": {},
     "output_type": "execute_result"
    }
   ],
   "source": [
    "task2_data.query('DT_INS < @pd.to_datetime(\"2020-01-01\")')['ATM_ID'].nunique()"
   ]
  },
  {
   "cell_type": "code",
   "execution_count": 24,
   "metadata": {},
   "outputs": [
    {
     "data": {
      "text/plain": [
       "38206"
      ]
     },
     "execution_count": 24,
     "metadata": {},
     "output_type": "execute_result"
    }
   ],
   "source": [
    "report['ATM_ID'].nunique()"
   ]
  },
  {
   "cell_type": "markdown",
   "metadata": {},
   "source": [
    "Все ок."
   ]
  }
 ],
 "metadata": {
  "kernelspec": {
   "display_name": "Python 3",
   "language": "python",
   "name": "python3"
  },
  "language_info": {
   "codemirror_mode": {
    "name": "ipython",
    "version": 3
   },
   "file_extension": ".py",
   "mimetype": "text/x-python",
   "name": "python",
   "nbconvert_exporter": "python",
   "pygments_lexer": "ipython3",
   "version": "3.8.5"
  }
 },
 "nbformat": 4,
 "nbformat_minor": 4
}

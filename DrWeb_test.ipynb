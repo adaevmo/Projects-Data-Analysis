{
 "cells": [
  {
   "cell_type": "markdown",
   "metadata": {},
   "source": [
    "### Данные\n",
    "\n",
    "Есть данные Яндекс.Афиши с июня 2017 по конец мая 2018 года:\n",
    "   - лог сервера с данными о посещениях сайта Яндекс.Афиши (visits_log)\n",
    "   - выгрузка всех заказов за этот период (orders_log)\n",
    "   - статистика рекламных расходов (costs)."
   ]
  },
  {
   "cell_type": "markdown",
   "metadata": {},
   "source": [
    "### Вопросы\n",
    "\n",
    "1) На какой источник было потрачено больше всего денег за год?\\\n",
    "2) Найти средний LTV пользователей, которые впервые пришли до декабря 2017 года.\\\n",
    "3) Какая кагорта (по месяцам первого посещения) принесла больше всего\n",
    "денег за полгода жизни?"
   ]
  },
  {
   "cell_type": "markdown",
   "metadata": {},
   "source": [
    "### Содержание проекта\n",
    "\n",
    "0\\. Предобработка и иссследование данных (EDA)\\\n",
    "**1\\. Вопрос 1\\\n",
    "2\\. Вопрос 2**\\\n",
    "2\\.1. Подход 1\\\n",
    "2\\.2. Подход 2\\\n",
    "**3\\. Вопрос 3**"
   ]
  },
  {
   "cell_type": "markdown",
   "metadata": {},
   "source": [
    "## 0. Предобработка и иссследование данных (EDA)"
   ]
  },
  {
   "cell_type": "code",
   "execution_count": 1,
   "metadata": {},
   "outputs": [],
   "source": [
    "import pandas as pd \n",
    "import numpy as np\n",
    "import datetime as dt\n",
    "import seaborn as sns\n",
    "import matplotlib.pyplot as plt\n",
    "import random\n",
    "import textwrap\n",
    "%matplotlib inline"
   ]
  },
  {
   "cell_type": "code",
   "execution_count": 2,
   "metadata": {},
   "outputs": [],
   "source": [
    "visits_log = pd.read_csv('~\\\\visits_log.csv')\n",
    "orders_log = pd.read_csv('~\\\\orders_log.csv')\n",
    "costs = pd.read_csv('~\\\\costs.csv')"
   ]
  },
  {
   "cell_type": "code",
   "execution_count": 3,
   "metadata": {},
   "outputs": [
    {
     "data": {
      "text/html": [
       "<div>\n",
       "<style scoped>\n",
       "    .dataframe tbody tr th:only-of-type {\n",
       "        vertical-align: middle;\n",
       "    }\n",
       "\n",
       "    .dataframe tbody tr th {\n",
       "        vertical-align: top;\n",
       "    }\n",
       "\n",
       "    .dataframe thead th {\n",
       "        text-align: right;\n",
       "    }\n",
       "</style>\n",
       "<table border=\"1\" class=\"dataframe\">\n",
       "  <thead>\n",
       "    <tr style=\"text-align: right;\">\n",
       "      <th></th>\n",
       "      <th>Device</th>\n",
       "      <th>End Ts</th>\n",
       "      <th>Source Id</th>\n",
       "      <th>Start Ts</th>\n",
       "      <th>Uid</th>\n",
       "    </tr>\n",
       "  </thead>\n",
       "  <tbody>\n",
       "    <tr>\n",
       "      <th>0</th>\n",
       "      <td>touch</td>\n",
       "      <td>2017-12-20 17:38:00</td>\n",
       "      <td>4</td>\n",
       "      <td>2017-12-20 17:20:00</td>\n",
       "      <td>16879256277535980062</td>\n",
       "    </tr>\n",
       "    <tr>\n",
       "      <th>1</th>\n",
       "      <td>desktop</td>\n",
       "      <td>2018-02-19 17:21:00</td>\n",
       "      <td>2</td>\n",
       "      <td>2018-02-19 16:53:00</td>\n",
       "      <td>104060357244891740</td>\n",
       "    </tr>\n",
       "    <tr>\n",
       "      <th>2</th>\n",
       "      <td>touch</td>\n",
       "      <td>2017-07-01 01:54:00</td>\n",
       "      <td>5</td>\n",
       "      <td>2017-07-01 01:54:00</td>\n",
       "      <td>7459035603376831527</td>\n",
       "    </tr>\n",
       "  </tbody>\n",
       "</table>\n",
       "</div>"
      ],
      "text/plain": [
       "    Device               End Ts  Source Id             Start Ts  \\\n",
       "0    touch  2017-12-20 17:38:00          4  2017-12-20 17:20:00   \n",
       "1  desktop  2018-02-19 17:21:00          2  2018-02-19 16:53:00   \n",
       "2    touch  2017-07-01 01:54:00          5  2017-07-01 01:54:00   \n",
       "\n",
       "                    Uid  \n",
       "0  16879256277535980062  \n",
       "1    104060357244891740  \n",
       "2   7459035603376831527  "
      ]
     },
     "execution_count": 3,
     "metadata": {},
     "output_type": "execute_result"
    }
   ],
   "source": [
    "visits_log.head(3)"
   ]
  },
  {
   "cell_type": "code",
   "execution_count": 4,
   "metadata": {},
   "outputs": [
    {
     "data": {
      "text/html": [
       "<div>\n",
       "<style scoped>\n",
       "    .dataframe tbody tr th:only-of-type {\n",
       "        vertical-align: middle;\n",
       "    }\n",
       "\n",
       "    .dataframe tbody tr th {\n",
       "        vertical-align: top;\n",
       "    }\n",
       "\n",
       "    .dataframe thead th {\n",
       "        text-align: right;\n",
       "    }\n",
       "</style>\n",
       "<table border=\"1\" class=\"dataframe\">\n",
       "  <thead>\n",
       "    <tr style=\"text-align: right;\">\n",
       "      <th></th>\n",
       "      <th>Buy Ts</th>\n",
       "      <th>Revenue</th>\n",
       "      <th>Uid</th>\n",
       "    </tr>\n",
       "  </thead>\n",
       "  <tbody>\n",
       "    <tr>\n",
       "      <th>0</th>\n",
       "      <td>2017-06-01 00:10:00</td>\n",
       "      <td>17.00</td>\n",
       "      <td>10329302124590727494</td>\n",
       "    </tr>\n",
       "    <tr>\n",
       "      <th>1</th>\n",
       "      <td>2017-06-01 00:25:00</td>\n",
       "      <td>0.55</td>\n",
       "      <td>11627257723692907447</td>\n",
       "    </tr>\n",
       "    <tr>\n",
       "      <th>2</th>\n",
       "      <td>2017-06-01 00:27:00</td>\n",
       "      <td>0.37</td>\n",
       "      <td>17903680561304213844</td>\n",
       "    </tr>\n",
       "  </tbody>\n",
       "</table>\n",
       "</div>"
      ],
      "text/plain": [
       "                Buy Ts  Revenue                   Uid\n",
       "0  2017-06-01 00:10:00    17.00  10329302124590727494\n",
       "1  2017-06-01 00:25:00     0.55  11627257723692907447\n",
       "2  2017-06-01 00:27:00     0.37  17903680561304213844"
      ]
     },
     "execution_count": 4,
     "metadata": {},
     "output_type": "execute_result"
    }
   ],
   "source": [
    "orders_log.head(3)"
   ]
  },
  {
   "cell_type": "code",
   "execution_count": 5,
   "metadata": {},
   "outputs": [
    {
     "data": {
      "text/html": [
       "<div>\n",
       "<style scoped>\n",
       "    .dataframe tbody tr th:only-of-type {\n",
       "        vertical-align: middle;\n",
       "    }\n",
       "\n",
       "    .dataframe tbody tr th {\n",
       "        vertical-align: top;\n",
       "    }\n",
       "\n",
       "    .dataframe thead th {\n",
       "        text-align: right;\n",
       "    }\n",
       "</style>\n",
       "<table border=\"1\" class=\"dataframe\">\n",
       "  <thead>\n",
       "    <tr style=\"text-align: right;\">\n",
       "      <th></th>\n",
       "      <th>source_id</th>\n",
       "      <th>dt</th>\n",
       "      <th>costs</th>\n",
       "    </tr>\n",
       "  </thead>\n",
       "  <tbody>\n",
       "    <tr>\n",
       "      <th>0</th>\n",
       "      <td>1</td>\n",
       "      <td>2017-06-01</td>\n",
       "      <td>75.20</td>\n",
       "    </tr>\n",
       "    <tr>\n",
       "      <th>1</th>\n",
       "      <td>1</td>\n",
       "      <td>2017-06-02</td>\n",
       "      <td>62.25</td>\n",
       "    </tr>\n",
       "    <tr>\n",
       "      <th>2</th>\n",
       "      <td>1</td>\n",
       "      <td>2017-06-03</td>\n",
       "      <td>36.53</td>\n",
       "    </tr>\n",
       "  </tbody>\n",
       "</table>\n",
       "</div>"
      ],
      "text/plain": [
       "   source_id          dt  costs\n",
       "0          1  2017-06-01  75.20\n",
       "1          1  2017-06-02  62.25\n",
       "2          1  2017-06-03  36.53"
      ]
     },
     "execution_count": 5,
     "metadata": {},
     "output_type": "execute_result"
    }
   ],
   "source": [
    "costs.head(3)"
   ]
  },
  {
   "cell_type": "code",
   "execution_count": 6,
   "metadata": {},
   "outputs": [
    {
     "name": "stdout",
     "output_type": "stream",
     "text": [
      "<class 'pandas.core.frame.DataFrame'>\n",
      "RangeIndex: 359400 entries, 0 to 359399\n",
      "Data columns (total 5 columns):\n",
      " #   Column     Non-Null Count   Dtype \n",
      "---  ------     --------------   ----- \n",
      " 0   Device     359400 non-null  object\n",
      " 1   End Ts     359400 non-null  object\n",
      " 2   Source Id  359400 non-null  int64 \n",
      " 3   Start Ts   359400 non-null  object\n",
      " 4   Uid        359400 non-null  uint64\n",
      "dtypes: int64(1), object(3), uint64(1)\n",
      "memory usage: 13.7+ MB\n",
      "None \n",
      "\n",
      "<class 'pandas.core.frame.DataFrame'>\n",
      "RangeIndex: 50415 entries, 0 to 50414\n",
      "Data columns (total 3 columns):\n",
      " #   Column   Non-Null Count  Dtype  \n",
      "---  ------   --------------  -----  \n",
      " 0   Buy Ts   50415 non-null  object \n",
      " 1   Revenue  50415 non-null  float64\n",
      " 2   Uid      50415 non-null  uint64 \n",
      "dtypes: float64(1), object(1), uint64(1)\n",
      "memory usage: 1.2+ MB\n",
      "None \n",
      "\n",
      "<class 'pandas.core.frame.DataFrame'>\n",
      "RangeIndex: 2542 entries, 0 to 2541\n",
      "Data columns (total 3 columns):\n",
      " #   Column     Non-Null Count  Dtype  \n",
      "---  ------     --------------  -----  \n",
      " 0   source_id  2542 non-null   int64  \n",
      " 1   dt         2542 non-null   object \n",
      " 2   costs      2542 non-null   float64\n",
      "dtypes: float64(1), int64(1), object(1)\n",
      "memory usage: 59.7+ KB\n",
      "None \n",
      "\n"
     ]
    }
   ],
   "source": [
    "datasets = [visits_log,orders_log,costs]\n",
    "for df in datasets:\n",
    "    print(df.info(), '\\n')"
   ]
  },
  {
   "cell_type": "markdown",
   "metadata": {},
   "source": [
    "Приведем даты к корректному формату"
   ]
  },
  {
   "cell_type": "code",
   "execution_count": 7,
   "metadata": {},
   "outputs": [],
   "source": [
    "for df in datasets:\n",
    "    for col in list(df.columns):\n",
    "        if ('Ts' in col) + ('dt' in col) > 0:\n",
    "            df[col] = pd.to_datetime(df[col])"
   ]
  },
  {
   "cell_type": "markdown",
   "metadata": {},
   "source": [
    "Также приведеим Uid пользователей к строковому виду и переименуем столбцы для удобства последующих джойнов."
   ]
  },
  {
   "cell_type": "code",
   "execution_count": 8,
   "metadata": {},
   "outputs": [],
   "source": [
    "visits_log = visits_log.astype({'Uid':'str'}).rename(columns={'Source Id':'source_id'})\n",
    "orders_log = orders_log.astype({'Uid':'str'})"
   ]
  },
  {
   "cell_type": "markdown",
   "metadata": {},
   "source": [
    "Отсортируем все датасеты в хронологическом порядке."
   ]
  },
  {
   "cell_type": "code",
   "execution_count": 9,
   "metadata": {},
   "outputs": [],
   "source": [
    "visits_log = visits_log.sort_values('Start Ts', ignore_index=1)\n",
    "orders_log = orders_log.sort_values('Buy Ts', ignore_index=1)\n",
    "costs = costs.sort_values(['dt', 'source_id'], ignore_index=1)"
   ]
  },
  {
   "cell_type": "code",
   "execution_count": 10,
   "metadata": {},
   "outputs": [
    {
     "name": "stdout",
     "output_type": "stream",
     "text": [
      "<class 'pandas.core.frame.DataFrame'>\n",
      "RangeIndex: 359400 entries, 0 to 359399\n",
      "Data columns (total 5 columns):\n",
      " #   Column     Non-Null Count   Dtype         \n",
      "---  ------     --------------   -----         \n",
      " 0   Device     359400 non-null  object        \n",
      " 1   End Ts     359400 non-null  datetime64[ns]\n",
      " 2   source_id  359400 non-null  int64         \n",
      " 3   Start Ts   359400 non-null  datetime64[ns]\n",
      " 4   Uid        359400 non-null  object        \n",
      "dtypes: datetime64[ns](2), int64(1), object(2)\n",
      "memory usage: 13.7+ MB\n",
      "None \n",
      "\n",
      "<class 'pandas.core.frame.DataFrame'>\n",
      "RangeIndex: 50415 entries, 0 to 50414\n",
      "Data columns (total 3 columns):\n",
      " #   Column   Non-Null Count  Dtype         \n",
      "---  ------   --------------  -----         \n",
      " 0   Buy Ts   50415 non-null  datetime64[ns]\n",
      " 1   Revenue  50415 non-null  float64       \n",
      " 2   Uid      50415 non-null  object        \n",
      "dtypes: datetime64[ns](1), float64(1), object(1)\n",
      "memory usage: 1.2+ MB\n",
      "None \n",
      "\n",
      "<class 'pandas.core.frame.DataFrame'>\n",
      "RangeIndex: 2542 entries, 0 to 2541\n",
      "Data columns (total 3 columns):\n",
      " #   Column     Non-Null Count  Dtype         \n",
      "---  ------     --------------  -----         \n",
      " 0   source_id  2542 non-null   int64         \n",
      " 1   dt         2542 non-null   datetime64[ns]\n",
      " 2   costs      2542 non-null   float64       \n",
      "dtypes: datetime64[ns](1), float64(1), int64(1)\n",
      "memory usage: 59.7 KB\n",
      "None \n",
      "\n"
     ]
    }
   ],
   "source": [
    "datasets = [visits_log,orders_log,costs]\n",
    "for df in datasets:\n",
    "    print(df.info(), '\\n')"
   ]
  },
  {
   "cell_type": "code",
   "execution_count": 11,
   "metadata": {},
   "outputs": [
    {
     "name": "stdout",
     "output_type": "stream",
     "text": [
      "                              End Ts  source_id                       Start Ts\n",
      "count                         359400   359400.0                         359400\n",
      "mean   2017-12-18 06:28:15.036205056        3.8  2017-12-18 06:17:32.010517760\n",
      "min              2017-06-01 00:02:00        1.0            2017-06-01 00:01:00\n",
      "25%              2017-10-15 09:45:45        3.0            2017-10-15 09:41:00\n",
      "50%              2017-12-18 18:59:30        4.0            2017-12-18 18:46:00\n",
      "75%              2018-02-28 10:08:15        5.0            2018-02-28 09:54:00\n",
      "max              2018-06-01 01:26:00       10.0            2018-05-31 23:59:00\n",
      "std                              NaN        1.9                            NaN \n",
      "\n",
      "                              Buy Ts  Revenue\n",
      "count                          50415  50415.0\n",
      "mean   2017-12-20 05:14:24.846176768      5.0\n",
      "min              2017-06-01 00:10:00      0.0\n",
      "25%              2017-10-13 17:28:00      1.2\n",
      "50%              2017-12-21 14:12:00      2.5\n",
      "75%              2018-03-02 16:10:00      4.9\n",
      "max              2018-06-01 00:02:00   2633.3\n",
      "std                              NaN     21.8 \n",
      "\n",
      "       source_id                             dt   costs\n",
      "count     2542.0                           2542  2542.0\n",
      "mean         4.9  2017-11-29 09:04:57.403619072   129.5\n",
      "min          1.0            2017-06-01 00:00:00     0.5\n",
      "25%          2.0            2017-08-30 00:00:00    21.9\n",
      "50%          4.0            2017-11-29 00:00:00    77.3\n",
      "75%          9.0            2018-02-28 00:00:00   170.1\n",
      "max         10.0            2018-05-31 00:00:00  1788.3\n",
      "std          3.2                            NaN   156.3 \n",
      "\n"
     ]
    }
   ],
   "source": [
    "for df in datasets:\n",
    "    print(df.describe(datetime_is_numeric=True).round(1), '\\n')"
   ]
  },
  {
   "cell_type": "markdown",
   "metadata": {},
   "source": [
    "Половина пользователей тратит на афише не более 2.5 долл. (около 150 руб.), 75% - не более 4.9 долл. (около 300 р.) Это комиссия Афиши за оплату мероприятий партнеров, которая в это время составляла 10% стоимости билета. При таком раскладе цифры вполне реальные.\n",
    "\n",
    "Однако, судя по максимальному значению, есть выбросы."
   ]
  },
  {
   "cell_type": "markdown",
   "metadata": {},
   "source": [
    "Рассмотрим распределение размеров платежей подробнее"
   ]
  },
  {
   "cell_type": "code",
   "execution_count": 12,
   "metadata": {},
   "outputs": [
    {
     "data": {
      "image/png": "[encoded data removed]",
      "text/plain": [
       "<Figure size 1080x360 with 1 Axes>"
      ]
     },
     "metadata": {
      "needs_background": "light"
     },
     "output_type": "display_data"
    }
   ],
   "source": [
    "plt.figure(figsize=(15,5))\n",
    "sns.histplot(data = orders_log,x = 'Revenue')\n",
    "plt.title('Распределение по размеру платежей', pad=15)\n",
    "plt.show()"
   ]
  },
  {
   "cell_type": "markdown",
   "metadata": {},
   "source": [
    "Ограничимся платежами до 50 долл."
   ]
  },
  {
   "cell_type": "code",
   "execution_count": 13,
   "metadata": {},
   "outputs": [
    {
     "data": {
      "image/png": "[encoded data removed]",
      "text/plain": [
       "<Figure size 1080x360 with 1 Axes>"
      ]
     },
     "metadata": {
      "needs_background": "light"
     },
     "output_type": "display_data"
    }
   ],
   "source": [
    "plt.figure(figsize=(15,5))\n",
    "sns.histplot(data = orders_log.query('Revenue < 50'), x = 'Revenue')\n",
    "plt.title('Распределение по размеру платежей < 50 долл.', pad=15)\n",
    "plt.xticks(range(0,51))\n",
    "plt.show()"
   ]
  },
  {
   "cell_type": "markdown",
   "metadata": {},
   "source": [
    "На распределении наглядно видно, что абсолютное число платежей не превышают 10 долл."
   ]
  },
  {
   "cell_type": "markdown",
   "metadata": {},
   "source": [
    "В логах платежей есть нулевые суммы, рассмотрим их подробнее"
   ]
  },
  {
   "cell_type": "code",
   "execution_count": 14,
   "metadata": {},
   "outputs": [
    {
     "data": {
      "text/plain": [
       "51"
      ]
     },
     "execution_count": 14,
     "metadata": {},
     "output_type": "execute_result"
    }
   ],
   "source": [
    "orders_log.query('Revenue == 0').shape[0]"
   ]
  },
  {
   "cell_type": "code",
   "execution_count": 15,
   "metadata": {},
   "outputs": [
    {
     "data": {
      "image/png": "[encoded data removed]",
      "text/plain": [
       "<Figure size 1080x360 with 1 Axes>"
      ]
     },
     "metadata": {
      "needs_background": "light"
     },
     "output_type": "display_data"
    }
   ],
   "source": [
    "plt.figure(figsize=(15,5))\n",
    "sns.histplot(data = orders_log.query('Revenue == 0'),x = 'Buy Ts', binwidth=7)\\\n",
    ".set_title('Размер платежа 0.0', pad=15)\n",
    "plt.xticks(pd.date_range('2017-06-01', '2018-06-01', freq='M'), rotation=45)\n",
    "plt.show()"
   ]
  },
  {
   "cell_type": "code",
   "execution_count": 16,
   "metadata": {},
   "outputs": [
    {
     "data": {
      "text/plain": [
       "2017-11-30    6\n",
       "2017-12-01    6\n",
       "2017-11-28    5\n",
       "2018-04-21    4\n",
       "2017-12-02    3\n",
       "Name: Buy Ts, dtype: int64"
      ]
     },
     "execution_count": 16,
     "metadata": {},
     "output_type": "execute_result"
    }
   ],
   "source": [
    "orders_log.query('Revenue == 0')['Buy Ts'].dt.date.value_counts().head(5)"
   ]
  },
  {
   "cell_type": "markdown",
   "metadata": {},
   "source": [
    "Большая часть нулевых платежей была совершена в последнюю неделю ноября - первую неделю декабря 2017.\\\n",
    "24 ноября 2017 была Черная пятница, скорее всего клиенты реализовали свои скидочные купоны или другие предложения от Яндекса с ограниченным сроком (неделя).\n",
    "\n",
    "Запомним эту особенность данных."
   ]
  },
  {
   "cell_type": "markdown",
   "metadata": {},
   "source": [
    "Рассмотрим самые популярные размеры платежей"
   ]
  },
  {
   "cell_type": "code",
   "execution_count": 17,
   "metadata": {},
   "outputs": [
    {
     "data": {
      "text/plain": [
       "1.83    5.1%\n",
       "2.44    4.9%\n",
       "3.67    4.8%\n",
       "1.22    4.4%\n",
       "3.05    4.0%\n",
       "4.89    3.3%\n",
       "0.61    2.6%\n",
       "4.28    2.4%\n",
       "6.11    2.3%\n",
       "7.33    2.3%\n",
       "Name: Revenue, dtype: object"
      ]
     },
     "execution_count": 17,
     "metadata": {},
     "output_type": "execute_result"
    }
   ],
   "source": [
    "orders_log.Revenue.value_counts(normalize=1).mul(100).round(1).head(10).apply(str) + '%'"
   ]
  },
  {
   "cell_type": "markdown",
   "metadata": {},
   "source": [
    "Некоторые размеры платежей составляют существенную часть всего массива. Это объясняется наличием популярных \"круглых\" цен на билет и фиксированной ставкой комиссии."
   ]
  },
  {
   "cell_type": "markdown",
   "metadata": {},
   "source": [
    "Сопоставим пользователей в датасетах по визитам и оплатам"
   ]
  },
  {
   "cell_type": "code",
   "execution_count": 18,
   "metadata": {},
   "outputs": [
    {
     "name": "stdout",
     "output_type": "stream",
     "text": [
      "Количество уникальных пользователей, которые есть в обоих датасетах: 36523\n",
      "Количество уникальных пользователей, которые есть в orders_log: 36523\n",
      "Количество уникальных пользователей, которые есть в orders_log, но нет в visits_log: 0\n",
      "Количество уникальных пользователей, которые есть в visits_log, но нет в orders_log: 191646\n"
     ]
    }
   ],
   "source": [
    "print(f\"Количество уникальных пользователей, которые есть в обоих датасетах: \\\n",
    "{len(set(visits_log['Uid'].unique()).intersection(set(orders_log['Uid'].unique())))}\")\n",
    "\n",
    "print(f\"Количество уникальных пользователей, которые есть в orders_log: \\\n",
    "{len(orders_log['Uid'].unique())}\")\n",
    "\n",
    "print(f\"Количество уникальных пользователей, которые есть в orders_log, но нет в visits_log: \\\n",
    "{len(set(orders_log['Uid'].unique()).difference(set(visits_log['Uid'].unique())))}\")\n",
    "\n",
    "print(f\"Количество уникальных пользователей, которые есть в visits_log, но нет в orders_log: \\\n",
    "{len(set(visits_log['Uid'].unique()).difference(set(orders_log['Uid'].unique())))}\")"
   ]
  },
  {
   "cell_type": "markdown",
   "metadata": {},
   "source": [
    "Все в порядке, все платящие пользователи есть в датасете по визитам."
   ]
  },
  {
   "cell_type": "markdown",
   "metadata": {},
   "source": [
    "Рассмотрим динамику посещений и оплат по времени."
   ]
  },
  {
   "cell_type": "code",
   "execution_count": 19,
   "metadata": {},
   "outputs": [
    {
     "data": {
      "text/plain": [
       "(Timestamp('2017-06-01 00:01:00'), Timestamp('2018-06-01 00:02:00'))"
      ]
     },
     "execution_count": 19,
     "metadata": {},
     "output_type": "execute_result"
    }
   ],
   "source": [
    "(min(visits_log['Start Ts'].min(), orders_log['Buy Ts'].min()),\n",
    "min(visits_log['End Ts'].max(), orders_log['Buy Ts'].max()))"
   ]
  },
  {
   "cell_type": "code",
   "execution_count": 20,
   "metadata": {},
   "outputs": [
    {
     "data": {
      "image/png": "[encoded data removed]",
      "text/plain": [
       "<Figure size 1080x360 with 1 Axes>"
      ]
     },
     "metadata": {
      "needs_background": "light"
     },
     "output_type": "display_data"
    }
   ],
   "source": [
    "plt.figure(figsize=(15,5))\n",
    "sns.histplot(data = visits_log, x = 'Start Ts', binwidth=7)\n",
    "sns.histplot(data = orders_log, x = 'Buy Ts', binwidth=7, color='tab:orange')\n",
    "plt.title('Распределение посещений и оплат по времени', pad=15)\n",
    "plt.xticks(pd.date_range('2017-06-01', '2018-06-01', freq='M'), rotation=45)\n",
    "plt.show()"
   ]
  },
  {
   "cell_type": "markdown",
   "metadata": {},
   "source": [
    "Платежи осуществлялись примерно пропорционально количеству визитов."
   ]
  },
  {
   "cell_type": "markdown",
   "metadata": {},
   "source": [
    "Рассмотрим статистику по числу уникальных пользователей по месяцам."
   ]
  },
  {
   "cell_type": "markdown",
   "metadata": {},
   "source": [
    "### !!! Добавить новых пользователей"
   ]
  },
  {
   "cell_type": "code",
   "execution_count": 21,
   "metadata": {},
   "outputs": [
    {
     "data": {
      "image/png": "[encoded data removed]",
      "text/plain": [
       "<Figure size 1080x360 with 1 Axes>"
      ]
     },
     "metadata": {
      "needs_background": "light"
     },
     "output_type": "display_data"
    }
   ],
   "source": [
    "visits_log.groupby(visits_log['Start Ts'].dt.to_period('M')).agg({'Uid':'nunique'})\\\n",
    ".plot(kind='bar', width=0.8, color='tab:cyan', figsize=(15,5))\\\n",
    ".set_title('Распределение кол-ва уникальных пользователей по месяцам', pad=10)\n",
    "plt.legend().remove()\n",
    "plt.xticks(rotation=0)\n",
    "plt.xlabel('')\n",
    "plt.show()"
   ]
  },
  {
   "cell_type": "markdown",
   "metadata": {},
   "source": [
    "В плане количества уникальных пользователей все ожидаемо - крупные города с большим количеством мест для досуга пустеют в летние месяцы из-за отпусков, каникул и тд., это напрямую влияет на количество пользователей Афиши."
   ]
  },
  {
   "cell_type": "markdown",
   "metadata": {},
   "source": [
    "Рассмотрим распределение пользователей по времени, проведенному на сайте."
   ]
  },
  {
   "cell_type": "code",
   "execution_count": 22,
   "metadata": {},
   "outputs": [
    {
     "data": {
      "text/plain": [
       "0.00    -46.0\n",
       "0.50      5.0\n",
       "0.95     38.0\n",
       "1.00    711.0\n",
       "dtype: float64"
      ]
     },
     "execution_count": 22,
     "metadata": {},
     "output_type": "execute_result"
    }
   ],
   "source": [
    "((visits_log['End Ts'] - visits_log['Start Ts']).dt.total_seconds() / 60).quantile([0,0.5,0.95,1])"
   ]
  },
  {
   "cell_type": "code",
   "execution_count": 23,
   "metadata": {},
   "outputs": [
    {
     "data": {
      "text/html": [
       "<div>\n",
       "<style scoped>\n",
       "    .dataframe tbody tr th:only-of-type {\n",
       "        vertical-align: middle;\n",
       "    }\n",
       "\n",
       "    .dataframe tbody tr th {\n",
       "        vertical-align: top;\n",
       "    }\n",
       "\n",
       "    .dataframe thead th {\n",
       "        text-align: right;\n",
       "    }\n",
       "</style>\n",
       "<table border=\"1\" class=\"dataframe\">\n",
       "  <thead>\n",
       "    <tr style=\"text-align: right;\">\n",
       "      <th></th>\n",
       "      <th>Device</th>\n",
       "      <th>End Ts</th>\n",
       "      <th>source_id</th>\n",
       "      <th>Start Ts</th>\n",
       "      <th>Uid</th>\n",
       "    </tr>\n",
       "  </thead>\n",
       "  <tbody>\n",
       "    <tr>\n",
       "      <th>298796</th>\n",
       "      <td>desktop</td>\n",
       "      <td>2018-03-25 03:18:00</td>\n",
       "      <td>3</td>\n",
       "      <td>2018-03-25 03:50:00</td>\n",
       "      <td>13092152539246794986</td>\n",
       "    </tr>\n",
       "    <tr>\n",
       "      <th>298797</th>\n",
       "      <td>desktop</td>\n",
       "      <td>2018-03-25 03:09:00</td>\n",
       "      <td>9</td>\n",
       "      <td>2018-03-25 03:55:00</td>\n",
       "      <td>4621202742905035453</td>\n",
       "    </tr>\n",
       "  </tbody>\n",
       "</table>\n",
       "</div>"
      ],
      "text/plain": [
       "         Device              End Ts  source_id            Start Ts  \\\n",
       "298796  desktop 2018-03-25 03:18:00          3 2018-03-25 03:50:00   \n",
       "298797  desktop 2018-03-25 03:09:00          9 2018-03-25 03:55:00   \n",
       "\n",
       "                         Uid  \n",
       "298796  13092152539246794986  \n",
       "298797   4621202742905035453  "
      ]
     },
     "execution_count": 23,
     "metadata": {},
     "output_type": "execute_result"
    }
   ],
   "source": [
    "visits_log[(visits_log['End Ts'] - visits_log['Start Ts']).dt.total_seconds() < 0]"
   ]
  },
  {
   "cell_type": "markdown",
   "metadata": {},
   "source": [
    "Есть 2 пользователя с временем начала сессии позднее времени окончания"
   ]
  },
  {
   "cell_type": "code",
   "execution_count": 24,
   "metadata": {},
   "outputs": [
    {
     "data": {
      "image/png": "[encoded data removed]",
      "text/plain": [
       "<Figure size 1080x360 with 1 Axes>"
      ]
     },
     "metadata": {
      "needs_background": "light"
     },
     "output_type": "display_data"
    }
   ],
   "source": [
    "((visits_log['End Ts'] - visits_log['Start Ts']).dt.total_seconds() / 60).loc[lambda x : x > 0]\\\n",
    ".plot(kind='hist', figsize=(15,5), bins=range(0, 721, 5))\n",
    "plt.title('Распределение длительности сессий пользователей, посещавших афишу (мин)', pad=15)\n",
    "plt.xticks(range(0,720,20))\n",
    "plt.show()"
   ]
  },
  {
   "cell_type": "markdown",
   "metadata": {},
   "source": [
    "Рассмотрим левую часть ближе."
   ]
  },
  {
   "cell_type": "code",
   "execution_count": 25,
   "metadata": {},
   "outputs": [
    {
     "data": {
      "image/png": "[encoded data removed]",
      "text/plain": [
       "<Figure size 1080x360 with 1 Axes>"
      ]
     },
     "metadata": {
      "needs_background": "light"
     },
     "output_type": "display_data"
    }
   ],
   "source": [
    "((visits_log['End Ts'] - visits_log['Start Ts']).dt.total_seconds() / 60).loc[lambda x : (x > 0)&(x < 60)]\\\n",
    ".plot(kind='hist', figsize=(15,5), bins=range(0, 61, 1))\n",
    "plt.title('Распределение длительности сессий пользователей, посещавших афишу (до 60 мин)', pad=15)\n",
    "plt.xticks(range(0,61,5))\n",
    "plt.show()"
   ]
  },
  {
   "cell_type": "code",
   "execution_count": 26,
   "metadata": {},
   "outputs": [
    {
     "data": {
      "text/plain": [
       "0.00      0.3\n",
       "0.50      6.0\n",
       "0.75     15.0\n",
       "0.95     40.0\n",
       "1.00    711.0\n",
       "dtype: float64"
      ]
     },
     "execution_count": 26,
     "metadata": {},
     "output_type": "execute_result"
    }
   ],
   "source": [
    "((visits_log['End Ts'] - visits_log['Start Ts']).dt.total_seconds() / 60).loc[lambda x : x > 0]\\\n",
    ".quantile([0,0.5,0.75,0.95,1]).round(1)"
   ]
  },
  {
   "cell_type": "markdown",
   "metadata": {},
   "source": [
    "Половина пользователей провела на Афише не более 6 мин, 75% - не более 15 мин. Максимальная длительность сессии - 11 ч 51 мин. Посмотрим данные этого пользователя."
   ]
  },
  {
   "cell_type": "code",
   "execution_count": 27,
   "metadata": {},
   "outputs": [
    {
     "data": {
      "text/html": [
       "<div>\n",
       "<style scoped>\n",
       "    .dataframe tbody tr th:only-of-type {\n",
       "        vertical-align: middle;\n",
       "    }\n",
       "\n",
       "    .dataframe tbody tr th {\n",
       "        vertical-align: top;\n",
       "    }\n",
       "\n",
       "    .dataframe thead th {\n",
       "        text-align: right;\n",
       "    }\n",
       "</style>\n",
       "<table border=\"1\" class=\"dataframe\">\n",
       "  <thead>\n",
       "    <tr style=\"text-align: right;\">\n",
       "      <th></th>\n",
       "      <th>Device</th>\n",
       "      <th>End Ts</th>\n",
       "      <th>source_id</th>\n",
       "      <th>Start Ts</th>\n",
       "      <th>Uid</th>\n",
       "    </tr>\n",
       "  </thead>\n",
       "  <tbody>\n",
       "    <tr>\n",
       "      <th>178984</th>\n",
       "      <td>desktop</td>\n",
       "      <td>2017-12-18 22:43:00</td>\n",
       "      <td>3</td>\n",
       "      <td>2017-12-18 10:52:00</td>\n",
       "      <td>15566184277200431914</td>\n",
       "    </tr>\n",
       "  </tbody>\n",
       "</table>\n",
       "</div>"
      ],
      "text/plain": [
       "         Device              End Ts  source_id            Start Ts  \\\n",
       "178984  desktop 2017-12-18 22:43:00          3 2017-12-18 10:52:00   \n",
       "\n",
       "                         Uid  \n",
       "178984  15566184277200431914  "
      ]
     },
     "execution_count": 27,
     "metadata": {},
     "output_type": "execute_result"
    }
   ],
   "source": [
    "visits_log[(visits_log['End Ts'] - visits_log['Start Ts']).dt.total_seconds() / 60 > 700]"
   ]
  },
  {
   "cell_type": "code",
   "execution_count": 28,
   "metadata": {},
   "outputs": [
    {
     "data": {
      "text/html": [
       "<div>\n",
       "<style scoped>\n",
       "    .dataframe tbody tr th:only-of-type {\n",
       "        vertical-align: middle;\n",
       "    }\n",
       "\n",
       "    .dataframe tbody tr th {\n",
       "        vertical-align: top;\n",
       "    }\n",
       "\n",
       "    .dataframe thead th {\n",
       "        text-align: right;\n",
       "    }\n",
       "</style>\n",
       "<table border=\"1\" class=\"dataframe\">\n",
       "  <thead>\n",
       "    <tr style=\"text-align: right;\">\n",
       "      <th></th>\n",
       "      <th>Buy Ts</th>\n",
       "      <th>Revenue</th>\n",
       "      <th>Uid</th>\n",
       "    </tr>\n",
       "  </thead>\n",
       "  <tbody>\n",
       "  </tbody>\n",
       "</table>\n",
       "</div>"
      ],
      "text/plain": [
       "Empty DataFrame\n",
       "Columns: [Buy Ts, Revenue, Uid]\n",
       "Index: []"
      ]
     },
     "execution_count": 28,
     "metadata": {},
     "output_type": "execute_result"
    }
   ],
   "source": [
    "orders_log.query('Uid == \"15566184277200431914\"')"
   ]
  },
  {
   "cell_type": "markdown",
   "metadata": {},
   "source": [
    "Он просто приценивался почти 12 часов) Ну а если серьезно, скорее всего он забыл закрыть вкладку"
   ]
  },
  {
   "cell_type": "markdown",
   "metadata": {},
   "source": [
    "Вернемся к пользователям с некорректным временем начала/окончания сессий."
   ]
  },
  {
   "cell_type": "code",
   "execution_count": 29,
   "metadata": {},
   "outputs": [
    {
     "data": {
      "text/html": [
       "<div>\n",
       "<style scoped>\n",
       "    .dataframe tbody tr th:only-of-type {\n",
       "        vertical-align: middle;\n",
       "    }\n",
       "\n",
       "    .dataframe tbody tr th {\n",
       "        vertical-align: top;\n",
       "    }\n",
       "\n",
       "    .dataframe thead th {\n",
       "        text-align: right;\n",
       "    }\n",
       "</style>\n",
       "<table border=\"1\" class=\"dataframe\">\n",
       "  <thead>\n",
       "    <tr style=\"text-align: right;\">\n",
       "      <th></th>\n",
       "      <th>Device</th>\n",
       "      <th>End Ts</th>\n",
       "      <th>source_id</th>\n",
       "      <th>Start Ts</th>\n",
       "      <th>Uid</th>\n",
       "    </tr>\n",
       "  </thead>\n",
       "  <tbody>\n",
       "    <tr>\n",
       "      <th>298796</th>\n",
       "      <td>desktop</td>\n",
       "      <td>2018-03-25 03:18:00</td>\n",
       "      <td>3</td>\n",
       "      <td>2018-03-25 03:50:00</td>\n",
       "      <td>13092152539246794986</td>\n",
       "    </tr>\n",
       "    <tr>\n",
       "      <th>298797</th>\n",
       "      <td>desktop</td>\n",
       "      <td>2018-03-25 03:09:00</td>\n",
       "      <td>9</td>\n",
       "      <td>2018-03-25 03:55:00</td>\n",
       "      <td>4621202742905035453</td>\n",
       "    </tr>\n",
       "  </tbody>\n",
       "</table>\n",
       "</div>"
      ],
      "text/plain": [
       "         Device              End Ts  source_id            Start Ts  \\\n",
       "298796  desktop 2018-03-25 03:18:00          3 2018-03-25 03:50:00   \n",
       "298797  desktop 2018-03-25 03:09:00          9 2018-03-25 03:55:00   \n",
       "\n",
       "                         Uid  \n",
       "298796  13092152539246794986  \n",
       "298797   4621202742905035453  "
      ]
     },
     "execution_count": 29,
     "metadata": {},
     "output_type": "execute_result"
    }
   ],
   "source": [
    "visits_log[(visits_log['End Ts'] - visits_log['Start Ts']).dt.total_seconds() < 0]"
   ]
  },
  {
   "cell_type": "markdown",
   "metadata": {},
   "source": [
    "Если у данных пользователей переставить начало и конец сессии местами, получится весьма похожее на реальное время, проведенное на платформе. Примем допущение, что такие ошибки периодически случаются и напишем функцию для их исправления. "
   ]
  },
  {
   "cell_type": "code",
   "execution_count": 30,
   "metadata": {},
   "outputs": [],
   "source": [
    "def time_exchange_to_correct(df,start_col_name,end_col_name):\n",
    "    condition_mapping = (df[end_col_name] - df[start_col_name]).dt.total_seconds() < 0\n",
    "    df = df.astype({start_col_name:'str',end_col_name:'str'})\n",
    "    df.loc[condition_mapping, [start_col_name, end_col_name]] = \\\n",
    "    (df.loc[condition_mapping, [end_col_name, start_col_name]].values)\n",
    "    df[start_col_name] = pd.to_datetime(df[start_col_name])\n",
    "    df[end_col_name] = pd.to_datetime(df[end_col_name])\n",
    "    return df"
   ]
  },
  {
   "cell_type": "code",
   "execution_count": 31,
   "metadata": {},
   "outputs": [],
   "source": [
    "visits_log = time_exchange_to_correct(visits_log, 'Start Ts', 'End Ts')"
   ]
  },
  {
   "cell_type": "code",
   "execution_count": 32,
   "metadata": {},
   "outputs": [
    {
     "data": {
      "text/html": [
       "<div>\n",
       "<style scoped>\n",
       "    .dataframe tbody tr th:only-of-type {\n",
       "        vertical-align: middle;\n",
       "    }\n",
       "\n",
       "    .dataframe tbody tr th {\n",
       "        vertical-align: top;\n",
       "    }\n",
       "\n",
       "    .dataframe thead th {\n",
       "        text-align: right;\n",
       "    }\n",
       "</style>\n",
       "<table border=\"1\" class=\"dataframe\">\n",
       "  <thead>\n",
       "    <tr style=\"text-align: right;\">\n",
       "      <th></th>\n",
       "      <th>Device</th>\n",
       "      <th>End Ts</th>\n",
       "      <th>source_id</th>\n",
       "      <th>Start Ts</th>\n",
       "      <th>Uid</th>\n",
       "    </tr>\n",
       "  </thead>\n",
       "  <tbody>\n",
       "    <tr>\n",
       "      <th>4181</th>\n",
       "      <td>touch</td>\n",
       "      <td>2017-06-07 09:42:00</td>\n",
       "      <td>4</td>\n",
       "      <td>2017-06-07 09:38:00</td>\n",
       "      <td>17840522004183008393</td>\n",
       "    </tr>\n",
       "    <tr>\n",
       "      <th>177972</th>\n",
       "      <td>desktop</td>\n",
       "      <td>2017-12-17 13:50:00</td>\n",
       "      <td>3</td>\n",
       "      <td>2017-12-17 13:44:00</td>\n",
       "      <td>1833425497048604561</td>\n",
       "    </tr>\n",
       "  </tbody>\n",
       "</table>\n",
       "</div>"
      ],
      "text/plain": [
       "         Device              End Ts  source_id            Start Ts  \\\n",
       "4181      touch 2017-06-07 09:42:00          4 2017-06-07 09:38:00   \n",
       "177972  desktop 2017-12-17 13:50:00          3 2017-12-17 13:44:00   \n",
       "\n",
       "                         Uid  \n",
       "4181    17840522004183008393  \n",
       "177972   1833425497048604561  "
      ]
     },
     "execution_count": 32,
     "metadata": {},
     "output_type": "execute_result"
    }
   ],
   "source": [
    "visits_log.loc[[4181,177972],:]"
   ]
  },
  {
   "cell_type": "markdown",
   "metadata": {},
   "source": [
    "Некорректные значения начала и конца сессии исправлены."
   ]
  },
  {
   "cell_type": "markdown",
   "metadata": {},
   "source": [
    "Попробуем предположить, какая модель оплаты рекламы у Афиши была по каждому рекламному источнику."
   ]
  },
  {
   "cell_type": "code",
   "execution_count": 33,
   "metadata": {},
   "outputs": [
    {
     "data": {
      "text/plain": [
       "1     363\n",
       "2     363\n",
       "3     363\n",
       "4     363\n",
       "5     364\n",
       "9     363\n",
       "10    363\n",
       "Name: source_id, dtype: int64"
      ]
     },
     "execution_count": 33,
     "metadata": {},
     "output_type": "execute_result"
    }
   ],
   "source": [
    "costs['source_id'].value_counts().sort_index()"
   ]
  },
  {
   "cell_type": "markdown",
   "metadata": {},
   "source": [
    "Расходы по всем рекламным источникам осуществлялись ежедневно."
   ]
  },
  {
   "cell_type": "code",
   "execution_count": 34,
   "metadata": {},
   "outputs": [
    {
     "data": {
      "text/plain": [
       "1      34121\n",
       "2      47626\n",
       "3      85610\n",
       "4     101794\n",
       "5      66905\n",
       "6          6\n",
       "7         36\n",
       "9      13277\n",
       "10     10025\n",
       "Name: source_id, dtype: int64"
      ]
     },
     "execution_count": 34,
     "metadata": {},
     "output_type": "execute_result"
    }
   ],
   "source": [
    "visits_log['source_id'].value_counts().sort_index()"
   ]
  },
  {
   "cell_type": "code",
   "execution_count": 35,
   "metadata": {},
   "outputs": [
    {
     "data": {
      "text/plain": [
       "{6, 7}"
      ]
     },
     "execution_count": 35,
     "metadata": {},
     "output_type": "execute_result"
    }
   ],
   "source": [
    "set(visits_log['source_id'].unique()).difference(set(costs['source_id'].unique()))"
   ]
  },
  {
   "cell_type": "markdown",
   "metadata": {},
   "source": [
    "В датасете по посещениям есть источники 6,7, по которым нет данных о рекламных расходах. Будем считать их органическим трафиком."
   ]
  },
  {
   "cell_type": "markdown",
   "metadata": {},
   "source": [
    "Агрегируем данные по рекламным расходам, визитам, платежам по дням и рассмотрим кореляции между показателями, чтобы определить модель оплаты рекламы, которую использует Афиша."
   ]
  },
  {
   "cell_type": "markdown",
   "metadata": {},
   "source": [
    "Рассчитаем в течение (или после) какой сессии пользователи совершили оплату и подтянем источник соответствующего визита к данным по оплате."
   ]
  },
  {
   "cell_type": "code",
   "execution_count": 36,
   "metadata": {},
   "outputs": [
    {
     "data": {
      "text/plain": [
       "Timestamp('2018-06-02 00:02:00')"
      ]
     },
     "execution_count": 36,
     "metadata": {},
     "output_type": "execute_result"
    }
   ],
   "source": [
    "orders_log['Buy Ts'].max() + dt.timedelta(1)"
   ]
  },
  {
   "cell_type": "code",
   "execution_count": 37,
   "metadata": {},
   "outputs": [
    {
     "data": {
      "text/html": [
       "<div>\n",
       "<style scoped>\n",
       "    .dataframe tbody tr th:only-of-type {\n",
       "        vertical-align: middle;\n",
       "    }\n",
       "\n",
       "    .dataframe tbody tr th {\n",
       "        vertical-align: top;\n",
       "    }\n",
       "\n",
       "    .dataframe thead th {\n",
       "        text-align: right;\n",
       "    }\n",
       "</style>\n",
       "<table border=\"1\" class=\"dataframe\">\n",
       "  <thead>\n",
       "    <tr style=\"text-align: right;\">\n",
       "      <th></th>\n",
       "      <th>Device</th>\n",
       "      <th>End Ts</th>\n",
       "      <th>source_id</th>\n",
       "      <th>Start Ts</th>\n",
       "      <th>Uid</th>\n",
       "      <th>next_session_start</th>\n",
       "    </tr>\n",
       "  </thead>\n",
       "  <tbody>\n",
       "    <tr>\n",
       "      <th>155179</th>\n",
       "      <td>desktop</td>\n",
       "      <td>2017-12-01 15:15:00</td>\n",
       "      <td>3</td>\n",
       "      <td>2017-12-01 15:11:00</td>\n",
       "      <td>10000171586432207426</td>\n",
       "      <td>2018-06-02 00:02:00</td>\n",
       "    </tr>\n",
       "    <tr>\n",
       "      <th>261393</th>\n",
       "      <td>desktop</td>\n",
       "      <td>2018-02-21 16:36:00</td>\n",
       "      <td>3</td>\n",
       "      <td>2018-02-21 16:01:00</td>\n",
       "      <td>10000344846682484395</td>\n",
       "      <td>2018-06-02 00:02:00</td>\n",
       "    </tr>\n",
       "    <tr>\n",
       "      <th>51655</th>\n",
       "      <td>desktop</td>\n",
       "      <td>2017-09-05 20:47:00</td>\n",
       "      <td>3</td>\n",
       "      <td>2017-09-05 20:22:00</td>\n",
       "      <td>1000036778515242839</td>\n",
       "      <td>2018-06-02 00:02:00</td>\n",
       "    </tr>\n",
       "    <tr>\n",
       "      <th>57040</th>\n",
       "      <td>touch</td>\n",
       "      <td>2017-09-13 09:23:00</td>\n",
       "      <td>4</td>\n",
       "      <td>2017-09-13 09:12:00</td>\n",
       "      <td>10000460875579931334</td>\n",
       "      <td>2018-06-02 00:02:00</td>\n",
       "    </tr>\n",
       "    <tr>\n",
       "      <th>199731</th>\n",
       "      <td>desktop</td>\n",
       "      <td>2018-01-03 19:00:00</td>\n",
       "      <td>4</td>\n",
       "      <td>2018-01-03 18:39:00</td>\n",
       "      <td>10000558740593440652</td>\n",
       "      <td>2018-06-02 00:02:00</td>\n",
       "    </tr>\n",
       "  </tbody>\n",
       "</table>\n",
       "</div>"
      ],
      "text/plain": [
       "         Device              End Ts  source_id            Start Ts  \\\n",
       "155179  desktop 2017-12-01 15:15:00          3 2017-12-01 15:11:00   \n",
       "261393  desktop 2018-02-21 16:36:00          3 2018-02-21 16:01:00   \n",
       "51655   desktop 2017-09-05 20:47:00          3 2017-09-05 20:22:00   \n",
       "57040     touch 2017-09-13 09:23:00          4 2017-09-13 09:12:00   \n",
       "199731  desktop 2018-01-03 19:00:00          4 2018-01-03 18:39:00   \n",
       "\n",
       "                         Uid  next_session_start  \n",
       "155179  10000171586432207426 2018-06-02 00:02:00  \n",
       "261393  10000344846682484395 2018-06-02 00:02:00  \n",
       "51655    1000036778515242839 2018-06-02 00:02:00  \n",
       "57040   10000460875579931334 2018-06-02 00:02:00  \n",
       "199731  10000558740593440652 2018-06-02 00:02:00  "
      ]
     },
     "execution_count": 37,
     "metadata": {},
     "output_type": "execute_result"
    }
   ],
   "source": [
    "max_dt = orders_log['Buy Ts'].max()\n",
    "visits_log['next_session_start'] = visits_log.groupby('Uid')['Start Ts'].shift(-1).fillna(max_dt + dt.timedelta(1))\n",
    "visits_log.sort_values(['Uid', 'Start Ts']).head()"
   ]
  },
  {
   "cell_type": "code",
   "execution_count": 38,
   "metadata": {},
   "outputs": [],
   "source": [
    "def source_of_purchase(df):\n",
    "    if df['Buy Ts'] >= df['Start Ts'] and df['Buy Ts'] < df['next_session_start']:\n",
    "        return True"
   ]
  },
  {
   "cell_type": "code",
   "execution_count": 39,
   "metadata": {},
   "outputs": [
    {
     "data": {
      "text/plain": [
       "50415"
      ]
     },
     "execution_count": 39,
     "metadata": {},
     "output_type": "execute_result"
    }
   ],
   "source": [
    "orders_log.shape[0]"
   ]
  },
  {
   "cell_type": "code",
   "execution_count": 40,
   "metadata": {},
   "outputs": [
    {
     "data": {
      "text/html": [
       "<div>\n",
       "<style scoped>\n",
       "    .dataframe tbody tr th:only-of-type {\n",
       "        vertical-align: middle;\n",
       "    }\n",
       "\n",
       "    .dataframe tbody tr th {\n",
       "        vertical-align: top;\n",
       "    }\n",
       "\n",
       "    .dataframe thead th {\n",
       "        text-align: right;\n",
       "    }\n",
       "</style>\n",
       "<table border=\"1\" class=\"dataframe\">\n",
       "  <thead>\n",
       "    <tr style=\"text-align: right;\">\n",
       "      <th></th>\n",
       "      <th>Buy Ts</th>\n",
       "      <th>Revenue</th>\n",
       "      <th>Uid</th>\n",
       "      <th>Device</th>\n",
       "      <th>End Ts</th>\n",
       "      <th>source_id</th>\n",
       "      <th>Start Ts</th>\n",
       "      <th>next_session_start</th>\n",
       "    </tr>\n",
       "  </thead>\n",
       "  <tbody>\n",
       "    <tr>\n",
       "      <th>0</th>\n",
       "      <td>2017-06-01 00:10:00</td>\n",
       "      <td>17.00</td>\n",
       "      <td>10329302124590727494</td>\n",
       "      <td>desktop</td>\n",
       "      <td>2017-06-01 00:11:00</td>\n",
       "      <td>1</td>\n",
       "      <td>2017-06-01 00:09:00</td>\n",
       "      <td>2018-06-02 00:02:00</td>\n",
       "    </tr>\n",
       "    <tr>\n",
       "      <th>1</th>\n",
       "      <td>2017-06-01 00:25:00</td>\n",
       "      <td>0.55</td>\n",
       "      <td>11627257723692907447</td>\n",
       "      <td>desktop</td>\n",
       "      <td>2017-06-01 00:25:00</td>\n",
       "      <td>2</td>\n",
       "      <td>2017-06-01 00:14:00</td>\n",
       "      <td>2018-06-02 00:02:00</td>\n",
       "    </tr>\n",
       "    <tr>\n",
       "      <th>2</th>\n",
       "      <td>2017-06-01 00:27:00</td>\n",
       "      <td>0.37</td>\n",
       "      <td>17903680561304213844</td>\n",
       "      <td>desktop</td>\n",
       "      <td>2017-06-01 00:34:00</td>\n",
       "      <td>2</td>\n",
       "      <td>2017-06-01 00:25:00</td>\n",
       "      <td>2018-06-02 00:02:00</td>\n",
       "    </tr>\n",
       "    <tr>\n",
       "      <th>3</th>\n",
       "      <td>2017-06-01 00:29:00</td>\n",
       "      <td>0.55</td>\n",
       "      <td>16109239769442553005</td>\n",
       "      <td>desktop</td>\n",
       "      <td>2017-06-01 00:33:00</td>\n",
       "      <td>2</td>\n",
       "      <td>2017-06-01 00:14:00</td>\n",
       "      <td>2018-06-02 00:02:00</td>\n",
       "    </tr>\n",
       "    <tr>\n",
       "      <th>4</th>\n",
       "      <td>2017-06-01 07:58:00</td>\n",
       "      <td>0.37</td>\n",
       "      <td>14200605875248379450</td>\n",
       "      <td>desktop</td>\n",
       "      <td>2017-06-01 07:59:00</td>\n",
       "      <td>3</td>\n",
       "      <td>2017-06-01 07:31:00</td>\n",
       "      <td>2018-06-02 00:02:00</td>\n",
       "    </tr>\n",
       "  </tbody>\n",
       "</table>\n",
       "</div>"
      ],
      "text/plain": [
       "               Buy Ts  Revenue                   Uid   Device  \\\n",
       "0 2017-06-01 00:10:00    17.00  10329302124590727494  desktop   \n",
       "1 2017-06-01 00:25:00     0.55  11627257723692907447  desktop   \n",
       "2 2017-06-01 00:27:00     0.37  17903680561304213844  desktop   \n",
       "3 2017-06-01 00:29:00     0.55  16109239769442553005  desktop   \n",
       "4 2017-06-01 07:58:00     0.37  14200605875248379450  desktop   \n",
       "\n",
       "               End Ts  source_id            Start Ts  next_session_start  \n",
       "0 2017-06-01 00:11:00          1 2017-06-01 00:09:00 2018-06-02 00:02:00  \n",
       "1 2017-06-01 00:25:00          2 2017-06-01 00:14:00 2018-06-02 00:02:00  \n",
       "2 2017-06-01 00:34:00          2 2017-06-01 00:25:00 2018-06-02 00:02:00  \n",
       "3 2017-06-01 00:33:00          2 2017-06-01 00:14:00 2018-06-02 00:02:00  \n",
       "4 2017-06-01 07:59:00          3 2017-06-01 07:31:00 2018-06-02 00:02:00  "
      ]
     },
     "execution_count": 40,
     "metadata": {},
     "output_type": "execute_result"
    }
   ],
   "source": [
    "orders_log = orders_log.merge(visits_log, how='left', on='Uid')\n",
    "orders_log = orders_log[orders_log.apply(lambda x: source_of_purchase(x), 1) == True]\n",
    "orders_log.head()"
   ]
  },
  {
   "cell_type": "code",
   "execution_count": 41,
   "metadata": {},
   "outputs": [
    {
     "data": {
      "text/plain": [
       "50415"
      ]
     },
     "execution_count": 41,
     "metadata": {},
     "output_type": "execute_result"
    }
   ],
   "source": [
    "orders_log.shape[0]"
   ]
  },
  {
   "cell_type": "markdown",
   "metadata": {},
   "source": [
    "Рассчитаем показатели рекламных расходов, визитов на сайт, количество и сумму заказов по датам по каждому рекламному источнику."
   ]
  },
  {
   "cell_type": "code",
   "execution_count": 42,
   "metadata": {},
   "outputs": [],
   "source": [
    "#рекламные расходы по по каждому рекламному источнику по дням уже содержатся в датасете costs\n",
    "s1 = costs.iloc[:,[1,0,2]]\n",
    "s1['dt'] = s1['dt'].dt.to_period('d')\n",
    "\n",
    "#считаем количество переходов по каждому рекламному источнику по дням\n",
    "s2 = visits_log.query('source_id not in [6,7]').groupby([visits_log['Start Ts'].dt.to_period('d'), 'source_id'])\\\n",
    ".agg({'Uid':'count'}).reset_index().rename(columns={'Start Ts':'dt','Uid':'visits'})\n",
    "\n",
    "#считаем количество и сумму платежей по дням и источникам\n",
    "s3 = orders_log.query('source_id not in [6,7]').groupby([orders_log['Buy Ts'].dt.to_period('d'), 'source_id'])\\\n",
    ".agg({'Revenue':['count','sum']})\n",
    "#доходы за 2018-06-01 учитываем в показателе по 2018-05-31 по соответствующему источнику\n",
    "s3.loc[('2018-05-31', 4),('Revenue', 'count')] = s3.loc[('2018-05-31', 4),('Revenue', 'count')].values + \\\n",
    "s3.loc[('2018-06-01', 4),('Revenue', 'count')].values\n",
    "s3.loc[('2018-05-31', 4),('Revenue', 'sum')] = s3.loc[('2018-05-31', 4),('Revenue', 'sum')].values + \\\n",
    "s3.loc[('2018-06-01', 4),('Revenue', 'sum')].values\n",
    "s3.columns = [col[0]+'_'+col[1] if len(col) == 2 else col for col in s3.columns]\n",
    "s3 = s3.iloc[0:-1:1, :].reset_index()\\\n",
    ".rename(columns={'Buy Ts':'dt', 'Revenue_count':'orders', 'Revenue_sum':'Revenue'})"
   ]
  },
  {
   "cell_type": "code",
   "execution_count": 43,
   "metadata": {},
   "outputs": [
    {
     "name": "stdout",
     "output_type": "stream",
     "text": [
      "           dt  source_id   costs\n",
      "0  2017-06-01          1   75.20\n",
      "1  2017-06-01          2  132.56 \n",
      "\n",
      "           dt  source_id  visits\n",
      "0  2017-06-01          1      70\n",
      "1  2017-06-01          2      85 \n",
      "\n",
      "           dt  source_id  orders  Revenue\n",
      "0  2017-06-01          1      20   171.71\n",
      "1  2017-06-01          2      13    20.10 \n",
      "\n"
     ]
    }
   ],
   "source": [
    "for df in [s1,s2,s3]:\n",
    "    print(df.head(2), '\\n')"
   ]
  },
  {
   "cell_type": "markdown",
   "metadata": {},
   "source": [
    "Объединим полученные датасеты и посчитаем взаимные корреляции отдельно по каждому источнику."
   ]
  },
  {
   "cell_type": "code",
   "execution_count": 44,
   "metadata": {},
   "outputs": [
    {
     "data": {
      "text/html": [
       "<div>\n",
       "<style scoped>\n",
       "    .dataframe tbody tr th:only-of-type {\n",
       "        vertical-align: middle;\n",
       "    }\n",
       "\n",
       "    .dataframe tbody tr th {\n",
       "        vertical-align: top;\n",
       "    }\n",
       "\n",
       "    .dataframe thead th {\n",
       "        text-align: right;\n",
       "    }\n",
       "</style>\n",
       "<table border=\"1\" class=\"dataframe\">\n",
       "  <thead>\n",
       "    <tr style=\"text-align: right;\">\n",
       "      <th></th>\n",
       "      <th>dt</th>\n",
       "      <th>source_id</th>\n",
       "      <th>costs</th>\n",
       "      <th>visits</th>\n",
       "      <th>orders</th>\n",
       "      <th>Revenue</th>\n",
       "    </tr>\n",
       "  </thead>\n",
       "  <tbody>\n",
       "    <tr>\n",
       "      <th>0</th>\n",
       "      <td>2017-06-01</td>\n",
       "      <td>1</td>\n",
       "      <td>75.20</td>\n",
       "      <td>70.0</td>\n",
       "      <td>20.0</td>\n",
       "      <td>171.71</td>\n",
       "    </tr>\n",
       "    <tr>\n",
       "      <th>1</th>\n",
       "      <td>2017-06-01</td>\n",
       "      <td>2</td>\n",
       "      <td>132.56</td>\n",
       "      <td>85.0</td>\n",
       "      <td>13.0</td>\n",
       "      <td>20.10</td>\n",
       "    </tr>\n",
       "    <tr>\n",
       "      <th>2</th>\n",
       "      <td>2017-06-01</td>\n",
       "      <td>3</td>\n",
       "      <td>349.38</td>\n",
       "      <td>185.0</td>\n",
       "      <td>34.0</td>\n",
       "      <td>111.89</td>\n",
       "    </tr>\n",
       "  </tbody>\n",
       "</table>\n",
       "</div>"
      ],
      "text/plain": [
       "           dt  source_id   costs  visits  orders  Revenue\n",
       "0  2017-06-01          1   75.20    70.0    20.0   171.71\n",
       "1  2017-06-01          2  132.56    85.0    13.0    20.10\n",
       "2  2017-06-01          3  349.38   185.0    34.0   111.89"
      ]
     },
     "execution_count": 44,
     "metadata": {},
     "output_type": "execute_result"
    }
   ],
   "source": [
    "report_by_dt = s1.merge(s2, how='left', on=['dt','source_id']).merge(s3, how='left', on=['dt','source_id'])\n",
    "report_by_dt.head(3)"
   ]
  },
  {
   "cell_type": "code",
   "execution_count": 45,
   "metadata": {},
   "outputs": [
    {
     "name": "stdout",
     "output_type": "stream",
     "text": [
      "Источник 1\n",
      "costs      1.000000\n",
      "visits     0.768649\n",
      "orders     0.680442\n",
      "Revenue    0.515120\n",
      "Name: costs, dtype: float64\n",
      "\n",
      "Источник 2\n",
      "costs      1.000000\n",
      "visits     0.766331\n",
      "orders     0.643410\n",
      "Revenue    0.301235\n",
      "Name: costs, dtype: float64\n",
      "\n",
      "Источник 3\n",
      "costs      1.000000\n",
      "visits     0.735036\n",
      "orders     0.653855\n",
      "Revenue    0.502874\n",
      "Name: costs, dtype: float64\n",
      "\n",
      "Источник 4\n",
      "costs      1.000000\n",
      "visits     0.310774\n",
      "orders     0.296195\n",
      "Revenue    0.277936\n",
      "Name: costs, dtype: float64\n",
      "\n",
      "Источник 5\n",
      "costs      1.000000\n",
      "visits     0.722496\n",
      "orders     0.639818\n",
      "Revenue    0.379380\n",
      "Name: costs, dtype: float64\n",
      "\n",
      "Источник 9\n",
      "costs      1.000000\n",
      "visits     0.425217\n",
      "orders     0.400794\n",
      "Revenue    0.351301\n",
      "Name: costs, dtype: float64\n",
      "\n",
      "Источник 10\n",
      "costs      1.000000\n",
      "visits     0.405247\n",
      "orders     0.283701\n",
      "Revenue    0.170427\n",
      "Name: costs, dtype: float64\n",
      "\n"
     ]
    }
   ],
   "source": [
    "sources = list(report_by_dt['source_id'].unique())\n",
    "for source in sources:\n",
    "    print(f'Источник {source}',\n",
    "          report_by_dt.query('source_id == @source')[['costs','visits','orders','Revenue']].corr()['costs'],\n",
    "          sep='\\n', end = '\\n\\n')"
   ]
  },
  {
   "cell_type": "markdown",
   "metadata": {},
   "source": [
    "Ни по одному источнику нет корелляции, близкой к 1, однако есть источники с показателями корелляции по визитам, близкими к 0.8.\n",
    "\n",
    "Отсутствие очень высокой корелляции между переменными скорее всего обусловлено динамическим ценообразованием на рекламных аукционах - чем изменчивее спрос на рекламу на определенной площадке или для определенного сегмента, тем изменчивее и цена, и тем меньше коэффициент корелляции.\n",
    "\n",
    "По итогам корелляционного анализа можно предположить, что источники 1,2,3,5 работают по модели CPC (Cost-per-Click), так как корелляция между рекламными расходами и количеством визитов по ним достаточно высока. \n",
    "\n",
    "Остальные источники, вероятно, работают не по CPC и не по CPS (Cost-per-Sales) моделям. Для установления моделей оплаты рекламы по ним необходимо больше данных по целевым действиям на сайте, показам или просмотрам (видео) объявлений."
   ]
  },
  {
   "cell_type": "markdown",
   "metadata": {},
   "source": [
    "Рассмотрим динамику расходов и доходов по месяцам."
   ]
  },
  {
   "cell_type": "code",
   "execution_count": 46,
   "metadata": {},
   "outputs": [
    {
     "data": {
      "image/png": "[encoded data removed]",
      "text/plain": [
       "<Figure size 1080x360 with 1 Axes>"
      ]
     },
     "metadata": {
      "needs_background": "light"
     },
     "output_type": "display_data"
    }
   ],
   "source": [
    "s = report_by_dt.groupby(report_by_dt['dt'].apply(str).str[0:7]).agg({'costs':'sum','Revenue':'sum'})\n",
    "s.plot(figsize = (15,5), color=['tab:red','tab:green'], linewidth=5)\n",
    "plt.title('Рекламные расходы и доходы от платежей по месяцам', pad=10)\n",
    "plt.xticks(ticks=range(0,12), labels = list(s.index))\n",
    "plt.xlabel('')\n",
    "plt.show()"
   ]
  },
  {
   "cell_type": "markdown",
   "metadata": {},
   "source": [
    "Общие рекламные расходы стабильно не окупаются)\n",
    "\n",
    "И это несмотря на то, что мы даже не исключали пользователей с аномально высокими платежами."
   ]
  },
  {
   "cell_type": "markdown",
   "metadata": {},
   "source": [
    "Посмотрим по рекламным источникам."
   ]
  },
  {
   "cell_type": "code",
   "execution_count": 47,
   "metadata": {},
   "outputs": [
    {
     "data": {
      "image/png": "[encoded data removed]",
      "text/plain": [
       "<Figure size 1080x720 with 7 Axes>"
      ]
     },
     "metadata": {
      "needs_background": "light"
     },
     "output_type": "display_data"
    }
   ],
   "source": [
    "fig, ax = plt.subplots(len(report_by_dt['source_id'].unique()),1, sharex=True, figsize=(15,10))\n",
    "plt.suptitle('Рекламные расходы и доходы от платежей по месяцам', fontsize=14)\n",
    "sources = list(report_by_dt['source_id'].unique())\n",
    "for i in range(len(sources)): \n",
    "    s = report_by_dt.query('source_id == @sources[@i]').groupby(report_by_dt['dt'].apply(str).str[0:7])\\\n",
    "    .agg({'costs':'sum','Revenue':'sum'})\n",
    "    ax[i] = s.plot(color=['tab:red','tab:green'], linewidth=3, ax = ax[i])\n",
    "    ax[i].set_title(f'Источник {sources[i]}', pad=10)\n",
    "    ax[i].set_xticks(ticks=range(0,12), labels = list(s.index))\n",
    "    ax[i].set_xlabel('')\n",
    "    ax[i].get_legend().remove()\n",
    "plt.tight_layout()\n",
    "plt.show()"
   ]
  },
  {
   "cell_type": "markdown",
   "metadata": {},
   "source": [
    "Только источник 1 стабильно приносил прибыль за последний год, источник 2 - с переменным успехом, остальные убыточны."
   ]
  },
  {
   "cell_type": "markdown",
   "metadata": {},
   "source": [
    "Аналогично рассмотрим визиты и заказы."
   ]
  },
  {
   "cell_type": "code",
   "execution_count": 48,
   "metadata": {},
   "outputs": [
    {
     "data": {
      "text/html": [
       "<div>\n",
       "<style scoped>\n",
       "    .dataframe tbody tr th:only-of-type {\n",
       "        vertical-align: middle;\n",
       "    }\n",
       "\n",
       "    .dataframe tbody tr th {\n",
       "        vertical-align: top;\n",
       "    }\n",
       "\n",
       "    .dataframe thead th {\n",
       "        text-align: right;\n",
       "    }\n",
       "</style>\n",
       "<table border=\"1\" class=\"dataframe\">\n",
       "  <thead>\n",
       "    <tr style=\"text-align: right;\">\n",
       "      <th></th>\n",
       "      <th>visits</th>\n",
       "      <th>orders</th>\n",
       "      <th>visits_to_orders_%</th>\n",
       "    </tr>\n",
       "    <tr>\n",
       "      <th>dt</th>\n",
       "      <th></th>\n",
       "      <th></th>\n",
       "      <th></th>\n",
       "    </tr>\n",
       "  </thead>\n",
       "  <tbody>\n",
       "    <tr>\n",
       "      <th>2017-06</th>\n",
       "      <td>16503.0</td>\n",
       "      <td>2354.0</td>\n",
       "      <td>14.3</td>\n",
       "    </tr>\n",
       "    <tr>\n",
       "      <th>2017-07</th>\n",
       "      <td>17825.0</td>\n",
       "      <td>2363.0</td>\n",
       "      <td>13.3</td>\n",
       "    </tr>\n",
       "    <tr>\n",
       "      <th>2017-08</th>\n",
       "      <td>14353.0</td>\n",
       "      <td>1806.0</td>\n",
       "      <td>12.6</td>\n",
       "    </tr>\n",
       "    <tr>\n",
       "      <th>2017-09</th>\n",
       "      <td>23903.0</td>\n",
       "      <td>3387.0</td>\n",
       "      <td>14.2</td>\n",
       "    </tr>\n",
       "    <tr>\n",
       "      <th>2017-10</th>\n",
       "      <td>37898.0</td>\n",
       "      <td>5679.0</td>\n",
       "      <td>15.0</td>\n",
       "    </tr>\n",
       "    <tr>\n",
       "      <th>2017-11</th>\n",
       "      <td>43967.0</td>\n",
       "      <td>5659.0</td>\n",
       "      <td>12.9</td>\n",
       "    </tr>\n",
       "    <tr>\n",
       "      <th>2017-12</th>\n",
       "      <td>41973.0</td>\n",
       "      <td>6218.0</td>\n",
       "      <td>14.8</td>\n",
       "    </tr>\n",
       "    <tr>\n",
       "      <th>2018-01</th>\n",
       "      <td>36934.0</td>\n",
       "      <td>4721.0</td>\n",
       "      <td>12.8</td>\n",
       "    </tr>\n",
       "    <tr>\n",
       "      <th>2018-02</th>\n",
       "      <td>37177.0</td>\n",
       "      <td>5281.0</td>\n",
       "      <td>14.2</td>\n",
       "    </tr>\n",
       "    <tr>\n",
       "      <th>2018-03</th>\n",
       "      <td>35677.0</td>\n",
       "      <td>5326.0</td>\n",
       "      <td>14.9</td>\n",
       "    </tr>\n",
       "    <tr>\n",
       "      <th>2018-04</th>\n",
       "      <td>26514.0</td>\n",
       "      <td>3273.0</td>\n",
       "      <td>12.3</td>\n",
       "    </tr>\n",
       "    <tr>\n",
       "      <th>2018-05</th>\n",
       "      <td>26633.0</td>\n",
       "      <td>4347.0</td>\n",
       "      <td>16.3</td>\n",
       "    </tr>\n",
       "  </tbody>\n",
       "</table>\n",
       "</div>"
      ],
      "text/plain": [
       "          visits  orders  visits_to_orders_%\n",
       "dt                                          \n",
       "2017-06  16503.0  2354.0                14.3\n",
       "2017-07  17825.0  2363.0                13.3\n",
       "2017-08  14353.0  1806.0                12.6\n",
       "2017-09  23903.0  3387.0                14.2\n",
       "2017-10  37898.0  5679.0                15.0\n",
       "2017-11  43967.0  5659.0                12.9\n",
       "2017-12  41973.0  6218.0                14.8\n",
       "2018-01  36934.0  4721.0                12.8\n",
       "2018-02  37177.0  5281.0                14.2\n",
       "2018-03  35677.0  5326.0                14.9\n",
       "2018-04  26514.0  3273.0                12.3\n",
       "2018-05  26633.0  4347.0                16.3"
      ]
     },
     "execution_count": 48,
     "metadata": {},
     "output_type": "execute_result"
    }
   ],
   "source": [
    "s = report_by_dt.groupby(report_by_dt['dt'].apply(str).str[0:7]).agg({'visits':'sum','orders':'sum'})\n",
    "s['visits_to_orders_%'] = round(s['orders'] *100 / s['visits'], 1)\n",
    "s"
   ]
  },
  {
   "cell_type": "code",
   "execution_count": 49,
   "metadata": {},
   "outputs": [
    {
     "data": {
      "image/png": "[encoded data removed]",
      "text/plain": [
       "<Figure size 1080x360 with 1 Axes>"
      ]
     },
     "metadata": {
      "needs_background": "light"
     },
     "output_type": "display_data"
    }
   ],
   "source": [
    "s = report_by_dt.groupby(report_by_dt['dt'].apply(str).str[0:7]).agg({'visits':'sum','orders':'sum'})\n",
    "s['visits_to_orders'] = round(s['orders'] *100 / s['visits'], 1)\n",
    "s['visits_to_orders'].plot(figsize = (15,5), color='tab:cyan', alpha=0.5, linewidth=5)\n",
    "plt.title('Статистика конверсии переходов в заказы по рекламным источникам по месяцам (%)', pad=10)\n",
    "plt.xticks(ticks=range(0,12), labels = list(s.index))\n",
    "#plt.yticks(range(0,45000+1,5000))\n",
    "plt.xlabel('')\n",
    "\n",
    "z = np.polyfit(range(0,12), s['visits_to_orders'], 1)\n",
    "p = np.poly1d(z)\n",
    "\n",
    "plt.plot(range(0,12), p(range(0,12)), color='tab:orange', alpha=1)\n",
    "\n",
    "plt.show()"
   ]
  },
  {
   "cell_type": "markdown",
   "metadata": {},
   "source": [
    "Довольно интересная статистика конверсий переходов в заказы. Конверсия стремительно выросла в последнем месяце, за счет чего вырисовывается положительный тренд. \n",
    "\n",
    "Но сама динамика очень непостоянна, и возможно этот скачок связан с аномальным числом заказов от нескольких клиентов. В рамках данного проекта не будем углубляться в этот вопрос."
   ]
  },
  {
   "cell_type": "markdown",
   "metadata": {},
   "source": [
    "Посмотрим по рекламным кампаниям."
   ]
  },
  {
   "cell_type": "code",
   "execution_count": 50,
   "metadata": {},
   "outputs": [
    {
     "data": {
      "image/png": "[encoded data removed]",
      "text/plain": [
       "<Figure size 1080x720 with 7 Axes>"
      ]
     },
     "metadata": {
      "needs_background": "light"
     },
     "output_type": "display_data"
    }
   ],
   "source": [
    "fig, ax = plt.subplots(len(report_by_dt['source_id'].unique()),1, sharex=True, figsize=(15,10))\n",
    "plt.suptitle('Статистика конверсии переходов в заказы по рекламным источникам по месяцам (%)')\n",
    "sources = list(report_by_dt['source_id'].unique())\n",
    "for i in range(len(sources)): \n",
    "    s = report_by_dt.query('source_id == @sources[@i]').groupby(report_by_dt['dt'].apply(str).str[0:7])\\\n",
    "    .agg({'visits':'sum','orders':'sum'})\n",
    "    s['visits_to_orders'] = round(s['orders'] *100 / s['visits'], 1)\n",
    "    s = s['visits_to_orders']\n",
    "    ax[i] = s.plot(color='tab:cyan', alpha=0.5, linewidth=3, ax = ax[i])\n",
    "    ax[i].set_title(f'Источник {sources[i]}', pad=10)\n",
    "    ax[i].set_xticks(ticks=range(0,12), labels = list(s.index))\n",
    "    ax[i].set_xlabel('')\n",
    "    z = np.polyfit(range(0,12), s, 1)\n",
    "    p = np.poly1d(z)\n",
    "\n",
    "    ax[i].plot(range(0,12), p(range(0,12)), color='tab:orange', alpha=1)\n",
    "plt.tight_layout()\n",
    "plt.show()"
   ]
  },
  {
   "cell_type": "markdown",
   "metadata": {},
   "source": [
    "Аналогичная картина по источникам: каждый колебался в своих пределах. Источники 1,2 давали стабильно высокую конверсию, конверсия источника 10 колебалась в максимально широких пределах."
   ]
  },
  {
   "cell_type": "markdown",
   "metadata": {},
   "source": [
    "Общий разведывательный анализ завершен. Начнем отвечать на вопросы."
   ]
  },
  {
   "cell_type": "markdown",
   "metadata": {},
   "source": [
    "### Вопрос 1\n",
    "\n",
    "1) На какой источник было потрачено больше всего денег за год?"
   ]
  },
  {
   "cell_type": "code",
   "execution_count": 51,
   "metadata": {},
   "outputs": [
    {
     "data": {
      "image/png": "[encoded data removed]",
      "text/plain": [
       "<Figure size 1080x360 with 1 Axes>"
      ]
     },
     "metadata": {
      "needs_background": "light"
     },
     "output_type": "display_data"
    }
   ],
   "source": [
    "data = costs.groupby('source_id', as_index=0).agg({'costs':'sum'})\n",
    "colors=[]\n",
    "for value in data['costs']:\n",
    "    if value == data['costs'].max():\n",
    "        colors.append('tab:red')\n",
    "    else:\n",
    "        colors.append('tab:orange')\n",
    "\n",
    "plt.figure(figsize=(15,5))\n",
    "ax = sns.barplot(data=data, y='source_id', x='costs', orient='h', palette=colors)\n",
    "plt.title('Расходы на рекламные источники ($)', pad=15)\n",
    "plt.xlabel('')\n",
    "plt.ylabel('Источник')\n",
    "plt.xticks(range(0,160001,20000))\n",
    "\n",
    "for bars in ax.containers:\n",
    "    ax.bar_label(bars, labels=[f'{x:,.0f}'.replace(',', ' ') for x in bars.datavalues], padding=5)\n",
    "\n",
    "plt.show()"
   ]
  },
  {
   "cell_type": "markdown",
   "metadata": {},
   "source": [
    "**Ответ на вопрос 1:**\n",
    "\n",
    "Больше всего денег за год было потрачено на источник 3."
   ]
  },
  {
   "cell_type": "markdown",
   "metadata": {},
   "source": [
    "### Вопрос 2\n",
    "\n",
    "2) Найти средний LTV пользователей, которые впервые пришли до декабря 2017 года."
   ]
  },
  {
   "cell_type": "markdown",
   "metadata": {},
   "source": [
    "#### Подход 1. Фактический LTV\n",
    "\n",
    "LTV - это фактическая доходность с момента первого визита пользователя до текущего дня."
   ]
  },
  {
   "cell_type": "code",
   "execution_count": 52,
   "metadata": {},
   "outputs": [
    {
     "data": {
      "text/html": [
       "<div>\n",
       "<style scoped>\n",
       "    .dataframe tbody tr th:only-of-type {\n",
       "        vertical-align: middle;\n",
       "    }\n",
       "\n",
       "    .dataframe tbody tr th {\n",
       "        vertical-align: top;\n",
       "    }\n",
       "\n",
       "    .dataframe thead th {\n",
       "        text-align: right;\n",
       "    }\n",
       "</style>\n",
       "<table border=\"1\" class=\"dataframe\">\n",
       "  <thead>\n",
       "    <tr style=\"text-align: right;\">\n",
       "      <th></th>\n",
       "      <th>Device</th>\n",
       "      <th>End Ts</th>\n",
       "      <th>source_id</th>\n",
       "      <th>Start Ts</th>\n",
       "      <th>Uid</th>\n",
       "      <th>next_session_start</th>\n",
       "    </tr>\n",
       "  </thead>\n",
       "  <tbody>\n",
       "    <tr>\n",
       "      <th>0</th>\n",
       "      <td>desktop</td>\n",
       "      <td>2017-06-01 00:02:00</td>\n",
       "      <td>5</td>\n",
       "      <td>2017-06-01 00:01:00</td>\n",
       "      <td>13890188992670018146</td>\n",
       "      <td>2018-06-02 00:02:00</td>\n",
       "    </tr>\n",
       "    <tr>\n",
       "      <th>1</th>\n",
       "      <td>desktop</td>\n",
       "      <td>2017-06-01 00:02:00</td>\n",
       "      <td>3</td>\n",
       "      <td>2017-06-01 00:02:00</td>\n",
       "      <td>16152015161748786004</td>\n",
       "      <td>2018-06-02 00:02:00</td>\n",
       "    </tr>\n",
       "    <tr>\n",
       "      <th>2</th>\n",
       "      <td>desktop</td>\n",
       "      <td>2017-06-01 00:16:00</td>\n",
       "      <td>3</td>\n",
       "      <td>2017-06-01 00:02:00</td>\n",
       "      <td>16706502037388497502</td>\n",
       "      <td>2018-06-02 00:02:00</td>\n",
       "    </tr>\n",
       "    <tr>\n",
       "      <th>3</th>\n",
       "      <td>desktop</td>\n",
       "      <td>2017-06-01 00:04:00</td>\n",
       "      <td>3</td>\n",
       "      <td>2017-06-01 00:04:00</td>\n",
       "      <td>8842918131297115663</td>\n",
       "      <td>2018-06-02 00:02:00</td>\n",
       "    </tr>\n",
       "    <tr>\n",
       "      <th>4</th>\n",
       "      <td>desktop</td>\n",
       "      <td>2017-06-01 00:11:00</td>\n",
       "      <td>1</td>\n",
       "      <td>2017-06-01 00:09:00</td>\n",
       "      <td>10329302124590727494</td>\n",
       "      <td>2018-06-02 00:02:00</td>\n",
       "    </tr>\n",
       "    <tr>\n",
       "      <th>...</th>\n",
       "      <td>...</td>\n",
       "      <td>...</td>\n",
       "      <td>...</td>\n",
       "      <td>...</td>\n",
       "      <td>...</td>\n",
       "      <td>...</td>\n",
       "    </tr>\n",
       "    <tr>\n",
       "      <th>154459</th>\n",
       "      <td>desktop</td>\n",
       "      <td>2017-11-30 23:57:00</td>\n",
       "      <td>3</td>\n",
       "      <td>2017-11-30 23:54:00</td>\n",
       "      <td>13186143552490614964</td>\n",
       "      <td>2018-06-02 00:02:00</td>\n",
       "    </tr>\n",
       "    <tr>\n",
       "      <th>154460</th>\n",
       "      <td>touch</td>\n",
       "      <td>2017-11-30 23:57:00</td>\n",
       "      <td>4</td>\n",
       "      <td>2017-11-30 23:56:00</td>\n",
       "      <td>5167377733016659042</td>\n",
       "      <td>2018-06-02 00:02:00</td>\n",
       "    </tr>\n",
       "    <tr>\n",
       "      <th>154462</th>\n",
       "      <td>desktop</td>\n",
       "      <td>2017-11-30 23:57:00</td>\n",
       "      <td>3</td>\n",
       "      <td>2017-11-30 23:56:00</td>\n",
       "      <td>10016402087785797731</td>\n",
       "      <td>2018-06-02 00:02:00</td>\n",
       "    </tr>\n",
       "    <tr>\n",
       "      <th>154464</th>\n",
       "      <td>touch</td>\n",
       "      <td>2017-11-30 23:58:00</td>\n",
       "      <td>2</td>\n",
       "      <td>2017-11-30 23:58:00</td>\n",
       "      <td>10114038727161198939</td>\n",
       "      <td>2018-06-02 00:02:00</td>\n",
       "    </tr>\n",
       "    <tr>\n",
       "      <th>154465</th>\n",
       "      <td>desktop</td>\n",
       "      <td>2017-11-30 23:59:00</td>\n",
       "      <td>4</td>\n",
       "      <td>2017-11-30 23:58:00</td>\n",
       "      <td>12200727226508259303</td>\n",
       "      <td>2018-06-02 00:02:00</td>\n",
       "    </tr>\n",
       "  </tbody>\n",
       "</table>\n",
       "<p>106509 rows × 6 columns</p>\n",
       "</div>"
      ],
      "text/plain": [
       "         Device              End Ts  source_id            Start Ts  \\\n",
       "0       desktop 2017-06-01 00:02:00          5 2017-06-01 00:01:00   \n",
       "1       desktop 2017-06-01 00:02:00          3 2017-06-01 00:02:00   \n",
       "2       desktop 2017-06-01 00:16:00          3 2017-06-01 00:02:00   \n",
       "3       desktop 2017-06-01 00:04:00          3 2017-06-01 00:04:00   \n",
       "4       desktop 2017-06-01 00:11:00          1 2017-06-01 00:09:00   \n",
       "...         ...                 ...        ...                 ...   \n",
       "154459  desktop 2017-11-30 23:57:00          3 2017-11-30 23:54:00   \n",
       "154460    touch 2017-11-30 23:57:00          4 2017-11-30 23:56:00   \n",
       "154462  desktop 2017-11-30 23:57:00          3 2017-11-30 23:56:00   \n",
       "154464    touch 2017-11-30 23:58:00          2 2017-11-30 23:58:00   \n",
       "154465  desktop 2017-11-30 23:59:00          4 2017-11-30 23:58:00   \n",
       "\n",
       "                         Uid  next_session_start  \n",
       "0       13890188992670018146 2018-06-02 00:02:00  \n",
       "1       16152015161748786004 2018-06-02 00:02:00  \n",
       "2       16706502037388497502 2018-06-02 00:02:00  \n",
       "3        8842918131297115663 2018-06-02 00:02:00  \n",
       "4       10329302124590727494 2018-06-02 00:02:00  \n",
       "...                      ...                 ...  \n",
       "154459  13186143552490614964 2018-06-02 00:02:00  \n",
       "154460   5167377733016659042 2018-06-02 00:02:00  \n",
       "154462  10016402087785797731 2018-06-02 00:02:00  \n",
       "154464  10114038727161198939 2018-06-02 00:02:00  \n",
       "154465  12200727226508259303 2018-06-02 00:02:00  \n",
       "\n",
       "[106509 rows x 6 columns]"
      ]
     },
     "execution_count": 52,
     "metadata": {},
     "output_type": "execute_result"
    }
   ],
   "source": [
    "#фильтруем пользователей\n",
    "users_task2 = visits_log[visits_log['Start Ts'] < pd.to_datetime('2017-12-01')].drop_duplicates(subset=['Uid'])\n",
    "users_task2"
   ]
  },
  {
   "cell_type": "code",
   "execution_count": 53,
   "metadata": {},
   "outputs": [
    {
     "data": {
      "text/plain": [
       "0.47"
      ]
     },
     "execution_count": 53,
     "metadata": {},
     "output_type": "execute_result"
    }
   ],
   "source": [
    "#доля от общего числа пользователей\n",
    "round(users_task2.shape[0] / len(visits_log['Uid'].unique()), 2)"
   ]
  },
  {
   "cell_type": "markdown",
   "metadata": {},
   "source": [
    "Подтянем данные о доходности."
   ]
  },
  {
   "cell_type": "code",
   "execution_count": 54,
   "metadata": {},
   "outputs": [
    {
     "data": {
      "text/html": [
       "<div>\n",
       "<style scoped>\n",
       "    .dataframe tbody tr th:only-of-type {\n",
       "        vertical-align: middle;\n",
       "    }\n",
       "\n",
       "    .dataframe tbody tr th {\n",
       "        vertical-align: top;\n",
       "    }\n",
       "\n",
       "    .dataframe thead th {\n",
       "        text-align: right;\n",
       "    }\n",
       "</style>\n",
       "<table border=\"1\" class=\"dataframe\">\n",
       "  <thead>\n",
       "    <tr style=\"text-align: right;\">\n",
       "      <th></th>\n",
       "      <th>Uid</th>\n",
       "      <th>Revenue</th>\n",
       "    </tr>\n",
       "  </thead>\n",
       "  <tbody>\n",
       "    <tr>\n",
       "      <th>0</th>\n",
       "      <td>10000837700716403746</td>\n",
       "      <td>2.20</td>\n",
       "    </tr>\n",
       "    <tr>\n",
       "      <th>1</th>\n",
       "      <td>10001199569370567060</td>\n",
       "      <td>1.00</td>\n",
       "    </tr>\n",
       "    <tr>\n",
       "      <th>2</th>\n",
       "      <td>10002243978166172255</td>\n",
       "      <td>17.41</td>\n",
       "    </tr>\n",
       "  </tbody>\n",
       "</table>\n",
       "</div>"
      ],
      "text/plain": [
       "                    Uid  Revenue\n",
       "0  10000837700716403746     2.20\n",
       "1  10001199569370567060     1.00\n",
       "2  10002243978166172255    17.41"
      ]
     },
     "execution_count": 54,
     "metadata": {},
     "output_type": "execute_result"
    }
   ],
   "source": [
    "users_income = orders_log[orders_log.Uid.isin(users_task2.Uid)].groupby('Uid', as_index=0).agg({'Revenue':'sum'})\n",
    "users_income.head(3)"
   ]
  },
  {
   "cell_type": "code",
   "execution_count": 55,
   "metadata": {},
   "outputs": [],
   "source": [
    "users_task2 = users_task2.merge(users_income, how='left', on='Uid').fillna(0)"
   ]
  },
  {
   "cell_type": "markdown",
   "metadata": {},
   "source": [
    "Рассмотрим распределение доходов среди пользователей"
   ]
  },
  {
   "cell_type": "code",
   "execution_count": 56,
   "metadata": {},
   "outputs": [
    {
     "data": {
      "image/png": "[encoded data removed]",
      "text/plain": [
       "<Figure size 1080x360 with 1 Axes>"
      ]
     },
     "metadata": {
      "needs_background": "light"
     },
     "output_type": "display_data"
    }
   ],
   "source": [
    "plt.figure(figsize=(15,5))\n",
    "sns.histplot(data=users_task2, x='Revenue', binwidth=1)\n",
    "plt.title('Распределение пользователей, которые впервые пришли до декабря 2017 года, по доходности')\n",
    "plt.show()"
   ]
  },
  {
   "cell_type": "markdown",
   "metadata": {},
   "source": [
    "Большие выбросы, как и во всем датасете. Рассмотрим левую часть поближе."
   ]
  },
  {
   "cell_type": "code",
   "execution_count": 57,
   "metadata": {},
   "outputs": [
    {
     "data": {
      "image/png": "[encoded data removed]",
      "text/plain": [
       "<Figure size 1080x360 with 1 Axes>"
      ]
     },
     "metadata": {
      "needs_background": "light"
     },
     "output_type": "display_data"
    }
   ],
   "source": [
    "plt.figure(figsize=(15,5))\n",
    "sns.histplot(data=users_task2.query('Revenue < 15'), x='Revenue', binwidth=1)\n",
    "plt.title('Распределение пользователей, которые впервые пришли до декабря 2017 года, по доходности')\n",
    "plt.show()"
   ]
  },
  {
   "cell_type": "markdown",
   "metadata": {},
   "source": [
    "Следует отметить, что большинство пользователей не делали заказы."
   ]
  },
  {
   "cell_type": "markdown",
   "metadata": {},
   "source": [
    "**Ответ на вопрос 2 (подход 1)**"
   ]
  },
  {
   "cell_type": "code",
   "execution_count": 58,
   "metadata": {},
   "outputs": [
    {
     "name": "stdout",
     "output_type": "stream",
     "text": [
      "Cредняя доходность пользователей, которые впервые пришли до декабря 2017 года, составила 1.48 $\n",
      "При этом доля пользователей, не совершавших заказы, составила 82.1 %\n"
     ]
    }
   ],
   "source": [
    "print(f\"Cредняя доходность пользователей, которые впервые пришли до декабря 2017 года, составила \\\n",
    "{round(users_task2['Revenue'].mean(), 2)} $\")\n",
    "print(f\"При этом доля пользователей, не совершавших заказы, составила \\\n",
    "{round(users_task2.query('Revenue == 0').shape[0] *100 / users_task2.shape[0], 1)} %\")"
   ]
  },
  {
   "cell_type": "markdown",
   "metadata": {},
   "source": [
    "Однако, с учетом особенностей распределения, средний показатель доходности по всем клиентам не особенно информативен.\n",
    "\n",
    "Гораздо более ясную картину даст набор показателей:\n",
    "- общее количество пользователей\n",
    "- доля платящих пользователей\n",
    "- средняя доходность 90+ % платящих пользователей (без учета выбросов)"
   ]
  },
  {
   "cell_type": "markdown",
   "metadata": {},
   "source": [
    "Распределение доходности платящих пользователей."
   ]
  },
  {
   "cell_type": "code",
   "execution_count": 59,
   "metadata": {},
   "outputs": [
    {
     "data": {
      "text/plain": [
       "0.90    12.22\n",
       "0.95    18.34\n",
       "0.99    58.67\n",
       "Name: Revenue, dtype: float64"
      ]
     },
     "execution_count": 59,
     "metadata": {},
     "output_type": "execute_result"
    }
   ],
   "source": [
    "users_task2.query('Revenue > 0')['Revenue'].quantile([0.90,0.95,0.99])"
   ]
  },
  {
   "cell_type": "code",
   "execution_count": 60,
   "metadata": {},
   "outputs": [
    {
     "data": {
      "image/png": "[encoded data removed]",
      "text/plain": [
       "<Figure size 1080x360 with 1 Axes>"
      ]
     },
     "metadata": {
      "needs_background": "light"
     },
     "output_type": "display_data"
    }
   ],
   "source": [
    "plt.figure(figsize=(15,5))\n",
    "sns.histplot(data=users_task2.query('Revenue > 0 and Revenue <= 58.67'), x='Revenue', binwidth=1)\n",
    "plt.title('Распределение пользователей, которые впервые пришли до декабря 2017 года, по доходности (99%)', pad=10)\n",
    "plt.show()"
   ]
  },
  {
   "cell_type": "markdown",
   "metadata": {},
   "source": [
    "Ограничимся 99% платящих пользователей."
   ]
  },
  {
   "cell_type": "code",
   "execution_count": 61,
   "metadata": {},
   "outputs": [
    {
     "name": "stdout",
     "output_type": "stream",
     "text": [
      "Общее количество пользователей, которые впервые пришли до декабря 2017 года, составило 106 509 пользователей\n",
      "При этом доля пользователей, не совершавших заказы, составила 82.1 %\n",
      "Средняя доходность 99% платящих пользователей составила 5.14 $\n"
     ]
    }
   ],
   "source": [
    "print(f\"Общее количество пользователей, которые впервые пришли до декабря 2017 года, составило \\\n",
    "{'{:,}'.format(users_task2.shape[0]).replace(',', ' ')} пользователей\")\n",
    "print(f\"При этом доля пользователей, не совершавших заказы, составила \\\n",
    "{round(users_task2.query('Revenue == 0').shape[0] *100 / users_task2.shape[0], 1)} %\")\n",
    "print(f\"Средняя доходность 99% платящих пользователей составила \\\n",
    "{round(users_task2.query('Revenue > 0 and Revenue <= 58.67')['Revenue'].mean(), 2)} $\")"
   ]
  },
  {
   "cell_type": "markdown",
   "metadata": {},
   "source": [
    "#### Подход 2. Пронозный LTV\n",
    "\n",
    "LTV - это приведенная стоимость всех будущих потоков дохода, которые отдельный клиент генерирует в течение всего срока использования продукта.\n",
    "\n",
    "На практике обычно считают LTV на определенный период как пронозную доходность клиентов с текущего дня до конца периода на основании истории его прошлых покупок."
   ]
  },
  {
   "cell_type": "markdown",
   "metadata": {},
   "source": [
    "Расчитаем прогнозное количество заказов клиентов на следющий год и прогнозный средний чек. На основе этих показателей получим прогнозный общий доход.\n",
    "\n",
    "Для построения соответствующих моделей воспользуемся библиотекой lifetimes, которая использует Beta-geometric/negative binomial model (BG/NBD) и Gamma-Gamma model."
   ]
  },
  {
   "cell_type": "markdown",
   "metadata": {},
   "source": [
    "Beta-geometric/negative binomial model (BG/NBD) рассчитывает вероятное количество заказов пользователя в будущем на основе частоты его прошлых заказов, времени последнего заказа, вероятности оттока и параметров распределения этих показателей в общем массиве пользователей.\n",
    "\n",
    "Прежде чем тренировать модель на данных за весь последний год для прогноза на следующий год, проверим предсказательную точность модели для нашего случая на уже известных данных.\n",
    "\n",
    "Для этого натренируем модель на данных за первые полгода наблюдений и сделаем предсказание на следующие полгода по рассчитанной модели. Затем сравним фактические и смоделированные показатели."
   ]
  },
  {
   "cell_type": "code",
   "execution_count": 62,
   "metadata": {},
   "outputs": [
    {
     "data": {
      "text/html": [
       "<div>\n",
       "<style scoped>\n",
       "    .dataframe tbody tr th:only-of-type {\n",
       "        vertical-align: middle;\n",
       "    }\n",
       "\n",
       "    .dataframe tbody tr th {\n",
       "        vertical-align: top;\n",
       "    }\n",
       "\n",
       "    .dataframe thead th {\n",
       "        text-align: right;\n",
       "    }\n",
       "</style>\n",
       "<table border=\"1\" class=\"dataframe\">\n",
       "  <thead>\n",
       "    <tr style=\"text-align: right;\">\n",
       "      <th></th>\n",
       "      <th>Uid</th>\n",
       "      <th>Buy Ts</th>\n",
       "      <th>Revenue</th>\n",
       "    </tr>\n",
       "  </thead>\n",
       "  <tbody>\n",
       "    <tr>\n",
       "      <th>0</th>\n",
       "      <td>10000837700716403746</td>\n",
       "      <td>2017-06-21</td>\n",
       "      <td>2.2</td>\n",
       "    </tr>\n",
       "  </tbody>\n",
       "</table>\n",
       "</div>"
      ],
      "text/plain": [
       "                    Uid      Buy Ts  Revenue\n",
       "0  10000837700716403746  2017-06-21      2.2"
      ]
     },
     "execution_count": 62,
     "metadata": {},
     "output_type": "execute_result"
    }
   ],
   "source": [
    "transaction_data = orders_log.loc[:,['Uid','Buy Ts','Revenue']]\n",
    "transaction_data['Buy Ts'] = transaction_data['Buy Ts'].dt.date\n",
    "transaction_data = transaction_data.groupby(['Uid','Buy Ts'], as_index=0).agg({'Revenue':'sum'}).query('Revenue > 0')\n",
    "transaction_data.head(1)"
   ]
  },
  {
   "cell_type": "code",
   "execution_count": 63,
   "metadata": {},
   "outputs": [
    {
     "data": {
      "text/html": [
       "<div>\n",
       "<style scoped>\n",
       "    .dataframe tbody tr th:only-of-type {\n",
       "        vertical-align: middle;\n",
       "    }\n",
       "\n",
       "    .dataframe tbody tr th {\n",
       "        vertical-align: top;\n",
       "    }\n",
       "\n",
       "    .dataframe thead th {\n",
       "        text-align: right;\n",
       "    }\n",
       "</style>\n",
       "<table border=\"1\" class=\"dataframe\">\n",
       "  <thead>\n",
       "    <tr style=\"text-align: right;\">\n",
       "      <th></th>\n",
       "      <th>Uid</th>\n",
       "      <th>Buy Ts</th>\n",
       "      <th>Revenue</th>\n",
       "    </tr>\n",
       "  </thead>\n",
       "  <tbody>\n",
       "    <tr>\n",
       "      <th>min</th>\n",
       "      <td>10000837700716403746</td>\n",
       "      <td>2017-06-01</td>\n",
       "      <td>0.01</td>\n",
       "    </tr>\n",
       "    <tr>\n",
       "      <th>max</th>\n",
       "      <td>9999407206938542587</td>\n",
       "      <td>2018-06-01</td>\n",
       "      <td>4079.17</td>\n",
       "    </tr>\n",
       "  </tbody>\n",
       "</table>\n",
       "</div>"
      ],
      "text/plain": [
       "                      Uid      Buy Ts  Revenue\n",
       "min  10000837700716403746  2017-06-01     0.01\n",
       "max   9999407206938542587  2018-06-01  4079.17"
      ]
     },
     "execution_count": 63,
     "metadata": {},
     "output_type": "execute_result"
    }
   ],
   "source": [
    "transaction_data.apply(['min','max'])"
   ]
  },
  {
   "cell_type": "code",
   "execution_count": 64,
   "metadata": {},
   "outputs": [
    {
     "data": {
      "text/html": [
       "<div>\n",
       "<style scoped>\n",
       "    .dataframe tbody tr th:only-of-type {\n",
       "        vertical-align: middle;\n",
       "    }\n",
       "\n",
       "    .dataframe tbody tr th {\n",
       "        vertical-align: top;\n",
       "    }\n",
       "\n",
       "    .dataframe thead th {\n",
       "        text-align: right;\n",
       "    }\n",
       "</style>\n",
       "<table border=\"1\" class=\"dataframe\">\n",
       "  <thead>\n",
       "    <tr style=\"text-align: right;\">\n",
       "      <th></th>\n",
       "      <th>frequency_cal</th>\n",
       "      <th>recency_cal</th>\n",
       "      <th>T_cal</th>\n",
       "      <th>frequency_holdout</th>\n",
       "      <th>duration_holdout</th>\n",
       "    </tr>\n",
       "    <tr>\n",
       "      <th>Uid</th>\n",
       "      <th></th>\n",
       "      <th></th>\n",
       "      <th></th>\n",
       "      <th></th>\n",
       "      <th></th>\n",
       "    </tr>\n",
       "  </thead>\n",
       "  <tbody>\n",
       "    <tr>\n",
       "      <th>10000837700716403746</th>\n",
       "      <td>0.0</td>\n",
       "      <td>0.0</td>\n",
       "      <td>163.0</td>\n",
       "      <td>0.0</td>\n",
       "      <td>182.0</td>\n",
       "    </tr>\n",
       "    <tr>\n",
       "      <th>10001199569370567060</th>\n",
       "      <td>0.0</td>\n",
       "      <td>0.0</td>\n",
       "      <td>6.0</td>\n",
       "      <td>0.0</td>\n",
       "      <td>182.0</td>\n",
       "    </tr>\n",
       "    <tr>\n",
       "      <th>10002243978166172255</th>\n",
       "      <td>0.0</td>\n",
       "      <td>0.0</td>\n",
       "      <td>47.0</td>\n",
       "      <td>2.0</td>\n",
       "      <td>182.0</td>\n",
       "    </tr>\n",
       "    <tr>\n",
       "      <th>10003351403065971701</th>\n",
       "      <td>0.0</td>\n",
       "      <td>0.0</td>\n",
       "      <td>11.0</td>\n",
       "      <td>0.0</td>\n",
       "      <td>182.0</td>\n",
       "    </tr>\n",
       "    <tr>\n",
       "      <th>10003858247064282365</th>\n",
       "      <td>1.0</td>\n",
       "      <td>7.0</td>\n",
       "      <td>31.0</td>\n",
       "      <td>0.0</td>\n",
       "      <td>182.0</td>\n",
       "    </tr>\n",
       "  </tbody>\n",
       "</table>\n",
       "</div>"
      ],
      "text/plain": [
       "                      frequency_cal  recency_cal  T_cal  frequency_holdout  \\\n",
       "Uid                                                                          \n",
       "10000837700716403746            0.0          0.0  163.0                0.0   \n",
       "10001199569370567060            0.0          0.0    6.0                0.0   \n",
       "10002243978166172255            0.0          0.0   47.0                2.0   \n",
       "10003351403065971701            0.0          0.0   11.0                0.0   \n",
       "10003858247064282365            1.0          7.0   31.0                0.0   \n",
       "\n",
       "                      duration_holdout  \n",
       "Uid                                     \n",
       "10000837700716403746             182.0  \n",
       "10001199569370567060             182.0  \n",
       "10002243978166172255             182.0  \n",
       "10003351403065971701             182.0  \n",
       "10003858247064282365             182.0  "
      ]
     },
     "execution_count": 64,
     "metadata": {},
     "output_type": "execute_result"
    }
   ],
   "source": [
    "from lifetimes.utils import calibration_and_holdout_data\n",
    "\n",
    "summary_cal_holdout = calibration_and_holdout_data(transaction_data, 'Uid', 'Buy Ts',\n",
    "                                        calibration_period_end='2017-12-01',\n",
    "                                        observation_period_end='2018-06-01' )\n",
    "summary_cal_holdout.head()"
   ]
  },
  {
   "cell_type": "code",
   "execution_count": 65,
   "metadata": {},
   "outputs": [
    {
     "data": {
      "text/plain": [
       "87.0"
      ]
     },
     "execution_count": 65,
     "metadata": {},
     "output_type": "execute_result"
    }
   ],
   "source": [
    "summary_cal_holdout.frequency_cal.max()"
   ]
  },
  {
   "cell_type": "code",
   "execution_count": 66,
   "metadata": {},
   "outputs": [
    {
     "data": {
      "text/plain": [
       "<AxesSubplot:title={'center':'Actual Purchases in Holdout Period vs Predicted Purchases'}, xlabel='Purchases in calibration period', ylabel='Average of Purchases in Holdout Period'>"
      ]
     },
     "execution_count": 66,
     "metadata": {},
     "output_type": "execute_result"
    },
    {
     "data": {
      "image/png": "[encoded data removed]",
      "text/plain": [
       "<Figure size 1080x504 with 1 Axes>"
      ]
     },
     "metadata": {
      "needs_background": "light"
     },
     "output_type": "display_data"
    }
   ],
   "source": [
    "from lifetimes import BetaGeoFitter\n",
    "from lifetimes.plotting import plot_calibration_purchases_vs_holdout_purchases\n",
    "\n",
    "bgf = BetaGeoFitter(penalizer_coef=0.0001)\n",
    "bgf.fit(summary_cal_holdout['frequency_cal'], summary_cal_holdout['recency_cal'], summary_cal_holdout['T_cal'])\n",
    "\n",
    "plot_calibration_purchases_vs_holdout_purchases(bgf, summary_cal_holdout, n=25, figsize=(15,7),\n",
    "                                               xticks=range(0,51,1), yticks=range(0,71,2))"
   ]
  },
  {
   "cell_type": "code",
   "execution_count": 67,
   "metadata": {},
   "outputs": [
    {
     "data": {
      "text/plain": [
       "0.00     1.0\n",
       "0.50     1.0\n",
       "0.75     1.0\n",
       "0.95     2.0\n",
       "0.99     4.0\n",
       "1.00    73.0\n",
       "Name: Buy Ts, dtype: float64"
      ]
     },
     "execution_count": 67,
     "metadata": {},
     "output_type": "execute_result"
    }
   ],
   "source": [
    "transaction_data_agg = transaction_data[transaction_data['Buy Ts'] >= pd.to_datetime('2017-12-01')]\\\n",
    ".groupby('Uid', as_index=0).agg({'Buy Ts':'count'})\n",
    "transaction_data_agg['Buy Ts'].quantile([0,0.5,0.75,0.95,0.99,1])"
   ]
  },
  {
   "cell_type": "markdown",
   "metadata": {},
   "source": [
    "Для абсолютного большинства клиентов прогноз модели по числу платежей довольно точен. Есть выбросы по средним значениям для клиентов, совершивших от 7 заказов за полгода, но их ничтожно мало. 99% клиентов совершили до 4 платежей в тестовом прогнозном периоде.\n",
    "\n",
    "Натренируем модель на данных за весь год и рассчитаем прогнозный доход от клиентов за следующий год."
   ]
  },
  {
   "cell_type": "code",
   "execution_count": 68,
   "metadata": {},
   "outputs": [
    {
     "data": {
      "text/html": [
       "<div>\n",
       "<style scoped>\n",
       "    .dataframe tbody tr th:only-of-type {\n",
       "        vertical-align: middle;\n",
       "    }\n",
       "\n",
       "    .dataframe tbody tr th {\n",
       "        vertical-align: top;\n",
       "    }\n",
       "\n",
       "    .dataframe thead th {\n",
       "        text-align: right;\n",
       "    }\n",
       "</style>\n",
       "<table border=\"1\" class=\"dataframe\">\n",
       "  <thead>\n",
       "    <tr style=\"text-align: right;\">\n",
       "      <th></th>\n",
       "      <th>Uid</th>\n",
       "      <th>Buy Ts</th>\n",
       "      <th>Revenue</th>\n",
       "    </tr>\n",
       "  </thead>\n",
       "  <tbody>\n",
       "    <tr>\n",
       "      <th>0</th>\n",
       "      <td>10000837700716403746</td>\n",
       "      <td>2017-06-21</td>\n",
       "      <td>2.20</td>\n",
       "    </tr>\n",
       "    <tr>\n",
       "      <th>1</th>\n",
       "      <td>10000997030965831953</td>\n",
       "      <td>2018-01-19</td>\n",
       "      <td>1.83</td>\n",
       "    </tr>\n",
       "    <tr>\n",
       "      <th>2</th>\n",
       "      <td>10001199569370567060</td>\n",
       "      <td>2017-11-25</td>\n",
       "      <td>1.00</td>\n",
       "    </tr>\n",
       "    <tr>\n",
       "      <th>3</th>\n",
       "      <td>10002243978166172255</td>\n",
       "      <td>2017-10-15</td>\n",
       "      <td>9.16</td>\n",
       "    </tr>\n",
       "    <tr>\n",
       "      <th>4</th>\n",
       "      <td>10002243978166172255</td>\n",
       "      <td>2017-12-08</td>\n",
       "      <td>5.50</td>\n",
       "    </tr>\n",
       "    <tr>\n",
       "      <th>...</th>\n",
       "      <td>...</td>\n",
       "      <td>...</td>\n",
       "      <td>...</td>\n",
       "    </tr>\n",
       "    <tr>\n",
       "      <th>46543</th>\n",
       "      <td>9997777271989789335</td>\n",
       "      <td>2017-11-17</td>\n",
       "      <td>11.61</td>\n",
       "    </tr>\n",
       "    <tr>\n",
       "      <th>46544</th>\n",
       "      <td>999906621142257600</td>\n",
       "      <td>2018-01-26</td>\n",
       "      <td>0.98</td>\n",
       "    </tr>\n",
       "    <tr>\n",
       "      <th>46545</th>\n",
       "      <td>9999334409150825432</td>\n",
       "      <td>2017-12-06</td>\n",
       "      <td>0.98</td>\n",
       "    </tr>\n",
       "    <tr>\n",
       "      <th>46546</th>\n",
       "      <td>9999407206938542587</td>\n",
       "      <td>2018-02-14</td>\n",
       "      <td>0.12</td>\n",
       "    </tr>\n",
       "    <tr>\n",
       "      <th>46547</th>\n",
       "      <td>9999407206938542587</td>\n",
       "      <td>2018-02-15</td>\n",
       "      <td>0.73</td>\n",
       "    </tr>\n",
       "  </tbody>\n",
       "</table>\n",
       "<p>46518 rows × 3 columns</p>\n",
       "</div>"
      ],
      "text/plain": [
       "                        Uid      Buy Ts  Revenue\n",
       "0      10000837700716403746  2017-06-21     2.20\n",
       "1      10000997030965831953  2018-01-19     1.83\n",
       "2      10001199569370567060  2017-11-25     1.00\n",
       "3      10002243978166172255  2017-10-15     9.16\n",
       "4      10002243978166172255  2017-12-08     5.50\n",
       "...                     ...         ...      ...\n",
       "46543   9997777271989789335  2017-11-17    11.61\n",
       "46544    999906621142257600  2018-01-26     0.98\n",
       "46545   9999334409150825432  2017-12-06     0.98\n",
       "46546   9999407206938542587  2018-02-14     0.12\n",
       "46547   9999407206938542587  2018-02-15     0.73\n",
       "\n",
       "[46518 rows x 3 columns]"
      ]
     },
     "execution_count": 68,
     "metadata": {},
     "output_type": "execute_result"
    }
   ],
   "source": [
    "transaction_data"
   ]
  },
  {
   "cell_type": "code",
   "execution_count": 69,
   "metadata": {},
   "outputs": [
    {
     "data": {
      "text/html": [
       "<div>\n",
       "<style scoped>\n",
       "    .dataframe tbody tr th:only-of-type {\n",
       "        vertical-align: middle;\n",
       "    }\n",
       "\n",
       "    .dataframe tbody tr th {\n",
       "        vertical-align: top;\n",
       "    }\n",
       "\n",
       "    .dataframe thead th {\n",
       "        text-align: right;\n",
       "    }\n",
       "</style>\n",
       "<table border=\"1\" class=\"dataframe\">\n",
       "  <thead>\n",
       "    <tr style=\"text-align: right;\">\n",
       "      <th></th>\n",
       "      <th>frequency</th>\n",
       "      <th>recency</th>\n",
       "      <th>T</th>\n",
       "      <th>monetary_value</th>\n",
       "    </tr>\n",
       "    <tr>\n",
       "      <th>Uid</th>\n",
       "      <th></th>\n",
       "      <th></th>\n",
       "      <th></th>\n",
       "      <th></th>\n",
       "    </tr>\n",
       "  </thead>\n",
       "  <tbody>\n",
       "    <tr>\n",
       "      <th>10000837700716403746</th>\n",
       "      <td>0.0</td>\n",
       "      <td>0.0</td>\n",
       "      <td>345.0</td>\n",
       "      <td>0.000</td>\n",
       "    </tr>\n",
       "    <tr>\n",
       "      <th>10000997030965831953</th>\n",
       "      <td>0.0</td>\n",
       "      <td>0.0</td>\n",
       "      <td>133.0</td>\n",
       "      <td>0.000</td>\n",
       "    </tr>\n",
       "    <tr>\n",
       "      <th>10001199569370567060</th>\n",
       "      <td>0.0</td>\n",
       "      <td>0.0</td>\n",
       "      <td>188.0</td>\n",
       "      <td>0.000</td>\n",
       "    </tr>\n",
       "    <tr>\n",
       "      <th>10002243978166172255</th>\n",
       "      <td>2.0</td>\n",
       "      <td>56.0</td>\n",
       "      <td>229.0</td>\n",
       "      <td>4.125</td>\n",
       "    </tr>\n",
       "    <tr>\n",
       "      <th>10003351403065971701</th>\n",
       "      <td>0.0</td>\n",
       "      <td>0.0</td>\n",
       "      <td>193.0</td>\n",
       "      <td>0.000</td>\n",
       "    </tr>\n",
       "  </tbody>\n",
       "</table>\n",
       "</div>"
      ],
      "text/plain": [
       "                      frequency  recency      T  monetary_value\n",
       "Uid                                                            \n",
       "10000837700716403746        0.0      0.0  345.0           0.000\n",
       "10000997030965831953        0.0      0.0  133.0           0.000\n",
       "10001199569370567060        0.0      0.0  188.0           0.000\n",
       "10002243978166172255        2.0     56.0  229.0           4.125\n",
       "10003351403065971701        0.0      0.0  193.0           0.000"
      ]
     },
     "execution_count": 69,
     "metadata": {},
     "output_type": "execute_result"
    }
   ],
   "source": [
    "from lifetimes.utils import summary_data_from_transaction_data\n",
    "\n",
    "data = summary_data_from_transaction_data(transaction_data, 'Uid', 'Buy Ts', 'Revenue', freq='D')\n",
    "data.head()"
   ]
  },
  {
   "cell_type": "markdown",
   "metadata": {},
   "source": [
    "monetary_value в модели - это фактический средний чек."
   ]
  },
  {
   "cell_type": "code",
   "execution_count": 70,
   "metadata": {},
   "outputs": [
    {
     "data": {
      "text/plain": [
       "<lifetimes.BetaGeoFitter: fitted with 36509 subjects, a: 0.94, alpha: 3.73, b: 0.55, r: 0.04>"
      ]
     },
     "execution_count": 70,
     "metadata": {},
     "output_type": "execute_result"
    }
   ],
   "source": [
    "bgf.fit(data['frequency'], data['recency'], data['T'])"
   ]
  },
  {
   "cell_type": "code",
   "execution_count": 71,
   "metadata": {},
   "outputs": [
    {
     "data": {
      "text/html": [
       "<div>\n",
       "<style scoped>\n",
       "    .dataframe tbody tr th:only-of-type {\n",
       "        vertical-align: middle;\n",
       "    }\n",
       "\n",
       "    .dataframe tbody tr th {\n",
       "        vertical-align: top;\n",
       "    }\n",
       "\n",
       "    .dataframe thead th {\n",
       "        text-align: right;\n",
       "    }\n",
       "</style>\n",
       "<table border=\"1\" class=\"dataframe\">\n",
       "  <thead>\n",
       "    <tr style=\"text-align: right;\">\n",
       "      <th></th>\n",
       "      <th>coef</th>\n",
       "      <th>se(coef)</th>\n",
       "      <th>lower 95% bound</th>\n",
       "      <th>upper 95% bound</th>\n",
       "    </tr>\n",
       "  </thead>\n",
       "  <tbody>\n",
       "    <tr>\n",
       "      <th>r</th>\n",
       "      <td>0.040496</td>\n",
       "      <td>0.000808</td>\n",
       "      <td>0.038913</td>\n",
       "      <td>0.042080</td>\n",
       "    </tr>\n",
       "    <tr>\n",
       "      <th>alpha</th>\n",
       "      <td>3.734616</td>\n",
       "      <td>0.188350</td>\n",
       "      <td>3.365451</td>\n",
       "      <td>4.103781</td>\n",
       "    </tr>\n",
       "    <tr>\n",
       "      <th>a</th>\n",
       "      <td>0.944602</td>\n",
       "      <td>0.053009</td>\n",
       "      <td>0.840706</td>\n",
       "      <td>1.048499</td>\n",
       "    </tr>\n",
       "    <tr>\n",
       "      <th>b</th>\n",
       "      <td>0.552010</td>\n",
       "      <td>0.037929</td>\n",
       "      <td>0.477670</td>\n",
       "      <td>0.626351</td>\n",
       "    </tr>\n",
       "  </tbody>\n",
       "</table>\n",
       "</div>"
      ],
      "text/plain": [
       "           coef  se(coef)  lower 95% bound  upper 95% bound\n",
       "r      0.040496  0.000808         0.038913         0.042080\n",
       "alpha  3.734616  0.188350         3.365451         4.103781\n",
       "a      0.944602  0.053009         0.840706         1.048499\n",
       "b      0.552010  0.037929         0.477670         0.626351"
      ]
     },
     "execution_count": 71,
     "metadata": {},
     "output_type": "execute_result"
    }
   ],
   "source": [
    "bgf.summary"
   ]
  },
  {
   "cell_type": "code",
   "execution_count": 72,
   "metadata": {},
   "outputs": [
    {
     "data": {
      "text/html": [
       "<div>\n",
       "<style scoped>\n",
       "    .dataframe tbody tr th:only-of-type {\n",
       "        vertical-align: middle;\n",
       "    }\n",
       "\n",
       "    .dataframe tbody tr th {\n",
       "        vertical-align: top;\n",
       "    }\n",
       "\n",
       "    .dataframe thead th {\n",
       "        text-align: right;\n",
       "    }\n",
       "</style>\n",
       "<table border=\"1\" class=\"dataframe\">\n",
       "  <thead>\n",
       "    <tr style=\"text-align: right;\">\n",
       "      <th></th>\n",
       "      <th>frequency</th>\n",
       "      <th>recency</th>\n",
       "      <th>T</th>\n",
       "      <th>monetary_value</th>\n",
       "      <th>predicted_purchases</th>\n",
       "    </tr>\n",
       "    <tr>\n",
       "      <th>Uid</th>\n",
       "      <th></th>\n",
       "      <th></th>\n",
       "      <th></th>\n",
       "      <th></th>\n",
       "      <th></th>\n",
       "    </tr>\n",
       "  </thead>\n",
       "  <tbody>\n",
       "    <tr>\n",
       "      <th>1457537016336779203</th>\n",
       "      <td>23.0</td>\n",
       "      <td>63.0</td>\n",
       "      <td>305.0</td>\n",
       "      <td>9.992609</td>\n",
       "      <td>1.219599e-13</td>\n",
       "    </tr>\n",
       "    <tr>\n",
       "      <th>15137372780167445785</th>\n",
       "      <td>11.0</td>\n",
       "      <td>27.0</td>\n",
       "      <td>217.0</td>\n",
       "      <td>8.590000</td>\n",
       "      <td>2.678811e-08</td>\n",
       "    </tr>\n",
       "    <tr>\n",
       "      <th>9254819907923411613</th>\n",
       "      <td>10.0</td>\n",
       "      <td>38.0</td>\n",
       "      <td>294.0</td>\n",
       "      <td>5.094000</td>\n",
       "      <td>1.337980e-07</td>\n",
       "    </tr>\n",
       "    <tr>\n",
       "      <th>12593176124809752646</th>\n",
       "      <td>22.0</td>\n",
       "      <td>132.0</td>\n",
       "      <td>339.0</td>\n",
       "      <td>13.447727</td>\n",
       "      <td>2.959847e-07</td>\n",
       "    </tr>\n",
       "    <tr>\n",
       "      <th>10780884444660069286</th>\n",
       "      <td>12.0</td>\n",
       "      <td>36.0</td>\n",
       "      <td>193.0</td>\n",
       "      <td>2.160833</td>\n",
       "      <td>4.278933e-07</td>\n",
       "    </tr>\n",
       "    <tr>\n",
       "      <th>...</th>\n",
       "      <td>...</td>\n",
       "      <td>...</td>\n",
       "      <td>...</td>\n",
       "      <td>...</td>\n",
       "      <td>...</td>\n",
       "    </tr>\n",
       "    <tr>\n",
       "      <th>3501596628378158474</th>\n",
       "      <td>82.0</td>\n",
       "      <td>332.0</td>\n",
       "      <td>333.0</td>\n",
       "      <td>8.479878</td>\n",
       "      <td>3.538906e+01</td>\n",
       "    </tr>\n",
       "    <tr>\n",
       "      <th>3263486045884611639</th>\n",
       "      <td>105.0</td>\n",
       "      <td>360.0</td>\n",
       "      <td>361.0</td>\n",
       "      <td>9.612000</td>\n",
       "      <td>4.251859e+01</td>\n",
       "    </tr>\n",
       "    <tr>\n",
       "      <th>5139615590553126732</th>\n",
       "      <td>104.0</td>\n",
       "      <td>334.0</td>\n",
       "      <td>337.0</td>\n",
       "      <td>7.121923</td>\n",
       "      <td>4.408364e+01</td>\n",
       "    </tr>\n",
       "    <tr>\n",
       "      <th>11920452646463905188</th>\n",
       "      <td>140.0</td>\n",
       "      <td>361.0</td>\n",
       "      <td>363.0</td>\n",
       "      <td>7.973214</td>\n",
       "      <td>5.627926e+01</td>\n",
       "    </tr>\n",
       "    <tr>\n",
       "      <th>6166747268563050393</th>\n",
       "      <td>54.0</td>\n",
       "      <td>64.0</td>\n",
       "      <td>65.0</td>\n",
       "      <td>9.155000</td>\n",
       "      <td>7.002984e+01</td>\n",
       "    </tr>\n",
       "  </tbody>\n",
       "</table>\n",
       "<p>36509 rows × 5 columns</p>\n",
       "</div>"
      ],
      "text/plain": [
       "                      frequency  recency      T  monetary_value  \\\n",
       "Uid                                                               \n",
       "1457537016336779203        23.0     63.0  305.0        9.992609   \n",
       "15137372780167445785       11.0     27.0  217.0        8.590000   \n",
       "9254819907923411613        10.0     38.0  294.0        5.094000   \n",
       "12593176124809752646       22.0    132.0  339.0       13.447727   \n",
       "10780884444660069286       12.0     36.0  193.0        2.160833   \n",
       "...                         ...      ...    ...             ...   \n",
       "3501596628378158474        82.0    332.0  333.0        8.479878   \n",
       "3263486045884611639       105.0    360.0  361.0        9.612000   \n",
       "5139615590553126732       104.0    334.0  337.0        7.121923   \n",
       "11920452646463905188      140.0    361.0  363.0        7.973214   \n",
       "6166747268563050393        54.0     64.0   65.0        9.155000   \n",
       "\n",
       "                      predicted_purchases  \n",
       "Uid                                        \n",
       "1457537016336779203          1.219599e-13  \n",
       "15137372780167445785         2.678811e-08  \n",
       "9254819907923411613          1.337980e-07  \n",
       "12593176124809752646         2.959847e-07  \n",
       "10780884444660069286         4.278933e-07  \n",
       "...                                   ...  \n",
       "3501596628378158474          3.538906e+01  \n",
       "3263486045884611639          4.251859e+01  \n",
       "5139615590553126732          4.408364e+01  \n",
       "11920452646463905188         5.627926e+01  \n",
       "6166747268563050393          7.002984e+01  \n",
       "\n",
       "[36509 rows x 5 columns]"
      ]
     },
     "execution_count": 72,
     "metadata": {},
     "output_type": "execute_result"
    }
   ],
   "source": [
    "t = 182\n",
    "data['predicted_purchases'] = bgf.conditional_expected_number_of_purchases_up_to_time(\n",
    "    t, data['frequency'], data['recency'], data['T'])\n",
    "data.sort_values(by='predicted_purchases')"
   ]
  },
  {
   "cell_type": "markdown",
   "metadata": {},
   "source": [
    "Чтобы убедиться в работоспособности полученной модели, сравним распределение клиентов по количеству заказов из нашего датасета с аналогичным распределением пользователей из искуственно сгенерированного датасета на основе параметров полученной модели."
   ]
  },
  {
   "cell_type": "code",
   "execution_count": 73,
   "metadata": {},
   "outputs": [
    {
     "data": {
      "text/plain": [
       "<AxesSubplot:title={'center':'Frequency of Repeat Transactions'}, xlabel='Number of Calibration Period Transactions', ylabel='Customers'>"
      ]
     },
     "execution_count": 73,
     "metadata": {},
     "output_type": "execute_result"
    },
    {
     "data": {
      "image/png": "[encoded data removed]",
      "text/plain": [
       "<Figure size 432x288 with 1 Axes>"
      ]
     },
     "metadata": {
      "needs_background": "light"
     },
     "output_type": "display_data"
    }
   ],
   "source": [
    "from lifetimes.plotting import plot_period_transactions\n",
    "plot_period_transactions(bgf, max_frequency=10)"
   ]
  },
  {
   "cell_type": "markdown",
   "metadata": {},
   "source": [
    "Мы видим, что сгенерированные моделью данные соответствуют реальному распределению числа платежей среди пользователей."
   ]
  },
  {
   "cell_type": "markdown",
   "metadata": {},
   "source": [
    "Теперь с помощью Gamma-Gamma model определим прогнозный средний чек. Эта модель учитывает частоту заказов и фактический средний чек.\n",
    "\n",
    "Для применения Гамма-Гамма модели убедимся в отсутствии корелляции между количеством повторных заказов и средним чеком."
   ]
  },
  {
   "cell_type": "code",
   "execution_count": 74,
   "metadata": {},
   "outputs": [
    {
     "data": {
      "text/html": [
       "<div>\n",
       "<style scoped>\n",
       "    .dataframe tbody tr th:only-of-type {\n",
       "        vertical-align: middle;\n",
       "    }\n",
       "\n",
       "    .dataframe tbody tr th {\n",
       "        vertical-align: top;\n",
       "    }\n",
       "\n",
       "    .dataframe thead th {\n",
       "        text-align: right;\n",
       "    }\n",
       "</style>\n",
       "<table border=\"1\" class=\"dataframe\">\n",
       "  <thead>\n",
       "    <tr style=\"text-align: right;\">\n",
       "      <th></th>\n",
       "      <th>monetary_value</th>\n",
       "      <th>frequency</th>\n",
       "    </tr>\n",
       "  </thead>\n",
       "  <tbody>\n",
       "    <tr>\n",
       "      <th>monetary_value</th>\n",
       "      <td>1.000000</td>\n",
       "      <td>0.112378</td>\n",
       "    </tr>\n",
       "    <tr>\n",
       "      <th>frequency</th>\n",
       "      <td>0.112378</td>\n",
       "      <td>1.000000</td>\n",
       "    </tr>\n",
       "  </tbody>\n",
       "</table>\n",
       "</div>"
      ],
      "text/plain": [
       "                monetary_value  frequency\n",
       "monetary_value        1.000000   0.112378\n",
       "frequency             0.112378   1.000000"
      ]
     },
     "execution_count": 74,
     "metadata": {},
     "output_type": "execute_result"
    }
   ],
   "source": [
    "returning_customers_summary = data.query('frequency > 0')\n",
    "returning_customers_summary[['monetary_value', 'frequency']].corr()"
   ]
  },
  {
   "cell_type": "markdown",
   "metadata": {},
   "source": [
    "Корелляция отсутствует, двигаемся дальше."
   ]
  },
  {
   "cell_type": "markdown",
   "metadata": {},
   "source": [
    "Рассчитаем прогнозный средний чек клиентов."
   ]
  },
  {
   "cell_type": "code",
   "execution_count": 75,
   "metadata": {},
   "outputs": [
    {
     "data": {
      "text/plain": [
       "<lifetimes.GammaGammaFitter: fitted with 4907 subjects, p: 1.71, q: 2.01, v: 2.94>"
      ]
     },
     "execution_count": 75,
     "metadata": {},
     "output_type": "execute_result"
    }
   ],
   "source": [
    "from lifetimes import GammaGammaFitter\n",
    "\n",
    "ggf = GammaGammaFitter(penalizer_coef = 0)\n",
    "ggf.fit(returning_customers_summary['frequency'],\n",
    "        returning_customers_summary['monetary_value'])"
   ]
  },
  {
   "cell_type": "code",
   "execution_count": 76,
   "metadata": {},
   "outputs": [],
   "source": [
    "data['predicted_AVG_check'] = ggf.conditional_expected_average_profit(data['frequency'], data['monetary_value'])"
   ]
  },
  {
   "cell_type": "markdown",
   "metadata": {},
   "source": [
    "Рассчитаем доходность клиентов за ближайший год на основании полученных данных."
   ]
  },
  {
   "cell_type": "code",
   "execution_count": 77,
   "metadata": {},
   "outputs": [],
   "source": [
    "data['predicted_revenue_for_next_year'] = ggf.customer_lifetime_value(\n",
    "    bgf, #the model to use to predict the number of future transactions\n",
    "    data['frequency'],\n",
    "    data['recency'],\n",
    "    data['T'],\n",
    "    data['monetary_value'],\n",
    "    time=12, # months\n",
    "    discount_rate=0.01,\n",
    "    freq='D')"
   ]
  },
  {
   "cell_type": "code",
   "execution_count": 78,
   "metadata": {},
   "outputs": [
    {
     "data": {
      "text/html": [
       "<div>\n",
       "<style scoped>\n",
       "    .dataframe tbody tr th:only-of-type {\n",
       "        vertical-align: middle;\n",
       "    }\n",
       "\n",
       "    .dataframe tbody tr th {\n",
       "        vertical-align: top;\n",
       "    }\n",
       "\n",
       "    .dataframe thead th {\n",
       "        text-align: right;\n",
       "    }\n",
       "</style>\n",
       "<table border=\"1\" class=\"dataframe\">\n",
       "  <thead>\n",
       "    <tr style=\"text-align: right;\">\n",
       "      <th></th>\n",
       "      <th>frequency</th>\n",
       "      <th>recency</th>\n",
       "      <th>T</th>\n",
       "      <th>monetary_value</th>\n",
       "      <th>predicted_purchases</th>\n",
       "      <th>predicted_AVG_check</th>\n",
       "      <th>predicted_revenue_for_next_year</th>\n",
       "    </tr>\n",
       "    <tr>\n",
       "      <th>Uid</th>\n",
       "      <th></th>\n",
       "      <th></th>\n",
       "      <th></th>\n",
       "      <th></th>\n",
       "      <th></th>\n",
       "      <th></th>\n",
       "      <th></th>\n",
       "    </tr>\n",
       "  </thead>\n",
       "  <tbody>\n",
       "    <tr>\n",
       "      <th>1457537016336779203</th>\n",
       "      <td>23.0</td>\n",
       "      <td>63.0</td>\n",
       "      <td>305.0</td>\n",
       "      <td>9.992609</td>\n",
       "      <td>1.219599e-13</td>\n",
       "      <td>9.865974</td>\n",
       "      <td>1.915591e-12</td>\n",
       "    </tr>\n",
       "    <tr>\n",
       "      <th>15137372780167445785</th>\n",
       "      <td>11.0</td>\n",
       "      <td>27.0</td>\n",
       "      <td>217.0</td>\n",
       "      <td>8.590000</td>\n",
       "      <td>2.678811e-08</td>\n",
       "      <td>8.404023</td>\n",
       "      <td>3.475932e-07</td>\n",
       "    </tr>\n",
       "    <tr>\n",
       "      <th>9254819907923411613</th>\n",
       "      <td>10.0</td>\n",
       "      <td>38.0</td>\n",
       "      <td>294.0</td>\n",
       "      <td>5.094000</td>\n",
       "      <td>1.337980e-07</td>\n",
       "      <td>5.086157</td>\n",
       "      <td>1.082081e-06</td>\n",
       "    </tr>\n",
       "    <tr>\n",
       "      <th>10780884444660069286</th>\n",
       "      <td>12.0</td>\n",
       "      <td>36.0</td>\n",
       "      <td>193.0</td>\n",
       "      <td>2.160833</td>\n",
       "      <td>4.278933e-07</td>\n",
       "      <td>2.292346</td>\n",
       "      <td>1.496557e-06</td>\n",
       "    </tr>\n",
       "    <tr>\n",
       "      <th>13861787462523859202</th>\n",
       "      <td>35.0</td>\n",
       "      <td>90.0</td>\n",
       "      <td>169.0</td>\n",
       "      <td>5.756857</td>\n",
       "      <td>4.704882e-07</td>\n",
       "      <td>5.743480</td>\n",
       "      <td>4.058828e-06</td>\n",
       "    </tr>\n",
       "    <tr>\n",
       "      <th>...</th>\n",
       "      <td>...</td>\n",
       "      <td>...</td>\n",
       "      <td>...</td>\n",
       "      <td>...</td>\n",
       "      <td>...</td>\n",
       "      <td>...</td>\n",
       "      <td>...</td>\n",
       "    </tr>\n",
       "    <tr>\n",
       "      <th>6166747268563050393</th>\n",
       "      <td>54.0</td>\n",
       "      <td>64.0</td>\n",
       "      <td>65.0</td>\n",
       "      <td>9.155000</td>\n",
       "      <td>7.002984e+01</td>\n",
       "      <td>9.109371</td>\n",
       "      <td>8.738470e+02</td>\n",
       "    </tr>\n",
       "    <tr>\n",
       "      <th>9737640335185488211</th>\n",
       "      <td>37.0</td>\n",
       "      <td>270.0</td>\n",
       "      <td>273.0</td>\n",
       "      <td>35.206486</td>\n",
       "      <td>1.832260e+01</td>\n",
       "      <td>34.729319</td>\n",
       "      <td>1.001875e+03</td>\n",
       "    </tr>\n",
       "    <tr>\n",
       "      <th>13519435391454066121</th>\n",
       "      <td>10.0</td>\n",
       "      <td>49.0</td>\n",
       "      <td>50.0</td>\n",
       "      <td>66.223000</td>\n",
       "      <td>1.408974e+01</td>\n",
       "      <td>62.793431</td>\n",
       "      <td>1.189267e+03</td>\n",
       "    </tr>\n",
       "    <tr>\n",
       "      <th>6268225112727843212</th>\n",
       "      <td>24.0</td>\n",
       "      <td>75.0</td>\n",
       "      <td>76.0</td>\n",
       "      <td>46.392083</td>\n",
       "      <td>2.821902e+01</td>\n",
       "      <td>45.392992</td>\n",
       "      <td>1.781111e+03</td>\n",
       "    </tr>\n",
       "    <tr>\n",
       "      <th>11149926373378902217</th>\n",
       "      <td>13.0</td>\n",
       "      <td>150.0</td>\n",
       "      <td>166.0</td>\n",
       "      <td>716.371538</td>\n",
       "      <td>7.681019e+00</td>\n",
       "      <td>685.338394</td>\n",
       "      <td>7.909572e+03</td>\n",
       "    </tr>\n",
       "  </tbody>\n",
       "</table>\n",
       "<p>36509 rows × 7 columns</p>\n",
       "</div>"
      ],
      "text/plain": [
       "                      frequency  recency      T  monetary_value  \\\n",
       "Uid                                                               \n",
       "1457537016336779203        23.0     63.0  305.0        9.992609   \n",
       "15137372780167445785       11.0     27.0  217.0        8.590000   \n",
       "9254819907923411613        10.0     38.0  294.0        5.094000   \n",
       "10780884444660069286       12.0     36.0  193.0        2.160833   \n",
       "13861787462523859202       35.0     90.0  169.0        5.756857   \n",
       "...                         ...      ...    ...             ...   \n",
       "6166747268563050393        54.0     64.0   65.0        9.155000   \n",
       "9737640335185488211        37.0    270.0  273.0       35.206486   \n",
       "13519435391454066121       10.0     49.0   50.0       66.223000   \n",
       "6268225112727843212        24.0     75.0   76.0       46.392083   \n",
       "11149926373378902217       13.0    150.0  166.0      716.371538   \n",
       "\n",
       "                      predicted_purchases  predicted_AVG_check  \\\n",
       "Uid                                                              \n",
       "1457537016336779203          1.219599e-13             9.865974   \n",
       "15137372780167445785         2.678811e-08             8.404023   \n",
       "9254819907923411613          1.337980e-07             5.086157   \n",
       "10780884444660069286         4.278933e-07             2.292346   \n",
       "13861787462523859202         4.704882e-07             5.743480   \n",
       "...                                   ...                  ...   \n",
       "6166747268563050393          7.002984e+01             9.109371   \n",
       "9737640335185488211          1.832260e+01            34.729319   \n",
       "13519435391454066121         1.408974e+01            62.793431   \n",
       "6268225112727843212          2.821902e+01            45.392992   \n",
       "11149926373378902217         7.681019e+00           685.338394   \n",
       "\n",
       "                      predicted_revenue_for_next_year  \n",
       "Uid                                                    \n",
       "1457537016336779203                      1.915591e-12  \n",
       "15137372780167445785                     3.475932e-07  \n",
       "9254819907923411613                      1.082081e-06  \n",
       "10780884444660069286                     1.496557e-06  \n",
       "13861787462523859202                     4.058828e-06  \n",
       "...                                               ...  \n",
       "6166747268563050393                      8.738470e+02  \n",
       "9737640335185488211                      1.001875e+03  \n",
       "13519435391454066121                     1.189267e+03  \n",
       "6268225112727843212                      1.781111e+03  \n",
       "11149926373378902217                     7.909572e+03  \n",
       "\n",
       "[36509 rows x 7 columns]"
      ]
     },
     "execution_count": 78,
     "metadata": {},
     "output_type": "execute_result"
    }
   ],
   "source": [
    "data.sort_values('predicted_revenue_for_next_year')"
   ]
  },
  {
   "cell_type": "code",
   "execution_count": 79,
   "metadata": {},
   "outputs": [
    {
     "data": {
      "image/png": "[encoded data removed]",
      "text/plain": [
       "<Figure size 1080x720 with 1 Axes>"
      ]
     },
     "metadata": {
      "needs_background": "light"
     },
     "output_type": "display_data"
    }
   ],
   "source": [
    "plt.figure(figsize=(15,10))\n",
    "plt.title(textwrap.fill('Распределение пользователей по фактическому и прогнозному среднему чеку \\\n",
    "с учетом их количества заказов (размер и цвет точки)', 100), pad=15)\n",
    "sns.scatterplot(data=data.query('monetary_value < 100'), \n",
    "                x='monetary_value', y='predicted_AVG_check', \n",
    "                hue='frequency', palette='viridis_r',\n",
    "                size='frequency', sizes=(10,200))\n",
    "plt.xlabel('actual_AVG_check')\n",
    "plt.show()"
   ]
  },
  {
   "cell_type": "markdown",
   "metadata": {},
   "source": [
    "На графике отчетливо видно, что прогнозный средний чек корректировался моделью в меньшую сторону для клиентов, совершивших малое число заказов. \n",
    "\n",
    "Точки клиентов, совершивших среднее и большое число заказов, выстроились по биссектрисе между осями с небольшим занижением из-за дисконтирования, заложенного в модель."
   ]
  },
  {
   "cell_type": "markdown",
   "metadata": {},
   "source": [
    "**Ответ на вопрос 2 (подход 2)**"
   ]
  },
  {
   "cell_type": "code",
   "execution_count": 80,
   "metadata": {
    "scrolled": true
   },
   "outputs": [
    {
     "name": "stdout",
     "output_type": "stream",
     "text": [
      "Cредняя прогнозная доходность пользователей, которые впервые пришли до декабря 2017 года, на ближайший год составила 1.29 $\n"
     ]
    }
   ],
   "source": [
    "print(f\"Cредняя прогнозная доходность пользователей, которые впервые пришли до декабря 2017 года, \\\n",
    "на ближайший год составила {round(data['predicted_revenue_for_next_year'].mean(), 2)} $\")"
   ]
  },
  {
   "cell_type": "markdown",
   "metadata": {},
   "source": [
    "Посчитаем показатель только по платящим пользователям и исключим выбросы."
   ]
  },
  {
   "cell_type": "code",
   "execution_count": 81,
   "metadata": {},
   "outputs": [
    {
     "data": {
      "text/plain": [
       "0.90       3.865578\n",
       "0.95       7.319340\n",
       "0.99     126.248411\n",
       "1.00    7909.572366\n",
       "Name: predicted_revenue_for_next_year, dtype: float64"
      ]
     },
     "execution_count": 81,
     "metadata": {},
     "output_type": "execute_result"
    }
   ],
   "source": [
    "data.query('monetary_value > 0')['predicted_revenue_for_next_year'].quantile([0.90,0.95,0.99,1])"
   ]
  },
  {
   "cell_type": "code",
   "execution_count": 82,
   "metadata": {},
   "outputs": [
    {
     "data": {
      "image/png": "[encoded data removed]",
      "text/plain": [
       "<Figure size 1080x360 with 1 Axes>"
      ]
     },
     "metadata": {
      "needs_background": "light"
     },
     "output_type": "display_data"
    }
   ],
   "source": [
    "plt.figure(figsize=(15,5))\n",
    "sns.histplot(data=data.query('monetary_value > 0 and predicted_revenue_for_next_year <= 126.2485'), \n",
    "             x='predicted_revenue_for_next_year', binwidth=1)\n",
    "plt.title(textwrap.fill('Распределение пользователей, которые впервые пришли до декабря 2017 года, \\\n",
    "по проuнозной доходности на следующий год (99%)', 75), pad=10)\n",
    "plt.show()"
   ]
  },
  {
   "cell_type": "markdown",
   "metadata": {},
   "source": [
    "Ограничимся 99% платящих пользователей."
   ]
  },
  {
   "cell_type": "code",
   "execution_count": 83,
   "metadata": {},
   "outputs": [
    {
     "name": "stdout",
     "output_type": "stream",
     "text": [
      "Средняя прогнозная доходность 99% платящих пользователей, которые впервые пришли до декабря 2017 года, на\n",
      "следующий год составила 1.92 $\n"
     ]
    }
   ],
   "source": [
    "mean2 = round(data.query('monetary_value > 0 and predicted_revenue_for_next_year <= 126.2485')\\\n",
    "['predicted_revenue_for_next_year'].mean(), 2)\n",
    "\n",
    "print(textwrap.fill(f\"Средняя прогнозная доходность 99% платящих пользователей, которые впервые пришли до \\\n",
    "декабря 2017 года, на следующий год составила {mean2} $\", 105))"
   ]
  },
  {
   "cell_type": "markdown",
   "metadata": {},
   "source": [
    "Прогнозная доходность значительно ниже фактической по текущим клиентам из-за рассчитанной моделью вероятности оттока."
   ]
  },
  {
   "cell_type": "markdown",
   "metadata": {},
   "source": [
    "### Вопрос 3\n",
    "\n",
    "3) Какая кагорта (по месяцам первого посещения) принесла больше всего денег за полгода жизни?"
   ]
  },
  {
   "cell_type": "markdown",
   "metadata": {},
   "source": [
    "Получим данные по первым визитам пользователей и определим когорты."
   ]
  },
  {
   "cell_type": "code",
   "execution_count": 84,
   "metadata": {},
   "outputs": [
    {
     "data": {
      "text/html": [
       "<div>\n",
       "<style scoped>\n",
       "    .dataframe tbody tr th:only-of-type {\n",
       "        vertical-align: middle;\n",
       "    }\n",
       "\n",
       "    .dataframe tbody tr th {\n",
       "        vertical-align: top;\n",
       "    }\n",
       "\n",
       "    .dataframe thead th {\n",
       "        text-align: right;\n",
       "    }\n",
       "</style>\n",
       "<table border=\"1\" class=\"dataframe\">\n",
       "  <thead>\n",
       "    <tr style=\"text-align: right;\">\n",
       "      <th></th>\n",
       "      <th>Uid</th>\n",
       "      <th>first_visit</th>\n",
       "      <th>cohort</th>\n",
       "    </tr>\n",
       "  </thead>\n",
       "  <tbody>\n",
       "    <tr>\n",
       "      <th>0</th>\n",
       "      <td>13890188992670018146</td>\n",
       "      <td>2017-06-01 00:01:00</td>\n",
       "      <td>2017-06</td>\n",
       "    </tr>\n",
       "    <tr>\n",
       "      <th>1</th>\n",
       "      <td>16152015161748786004</td>\n",
       "      <td>2017-06-01 00:02:00</td>\n",
       "      <td>2017-06</td>\n",
       "    </tr>\n",
       "    <tr>\n",
       "      <th>2</th>\n",
       "      <td>16706502037388497502</td>\n",
       "      <td>2017-06-01 00:02:00</td>\n",
       "      <td>2017-06</td>\n",
       "    </tr>\n",
       "    <tr>\n",
       "      <th>3</th>\n",
       "      <td>8842918131297115663</td>\n",
       "      <td>2017-06-01 00:04:00</td>\n",
       "      <td>2017-06</td>\n",
       "    </tr>\n",
       "    <tr>\n",
       "      <th>4</th>\n",
       "      <td>10329302124590727494</td>\n",
       "      <td>2017-06-01 00:09:00</td>\n",
       "      <td>2017-06</td>\n",
       "    </tr>\n",
       "    <tr>\n",
       "      <th>...</th>\n",
       "      <td>...</td>\n",
       "      <td>...</td>\n",
       "      <td>...</td>\n",
       "    </tr>\n",
       "    <tr>\n",
       "      <th>359395</th>\n",
       "      <td>83872787173869366</td>\n",
       "      <td>2018-05-31 23:59:00</td>\n",
       "      <td>2018-05</td>\n",
       "    </tr>\n",
       "    <tr>\n",
       "      <th>359396</th>\n",
       "      <td>3720373600909378583</td>\n",
       "      <td>2018-05-31 23:59:00</td>\n",
       "      <td>2018-05</td>\n",
       "    </tr>\n",
       "    <tr>\n",
       "      <th>359397</th>\n",
       "      <td>10723414689244282024</td>\n",
       "      <td>2018-05-31 23:59:00</td>\n",
       "      <td>2018-05</td>\n",
       "    </tr>\n",
       "    <tr>\n",
       "      <th>359398</th>\n",
       "      <td>10406407303624848652</td>\n",
       "      <td>2018-05-31 23:59:00</td>\n",
       "      <td>2018-05</td>\n",
       "    </tr>\n",
       "    <tr>\n",
       "      <th>359399</th>\n",
       "      <td>4906562732540547408</td>\n",
       "      <td>2018-05-31 23:59:00</td>\n",
       "      <td>2018-05</td>\n",
       "    </tr>\n",
       "  </tbody>\n",
       "</table>\n",
       "<p>228169 rows × 3 columns</p>\n",
       "</div>"
      ],
      "text/plain": [
       "                         Uid         first_visit   cohort\n",
       "0       13890188992670018146 2017-06-01 00:01:00  2017-06\n",
       "1       16152015161748786004 2017-06-01 00:02:00  2017-06\n",
       "2       16706502037388497502 2017-06-01 00:02:00  2017-06\n",
       "3        8842918131297115663 2017-06-01 00:04:00  2017-06\n",
       "4       10329302124590727494 2017-06-01 00:09:00  2017-06\n",
       "...                      ...                 ...      ...\n",
       "359395     83872787173869366 2018-05-31 23:59:00  2018-05\n",
       "359396   3720373600909378583 2018-05-31 23:59:00  2018-05\n",
       "359397  10723414689244282024 2018-05-31 23:59:00  2018-05\n",
       "359398  10406407303624848652 2018-05-31 23:59:00  2018-05\n",
       "359399   4906562732540547408 2018-05-31 23:59:00  2018-05\n",
       "\n",
       "[228169 rows x 3 columns]"
      ]
     },
     "execution_count": 84,
     "metadata": {},
     "output_type": "execute_result"
    }
   ],
   "source": [
    "# данные уже отсортированы по дате, поэтому просто удалим дубликаты по id \n",
    "# таким образом получим первые сессии пользователей\n",
    "cohort_mapping = visits_log.drop_duplicates(subset=['Uid'])\n",
    "cohort_mapping['cohort'] = cohort_mapping['Start Ts'].dt.to_period('M').apply(str)\n",
    "cohort_mapping = cohort_mapping[['Uid','Start Ts','cohort']].rename(columns={'Start Ts':'first_visit'})\n",
    "cohort_mapping"
   ]
  },
  {
   "cell_type": "markdown",
   "metadata": {},
   "source": [
    "Подтянем к данным о платежах и отфильтруем платежи за первые полгода жизни пользователя."
   ]
  },
  {
   "cell_type": "code",
   "execution_count": 85,
   "metadata": {},
   "outputs": [
    {
     "data": {
      "text/plain": [
       "0      28103\n",
       "1       1422\n",
       "2        837\n",
       "3        628\n",
       "4        532\n",
       "       ...  \n",
       "178       53\n",
       "179       43\n",
       "180       41\n",
       "181       48\n",
       "182       59\n",
       "Name: days_from_1st_visit, Length: 183, dtype: int64"
      ]
     },
     "execution_count": 85,
     "metadata": {},
     "output_type": "execute_result"
    }
   ],
   "source": [
    "data_task3 = orders_log.merge(cohort_mapping, how='left', on='Uid')[['Uid','cohort','first_visit','Buy Ts','Revenue']]\n",
    "# вычисляем разницу между временем платежа и временем первого визита в днях\n",
    "data_task3['days_from_1st_visit'] = (data_task3['Buy Ts'] - data_task3['first_visit']).dt.days\n",
    "# оставляем только платежи менее 365/2 дней с даты первого визита\n",
    "data_task3 = data_task3.query('days_from_1st_visit < 365/2')\n",
    "data_task3['days_from_1st_visit'].value_counts().sort_index()"
   ]
  },
  {
   "cell_type": "markdown",
   "metadata": {},
   "source": [
    "Получили данные о платежах клиентов, совершенных в первые полгода жизни."
   ]
  },
  {
   "cell_type": "code",
   "execution_count": 86,
   "metadata": {},
   "outputs": [
    {
     "data": {
      "text/html": [
       "<div>\n",
       "<style scoped>\n",
       "    .dataframe tbody tr th:only-of-type {\n",
       "        vertical-align: middle;\n",
       "    }\n",
       "\n",
       "    .dataframe tbody tr th {\n",
       "        vertical-align: top;\n",
       "    }\n",
       "\n",
       "    .dataframe thead th {\n",
       "        text-align: right;\n",
       "    }\n",
       "</style>\n",
       "<table border=\"1\" class=\"dataframe\">\n",
       "  <thead>\n",
       "    <tr style=\"text-align: right;\">\n",
       "      <th></th>\n",
       "      <th>Uid</th>\n",
       "      <th>cohort</th>\n",
       "      <th>first_visit</th>\n",
       "      <th>Buy Ts</th>\n",
       "      <th>Revenue</th>\n",
       "      <th>days_from_1st_visit</th>\n",
       "    </tr>\n",
       "  </thead>\n",
       "  <tbody>\n",
       "    <tr>\n",
       "      <th>106</th>\n",
       "      <td>12580826049914769163</td>\n",
       "      <td>2017-06</td>\n",
       "      <td>2017-06-01 08:22:00</td>\n",
       "      <td>2017-06-02 09:41:00</td>\n",
       "      <td>1.83</td>\n",
       "      <td>1</td>\n",
       "    </tr>\n",
       "    <tr>\n",
       "      <th>139</th>\n",
       "      <td>3644482766749211722</td>\n",
       "      <td>2017-06</td>\n",
       "      <td>2017-06-01 09:22:00</td>\n",
       "      <td>2017-06-02 12:44:00</td>\n",
       "      <td>0.85</td>\n",
       "      <td>1</td>\n",
       "    </tr>\n",
       "    <tr>\n",
       "      <th>155</th>\n",
       "      <td>3644482766749211722</td>\n",
       "      <td>2017-06</td>\n",
       "      <td>2017-06-01 09:22:00</td>\n",
       "      <td>2017-06-02 15:08:00</td>\n",
       "      <td>12.83</td>\n",
       "      <td>1</td>\n",
       "    </tr>\n",
       "    <tr>\n",
       "      <th>173</th>\n",
       "      <td>10042262218052845742</td>\n",
       "      <td>2017-06</td>\n",
       "      <td>2017-06-01 12:53:00</td>\n",
       "      <td>2017-06-02 17:39:00</td>\n",
       "      <td>0.30</td>\n",
       "      <td>1</td>\n",
       "    </tr>\n",
       "    <tr>\n",
       "      <th>176</th>\n",
       "      <td>3738863118490040629</td>\n",
       "      <td>2017-06</td>\n",
       "      <td>2017-06-01 12:30:00</td>\n",
       "      <td>2017-06-02 17:58:00</td>\n",
       "      <td>2.69</td>\n",
       "      <td>1</td>\n",
       "    </tr>\n",
       "    <tr>\n",
       "      <th>...</th>\n",
       "      <td>...</td>\n",
       "      <td>...</td>\n",
       "      <td>...</td>\n",
       "      <td>...</td>\n",
       "      <td>...</td>\n",
       "      <td>...</td>\n",
       "    </tr>\n",
       "    <tr>\n",
       "      <th>50402</th>\n",
       "      <td>656193162812616454</td>\n",
       "      <td>2018-05</td>\n",
       "      <td>2018-05-02 09:08:00</td>\n",
       "      <td>2018-05-31 23:29:00</td>\n",
       "      <td>2.75</td>\n",
       "      <td>29</td>\n",
       "    </tr>\n",
       "    <tr>\n",
       "      <th>50403</th>\n",
       "      <td>5300693976971713685</td>\n",
       "      <td>2018-05</td>\n",
       "      <td>2018-05-30 22:31:00</td>\n",
       "      <td>2018-05-31 23:30:00</td>\n",
       "      <td>5.50</td>\n",
       "      <td>1</td>\n",
       "    </tr>\n",
       "    <tr>\n",
       "      <th>50404</th>\n",
       "      <td>14926823272464019002</td>\n",
       "      <td>2018-05</td>\n",
       "      <td>2018-05-29 12:09:00</td>\n",
       "      <td>2018-05-31 23:36:00</td>\n",
       "      <td>0.61</td>\n",
       "      <td>2</td>\n",
       "    </tr>\n",
       "    <tr>\n",
       "      <th>50406</th>\n",
       "      <td>13121453305610619664</td>\n",
       "      <td>2018-03</td>\n",
       "      <td>2018-03-13 15:34:00</td>\n",
       "      <td>2018-05-31 23:40:00</td>\n",
       "      <td>1.16</td>\n",
       "      <td>79</td>\n",
       "    </tr>\n",
       "    <tr>\n",
       "      <th>50409</th>\n",
       "      <td>1805512004303848280</td>\n",
       "      <td>2017-12</td>\n",
       "      <td>2017-12-07 23:20:00</td>\n",
       "      <td>2018-05-31 23:43:00</td>\n",
       "      <td>3.67</td>\n",
       "      <td>175</td>\n",
       "    </tr>\n",
       "  </tbody>\n",
       "</table>\n",
       "<p>18968 rows × 6 columns</p>\n",
       "</div>"
      ],
      "text/plain": [
       "                        Uid   cohort         first_visit              Buy Ts  \\\n",
       "106    12580826049914769163  2017-06 2017-06-01 08:22:00 2017-06-02 09:41:00   \n",
       "139     3644482766749211722  2017-06 2017-06-01 09:22:00 2017-06-02 12:44:00   \n",
       "155     3644482766749211722  2017-06 2017-06-01 09:22:00 2017-06-02 15:08:00   \n",
       "173    10042262218052845742  2017-06 2017-06-01 12:53:00 2017-06-02 17:39:00   \n",
       "176     3738863118490040629  2017-06 2017-06-01 12:30:00 2017-06-02 17:58:00   \n",
       "...                     ...      ...                 ...                 ...   \n",
       "50402    656193162812616454  2018-05 2018-05-02 09:08:00 2018-05-31 23:29:00   \n",
       "50403   5300693976971713685  2018-05 2018-05-30 22:31:00 2018-05-31 23:30:00   \n",
       "50404  14926823272464019002  2018-05 2018-05-29 12:09:00 2018-05-31 23:36:00   \n",
       "50406  13121453305610619664  2018-03 2018-03-13 15:34:00 2018-05-31 23:40:00   \n",
       "50409   1805512004303848280  2017-12 2017-12-07 23:20:00 2018-05-31 23:43:00   \n",
       "\n",
       "       Revenue  days_from_1st_visit  \n",
       "106       1.83                    1  \n",
       "139       0.85                    1  \n",
       "155      12.83                    1  \n",
       "173       0.30                    1  \n",
       "176       2.69                    1  \n",
       "...        ...                  ...  \n",
       "50402     2.75                   29  \n",
       "50403     5.50                    1  \n",
       "50404     0.61                    2  \n",
       "50406     1.16                   79  \n",
       "50409     3.67                  175  \n",
       "\n",
       "[18968 rows x 6 columns]"
      ]
     },
     "execution_count": 86,
     "metadata": {},
     "output_type": "execute_result"
    }
   ],
   "source": [
    "data_task3.query('days_from_1st_visit > 0')"
   ]
  },
  {
   "cell_type": "markdown",
   "metadata": {},
   "source": [
    "Агрегируем доход по когортам и визуализируем отчет."
   ]
  },
  {
   "cell_type": "code",
   "execution_count": 87,
   "metadata": {},
   "outputs": [
    {
     "data": {
      "image/png": "[encoded data removed]",
      "text/plain": [
       "<Figure size 1080x504 with 1 Axes>"
      ]
     },
     "metadata": {
      "needs_background": "light"
     },
     "output_type": "display_data"
    }
   ],
   "source": [
    "data = data_task3.groupby('cohort', as_index=0).agg({'Revenue':'sum'})\n",
    "colors=[]\n",
    "for value in data['Revenue']:\n",
    "    if value == data['Revenue'].max():\n",
    "        colors.append('tab:red')\n",
    "    else:\n",
    "        colors.append('tab:purple')\n",
    "\n",
    "plt.figure(figsize=(15,7))\n",
    "ax = sns.barplot(data=data, y='cohort', x='Revenue', orient='h', palette=colors)\n",
    "plt.title('Доходность когорт за первые полгода жизни клиентов ($)', pad=15)\n",
    "plt.ylabel('Когорта')\n",
    "plt.xticks(range(0,35000+1,5000))\n",
    "\n",
    "for bars in ax.containers:\n",
    "    ax.bar_label(bars, labels=[f'{x:,.0f}'.replace(',', ' ') for x in bars.datavalues], padding=5)\n",
    "\n",
    "plt.show()"
   ]
  },
  {
   "cell_type": "markdown",
   "metadata": {},
   "source": [
    "**Ответ на вопрос 3:**\n",
    "\n",
    "Когорта от 2017-09 принесла больше всего денег за полгода жизни пользователей."
   ]
  }
 ],
 "metadata": {
  "kernelspec": {
   "display_name": "Python 3",
   "language": "python",
   "name": "python3"
  },
  "language_info": {
   "codemirror_mode": {
    "name": "ipython",
    "version": 3
   },
   "file_extension": ".py",
   "mimetype": "text/x-python",
   "name": "python",
   "nbconvert_exporter": "python",
   "pygments_lexer": "ipython3",
   "version": "3.8.5"
  }
 },
 "nbformat": 4,
 "nbformat_minor": 4
}

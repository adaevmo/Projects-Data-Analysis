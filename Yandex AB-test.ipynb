{
 "cells": [
  {
   "cell_type": "markdown",
   "metadata": {},
   "source": [
    "### Задание\n",
    "\n",
    "На главной странице Яндекса поменяли местами иконки \"Маркет\" и \"Карты\" над строкой поиска. Необходимо проверить повлияло ли изменение и стали ли пользователи чаще кликать на иконку \"Маркета\" по возвращению на сайт.\n",
    "\n",
    "Формула кликабельности иконки маркета:\n",
    "\n",
    "CTR = Сумма кликов / Сумма сессий\n",
    "\n",
    "Задачи:\n",
    "1. Проверьте гипотезу о кликабельности иконки с помощью метрики CTR (click-through-rate)\n",
    "2. Напишите выводы, которые можно сделать на основе анализа результатов\n",
    "\n",
    "### Описание колонок\n",
    "\n",
    "- `user_id` – идентификатор пользователя\n",
    "- `session_id` – идентификатор сессии\n",
    "- `click_id` – идентификатор клика\n",
    "- `experimentVariant` – вариант эксперимента"
   ]
  },
  {
   "cell_type": "code",
   "execution_count": 71,
   "metadata": {},
   "outputs": [],
   "source": [
    "import pandas as pd\n",
    "import seaborn as sns\n",
    "import matplotlib.pyplot as plt\n",
    "import scipy.stats as stats\n",
    "import numpy as np"
   ]
  },
  {
   "cell_type": "code",
   "execution_count": 72,
   "metadata": {},
   "outputs": [],
   "source": [
    "df0 = pd.read_csv('C:\\\\contest\\\\case_ctr.csv', sep = ';')"
   ]
  },
  {
   "cell_type": "code",
   "execution_count": 73,
   "metadata": {},
   "outputs": [],
   "source": [
    "df0 = df0.drop(columns='Unnamed: 0')"
   ]
  },
  {
   "cell_type": "code",
   "execution_count": 74,
   "metadata": {},
   "outputs": [
    {
     "data": {
      "text/html": [
       "<div>\n",
       "<style scoped>\n",
       "    .dataframe tbody tr th:only-of-type {\n",
       "        vertical-align: middle;\n",
       "    }\n",
       "\n",
       "    .dataframe tbody tr th {\n",
       "        vertical-align: top;\n",
       "    }\n",
       "\n",
       "    .dataframe thead th {\n",
       "        text-align: right;\n",
       "    }\n",
       "</style>\n",
       "<table border=\"1\" class=\"dataframe\">\n",
       "  <thead>\n",
       "    <tr style=\"text-align: right;\">\n",
       "      <th></th>\n",
       "      <th>user_id</th>\n",
       "      <th>session_id</th>\n",
       "      <th>click_id</th>\n",
       "      <th>experimentVariant</th>\n",
       "    </tr>\n",
       "  </thead>\n",
       "  <tbody>\n",
       "    <tr>\n",
       "      <th>0</th>\n",
       "      <td>4299b8c9c50c3e4e8a067f448426463e</td>\n",
       "      <td>08f9c3b0e2ff8da7bad6cc200fa735a2</td>\n",
       "      <td>56bcee80ce68ddc58c178a63288965b2</td>\n",
       "      <td>1</td>\n",
       "    </tr>\n",
       "    <tr>\n",
       "      <th>1</th>\n",
       "      <td>863829e0fc8e0dcd88f44c6a63db836a</td>\n",
       "      <td>d0ebf6ddaa8702e6de4e46854a1136ff</td>\n",
       "      <td>b209c6b14e91606a99d637ff6eb74cc6</td>\n",
       "      <td>1</td>\n",
       "    </tr>\n",
       "    <tr>\n",
       "      <th>2</th>\n",
       "      <td>640af3312483bea44b8159a8caaf0b3d</td>\n",
       "      <td>838c4a718830b5f1ac7be5e70745ff47</td>\n",
       "      <td>3f3d510c709ae5d9bae0331fcf776f3a</td>\n",
       "      <td>1</td>\n",
       "    </tr>\n",
       "    <tr>\n",
       "      <th>3</th>\n",
       "      <td>43de481cae63944b81db6fd5567a12bb</td>\n",
       "      <td>8f36aead1ceafb3e67f9957a7765549e</td>\n",
       "      <td>da73306047217a73a6ee0ea7477f2ad7</td>\n",
       "      <td>0</td>\n",
       "    </tr>\n",
       "    <tr>\n",
       "      <th>4</th>\n",
       "      <td>b84dd1a6c3df2e08eb7bef496cdf6d39</td>\n",
       "      <td>09799cdf1394b0e4b86ace899b7f218e</td>\n",
       "      <td>6e4b93932be600a5536c291888996037</td>\n",
       "      <td>1</td>\n",
       "    </tr>\n",
       "  </tbody>\n",
       "</table>\n",
       "</div>"
      ],
      "text/plain": [
       "                            user_id                        session_id  \\\n",
       "0  4299b8c9c50c3e4e8a067f448426463e  08f9c3b0e2ff8da7bad6cc200fa735a2   \n",
       "1  863829e0fc8e0dcd88f44c6a63db836a  d0ebf6ddaa8702e6de4e46854a1136ff   \n",
       "2  640af3312483bea44b8159a8caaf0b3d  838c4a718830b5f1ac7be5e70745ff47   \n",
       "3  43de481cae63944b81db6fd5567a12bb  8f36aead1ceafb3e67f9957a7765549e   \n",
       "4  b84dd1a6c3df2e08eb7bef496cdf6d39  09799cdf1394b0e4b86ace899b7f218e   \n",
       "\n",
       "                           click_id  experimentVariant  \n",
       "0  56bcee80ce68ddc58c178a63288965b2                  1  \n",
       "1  b209c6b14e91606a99d637ff6eb74cc6                  1  \n",
       "2  3f3d510c709ae5d9bae0331fcf776f3a                  1  \n",
       "3  da73306047217a73a6ee0ea7477f2ad7                  0  \n",
       "4  6e4b93932be600a5536c291888996037                  1  "
      ]
     },
     "execution_count": 74,
     "metadata": {},
     "output_type": "execute_result"
    }
   ],
   "source": [
    "df0.head(5)"
   ]
  },
  {
   "cell_type": "markdown",
   "metadata": {},
   "source": [
    "Рассмотрим датасет на наличие пропущенных значений, дубликатов и прочих аномалий."
   ]
  },
  {
   "cell_type": "code",
   "execution_count": 75,
   "metadata": {},
   "outputs": [
    {
     "name": "stdout",
     "output_type": "stream",
     "text": [
      "<class 'pandas.core.frame.DataFrame'>\n",
      "RangeIndex: 10000 entries, 0 to 9999\n",
      "Data columns (total 4 columns):\n",
      " #   Column             Non-Null Count  Dtype \n",
      "---  ------             --------------  ----- \n",
      " 0   user_id            10000 non-null  object\n",
      " 1   session_id         10000 non-null  object\n",
      " 2   click_id           7655 non-null   object\n",
      " 3   experimentVariant  10000 non-null  int64 \n",
      "dtypes: int64(1), object(3)\n",
      "memory usage: 312.6+ KB\n"
     ]
    }
   ],
   "source": [
    "df0.info()"
   ]
  },
  {
   "cell_type": "code",
   "execution_count": 76,
   "metadata": {},
   "outputs": [
    {
     "data": {
      "text/plain": [
       "NaN                                 2345\n",
       "3b2a3050b55fc74811e0b708bd54ace7       1\n",
       "9274dccebc5951ba29ed6ce70819475e       1\n",
       "dc0891b60d09247bad1c9984419584e2       1\n",
       "cc4f576b511962d7613690c4acb6cda3       1\n",
       "                                    ... \n",
       "9f86a22ee6749782864ec4b2d511ada4       1\n",
       "1b429eb74fb9be6d64031684c222bb21       1\n",
       "050bba2107d78463e8aa638773e18ac2       1\n",
       "a051f083bc06867744f9707b78d2bed9       1\n",
       "44acff427d9ba609dd2d527277692616       1\n",
       "Name: click_id, Length: 7656, dtype: int64"
      ]
     },
     "execution_count": 76,
     "metadata": {},
     "output_type": "execute_result"
    }
   ],
   "source": [
    "df0.click_id.value_counts(dropna=False)"
   ]
  },
  {
   "cell_type": "markdown",
   "metadata": {},
   "source": [
    "Дубликаты по полю click_id отсутствуют. В случае отсутствия клика установлено пустое значение."
   ]
  },
  {
   "cell_type": "code",
   "execution_count": 77,
   "metadata": {},
   "outputs": [
    {
     "data": {
      "text/plain": [
       "user_id              2246\n",
       "session_id           6263\n",
       "click_id             7655\n",
       "experimentVariant       2\n",
       "dtype: int64"
      ]
     },
     "execution_count": 77,
     "metadata": {},
     "output_type": "execute_result"
    }
   ],
   "source": [
    "df0.nunique()"
   ]
  },
  {
   "cell_type": "code",
   "execution_count": 78,
   "metadata": {},
   "outputs": [
    {
     "name": "stdout",
     "output_type": "stream",
     "text": [
      "Максимальное количество сессий на одного пользователя в течение эксперимента составляет 13\n",
      "Среднее количество сессий на одного пользователя в течение эксперимента составляет 2.8\n"
     ]
    }
   ],
   "source": [
    "print('Максимальное количество сессий на одного пользователя в течение эксперимента составляет {}'\n",
    "      .format(round(df0.groupby('user_id', as_index=False).agg({'session_id':'nunique'}).session_id.max(), 1)))\n",
    "print('Среднее количество сессий на одного пользователя в течение эксперимента составляет {}'\n",
    "      .format(round(df0.groupby('user_id', as_index=False).agg({'session_id':'nunique'}).session_id.mean(), 1)))"
   ]
  },
  {
   "cell_type": "markdown",
   "metadata": {},
   "source": [
    "Рассмотрим распределение количества сессий по пользователям."
   ]
  },
  {
   "cell_type": "code",
   "execution_count": 79,
   "metadata": {},
   "outputs": [
    {
     "data": {
      "image/png": "[encoded data removed]",
      "text/plain": [
       "<Figure size 720x360 with 1 Axes>"
      ]
     },
     "metadata": {},
     "output_type": "display_data"
    }
   ],
   "source": [
    "plt.figure(figsize = (10,5))\n",
    "sns.set_theme(palette='pastel')\n",
    "ax = sns.histplot(data = df0.groupby('user_id', as_index=False).agg({'session_id':'nunique'}), \n",
    "                  x = 'session_id',)\n",
    "plt.xticks(df0.groupby('user_id', as_index=False).agg({'session_id':'nunique'}).session_id.unique())\n",
    "plt.show()"
   ]
  },
  {
   "cell_type": "markdown",
   "metadata": {},
   "source": [
    "Так как у нас нет данных о времени проведения эксперимента, отсутствует возможность оценить количество сессий на одного пользователя с точки зрения здравого смысла. В распределении очевидные аномалии отсутсвуют."
   ]
  },
  {
   "cell_type": "code",
   "execution_count": 80,
   "metadata": {},
   "outputs": [
    {
     "name": "stdout",
     "output_type": "stream",
     "text": [
      "Максимальное количество кликов в течение одной сессии составляет 12\n",
      "Среднее количество кликов в течение одной сессии составляет 1.2\n"
     ]
    }
   ],
   "source": [
    "print('Максимальное количество кликов в течение одной сессии составляет {}'\n",
    "      .format(round(df0.groupby('session_id', as_index=False).agg({'click_id':'nunique'}).click_id.max(), 1)))\n",
    "print('Среднее количество кликов в течение одной сессии составляет {}'\n",
    "      .format(round(df0.groupby('session_id', as_index=False).agg({'click_id':'nunique'}).click_id.mean(), 1)))"
   ]
  },
  {
   "cell_type": "markdown",
   "metadata": {},
   "source": [
    "Рассмотрим распределение количества кликов по сессиям."
   ]
  },
  {
   "cell_type": "code",
   "execution_count": 81,
   "metadata": {},
   "outputs": [
    {
     "data": {
      "image/png": "[encoded data removed]",
      "text/plain": [
       "<Figure size 720x360 with 1 Axes>"
      ]
     },
     "metadata": {},
     "output_type": "display_data"
    }
   ],
   "source": [
    "plt.figure(figsize = (10,5))\n",
    "ax = sns.histplot(data = df0.groupby('session_id', as_index=False).agg({'click_id':'nunique'}), \n",
    "                  x = 'click_id',)\n",
    "plt.xticks(df0.groupby('session_id', as_index=False).agg({'click_id':'nunique'}).click_id.unique())\n",
    "plt.show()"
   ]
  },
  {
   "cell_type": "markdown",
   "metadata": {},
   "source": [
    "В распределении кликов очевидные аномалии также отсутсвуют."
   ]
  },
  {
   "cell_type": "code",
   "execution_count": 82,
   "metadata": {},
   "outputs": [
    {
     "data": {
      "text/plain": [
       "1    2246\n",
       "Name: experimentVariant, dtype: int64"
      ]
     },
     "execution_count": 82,
     "metadata": {},
     "output_type": "execute_result"
    }
   ],
   "source": [
    "df0.groupby('user_id', as_index=False).agg({'experimentVariant':'nunique'}).experimentVariant.value_counts()"
   ]
  },
  {
   "cell_type": "markdown",
   "metadata": {},
   "source": [
    "Каждый пользователь участвовал либо в контрольной, либо в тестовой ветке эксперимента, пересечений нет."
   ]
  },
  {
   "cell_type": "markdown",
   "metadata": {},
   "source": [
    "Согласно заданию нас интересует, изменилось ли соотношение кликов и сессиий в целом. То есть если пользователь и раньше кликал на иконку Маркета, а теперь стал кликать больше на эту иконку, то это тоже считается значимым результатом. Поэтому будем рассчитывать CTR как отношение всех кликов ко всем сессиям, а не считать был ли клик или его не было в течение каждой конкретной сессии."
   ]
  },
  {
   "cell_type": "code",
   "execution_count": 83,
   "metadata": {},
   "outputs": [
    {
     "data": {
      "text/html": [
       "<div>\n",
       "<style scoped>\n",
       "    .dataframe tbody tr th:only-of-type {\n",
       "        vertical-align: middle;\n",
       "    }\n",
       "\n",
       "    .dataframe tbody tr th {\n",
       "        vertical-align: top;\n",
       "    }\n",
       "\n",
       "    .dataframe thead th {\n",
       "        text-align: right;\n",
       "    }\n",
       "</style>\n",
       "<table border=\"1\" class=\"dataframe\">\n",
       "  <thead>\n",
       "    <tr style=\"text-align: right;\">\n",
       "      <th></th>\n",
       "      <th>user_id</th>\n",
       "      <th>experimentVariant</th>\n",
       "      <th>session_id</th>\n",
       "      <th>click_id</th>\n",
       "    </tr>\n",
       "  </thead>\n",
       "  <tbody>\n",
       "    <tr>\n",
       "      <th>0</th>\n",
       "      <td>001d19e09aba2cb4d888e338f46f858a</td>\n",
       "      <td>1</td>\n",
       "      <td>1</td>\n",
       "      <td>6</td>\n",
       "    </tr>\n",
       "    <tr>\n",
       "      <th>1</th>\n",
       "      <td>002153a52e4003b8426cd39096fd407c</td>\n",
       "      <td>1</td>\n",
       "      <td>3</td>\n",
       "      <td>3</td>\n",
       "    </tr>\n",
       "    <tr>\n",
       "      <th>2</th>\n",
       "      <td>002919af9552c77035b1da1a23988191</td>\n",
       "      <td>0</td>\n",
       "      <td>7</td>\n",
       "      <td>6</td>\n",
       "    </tr>\n",
       "    <tr>\n",
       "      <th>3</th>\n",
       "      <td>002c16db7b5afeccdcb5e7f4516ccb8e</td>\n",
       "      <td>1</td>\n",
       "      <td>5</td>\n",
       "      <td>5</td>\n",
       "    </tr>\n",
       "    <tr>\n",
       "      <th>4</th>\n",
       "      <td>0036ea1469ecd0808170f942533513a2</td>\n",
       "      <td>0</td>\n",
       "      <td>5</td>\n",
       "      <td>3</td>\n",
       "    </tr>\n",
       "    <tr>\n",
       "      <th>...</th>\n",
       "      <td>...</td>\n",
       "      <td>...</td>\n",
       "      <td>...</td>\n",
       "      <td>...</td>\n",
       "    </tr>\n",
       "    <tr>\n",
       "      <th>2241</th>\n",
       "      <td>ff7c33f3635554df1593d383f8b8456d</td>\n",
       "      <td>0</td>\n",
       "      <td>1</td>\n",
       "      <td>8</td>\n",
       "    </tr>\n",
       "    <tr>\n",
       "      <th>2242</th>\n",
       "      <td>ff92aedf4323446897d64750958f6000</td>\n",
       "      <td>0</td>\n",
       "      <td>1</td>\n",
       "      <td>7</td>\n",
       "    </tr>\n",
       "    <tr>\n",
       "      <th>2243</th>\n",
       "      <td>ff9cf07e8a30c591856845b6f681fef0</td>\n",
       "      <td>1</td>\n",
       "      <td>7</td>\n",
       "      <td>5</td>\n",
       "    </tr>\n",
       "    <tr>\n",
       "      <th>2244</th>\n",
       "      <td>ffc1dd3e8f3c8594ef3f7b4423cb3b6b</td>\n",
       "      <td>1</td>\n",
       "      <td>1</td>\n",
       "      <td>2</td>\n",
       "    </tr>\n",
       "    <tr>\n",
       "      <th>2245</th>\n",
       "      <td>ffc667c303f9c14ac34f6e542b3a0373</td>\n",
       "      <td>0</td>\n",
       "      <td>1</td>\n",
       "      <td>2</td>\n",
       "    </tr>\n",
       "  </tbody>\n",
       "</table>\n",
       "<p>2246 rows × 4 columns</p>\n",
       "</div>"
      ],
      "text/plain": [
       "                               user_id  experimentVariant  session_id  \\\n",
       "0     001d19e09aba2cb4d888e338f46f858a                  1           1   \n",
       "1     002153a52e4003b8426cd39096fd407c                  1           3   \n",
       "2     002919af9552c77035b1da1a23988191                  0           7   \n",
       "3     002c16db7b5afeccdcb5e7f4516ccb8e                  1           5   \n",
       "4     0036ea1469ecd0808170f942533513a2                  0           5   \n",
       "...                                ...                ...         ...   \n",
       "2241  ff7c33f3635554df1593d383f8b8456d                  0           1   \n",
       "2242  ff92aedf4323446897d64750958f6000                  0           1   \n",
       "2243  ff9cf07e8a30c591856845b6f681fef0                  1           7   \n",
       "2244  ffc1dd3e8f3c8594ef3f7b4423cb3b6b                  1           1   \n",
       "2245  ffc667c303f9c14ac34f6e542b3a0373                  0           1   \n",
       "\n",
       "      click_id  \n",
       "0            6  \n",
       "1            3  \n",
       "2            6  \n",
       "3            5  \n",
       "4            3  \n",
       "...        ...  \n",
       "2241         8  \n",
       "2242         7  \n",
       "2243         5  \n",
       "2244         2  \n",
       "2245         2  \n",
       "\n",
       "[2246 rows x 4 columns]"
      ]
     },
     "execution_count": 83,
     "metadata": {},
     "output_type": "execute_result"
    }
   ],
   "source": [
    "df_processed = df0.groupby(['user_id', 'experimentVariant'], as_index=False).agg({'session_id':'nunique', 'click_id':'nunique'})\n",
    "df_processed"
   ]
  },
  {
   "cell_type": "code",
   "execution_count": 84,
   "metadata": {},
   "outputs": [
    {
     "data": {
      "text/html": [
       "<div>\n",
       "<style scoped>\n",
       "    .dataframe tbody tr th:only-of-type {\n",
       "        vertical-align: middle;\n",
       "    }\n",
       "\n",
       "    .dataframe tbody tr th {\n",
       "        vertical-align: top;\n",
       "    }\n",
       "\n",
       "    .dataframe thead th {\n",
       "        text-align: right;\n",
       "    }\n",
       "</style>\n",
       "<table border=\"1\" class=\"dataframe\">\n",
       "  <thead>\n",
       "    <tr style=\"text-align: right;\">\n",
       "      <th></th>\n",
       "      <th>experimentVariant</th>\n",
       "      <th>session_id</th>\n",
       "      <th>click_id</th>\n",
       "      <th>CTR</th>\n",
       "    </tr>\n",
       "  </thead>\n",
       "  <tbody>\n",
       "    <tr>\n",
       "      <th>0</th>\n",
       "      <td>0</td>\n",
       "      <td>3201</td>\n",
       "      <td>3951</td>\n",
       "      <td>1.234302</td>\n",
       "    </tr>\n",
       "    <tr>\n",
       "      <th>1</th>\n",
       "      <td>1</td>\n",
       "      <td>3062</td>\n",
       "      <td>3704</td>\n",
       "      <td>1.209667</td>\n",
       "    </tr>\n",
       "  </tbody>\n",
       "</table>\n",
       "</div>"
      ],
      "text/plain": [
       "   experimentVariant  session_id  click_id       CTR\n",
       "0                  0        3201      3951  1.234302\n",
       "1                  1        3062      3704  1.209667"
      ]
     },
     "execution_count": 84,
     "metadata": {},
     "output_type": "execute_result"
    }
   ],
   "source": [
    "CTRs = df_processed.groupby('experimentVariant', as_index=False).agg({'session_id':'sum', 'click_id':'sum'})\n",
    "CTRs['CTR'] = CTRs.click_id / CTRs.session_id\n",
    "CTRs"
   ]
  },
  {
   "cell_type": "markdown",
   "metadata": {},
   "source": [
    "Полученные результаты позволяют говорить о том, что показатель кликабельности не увеличился, однако, возможно данное уменьшение показателя значимо. \n",
    "\n",
    "Для того, чтобы проверить данную гипотезу для метрики вида ratio с различным распределением и дисперсией числителя и знаменателя мы используем дельта-метод для расчета приближенной совместной дисперсии числителя и знаменателя."
   ]
  },
  {
   "cell_type": "code",
   "execution_count": 85,
   "metadata": {},
   "outputs": [],
   "source": [
    "def var_ratio(x,y): #x/y\n",
    "    mean_x = np.mean(x)\n",
    "    mean_y = np.mean(y)\n",
    "    var_x = np.var(x,ddof=1)\n",
    "    var_y = np.var(y,ddof=1)\n",
    "    cov_xy = np.cov(x,y,ddof=1)[0][1]\n",
    "    result = (var_x/mean_x**2 + var_y/mean_y**2 - 2*cov_xy/(mean_x*mean_y))*(mean_x*mean_x)/(mean_y*mean_y*len(x))\n",
    "    return result"
   ]
  },
  {
   "cell_type": "markdown",
   "metadata": {},
   "source": [
    "Также вычислим доверительный интервал и p-value в рамках ttest-статистики"
   ]
  },
  {
   "cell_type": "code",
   "execution_count": 86,
   "metadata": {},
   "outputs": [],
   "source": [
    "def ttest(CTR_control,CTR_test,var_control,var_test):\n",
    "    diff = CTR_test - CTR_control\n",
    "    var = var_control+var_test\n",
    "    stde = 1.96*np.sqrt(var)\n",
    "    lower = diff - stde \n",
    "    upper = diff + stde\n",
    "    z = diff/np.sqrt(var)\n",
    "    p_val = stats.norm.sf(abs(z))*2\n",
    "\n",
    "    result = {'CTR_control':CTR_control,\n",
    "             'CTR_test':CTR_test,\n",
    "             'var_control':var_control,\n",
    "             'var_test':var_test,\n",
    "             'difference':diff,\n",
    "             'lower_bound':lower,\n",
    "             'upper_bound':upper,\n",
    "             'p-value':p_val}\n",
    "    return pd.DataFrame(result,index=[0])"
   ]
  },
  {
   "cell_type": "code",
   "execution_count": 87,
   "metadata": {},
   "outputs": [
    {
     "data": {
      "text/html": [
       "<div>\n",
       "<style scoped>\n",
       "    .dataframe tbody tr th:only-of-type {\n",
       "        vertical-align: middle;\n",
       "    }\n",
       "\n",
       "    .dataframe tbody tr th {\n",
       "        vertical-align: top;\n",
       "    }\n",
       "\n",
       "    .dataframe thead th {\n",
       "        text-align: right;\n",
       "    }\n",
       "</style>\n",
       "<table border=\"1\" class=\"dataframe\">\n",
       "  <thead>\n",
       "    <tr style=\"text-align: right;\">\n",
       "      <th></th>\n",
       "      <th>CTR_control</th>\n",
       "      <th>CTR_test</th>\n",
       "      <th>var_control</th>\n",
       "      <th>var_test</th>\n",
       "      <th>difference</th>\n",
       "      <th>lower_bound</th>\n",
       "      <th>upper_bound</th>\n",
       "      <th>p-value</th>\n",
       "    </tr>\n",
       "  </thead>\n",
       "  <tbody>\n",
       "    <tr>\n",
       "      <th>0</th>\n",
       "      <td>1.234302</td>\n",
       "      <td>1.209667</td>\n",
       "      <td>0.000817</td>\n",
       "      <td>0.000796</td>\n",
       "      <td>-0.024635</td>\n",
       "      <td>-0.103332</td>\n",
       "      <td>0.054063</td>\n",
       "      <td>0.539516</td>\n",
       "    </tr>\n",
       "  </tbody>\n",
       "</table>\n",
       "</div>"
      ],
      "text/plain": [
       "   CTR_control  CTR_test  var_control  var_test  difference  lower_bound  \\\n",
       "0     1.234302  1.209667     0.000817  0.000796   -0.024635    -0.103332   \n",
       "\n",
       "   upper_bound   p-value  \n",
       "0     0.054063  0.539516  "
      ]
     },
     "execution_count": 87,
     "metadata": {},
     "output_type": "execute_result"
    }
   ],
   "source": [
    "var_control = var_ratio(df_processed[df_processed.experimentVariant == 0].click_id,\n",
    "                        df_processed[df_processed.experimentVariant == 0].session_id)\n",
    "var_test = var_ratio(df_processed[df_processed.experimentVariant == 1].click_id,\n",
    "                          df_processed[df_processed.experimentVariant == 1].session_id)\n",
    "CTR_control = CTRs.CTR[0]\n",
    "CTR_test = CTRs.CTR[1]\n",
    "\n",
    "ttest(CTR_control,CTR_test,var_control,var_test)"
   ]
  },
  {
   "cell_type": "markdown",
   "metadata": {},
   "source": [
    "### Вывод\n",
    "Проведенный статистический анализ не выявил значимых различий в клибельности иконки Маркета после ее перемещения.\n",
    "Таким образом, раскатывать обновление на всех пользователей не имеет смысла.\n",
    "Для повышения кликабельности иконки Маркета можно рассмотреть вариант с добавлением значка уведомлений в виде красной пометки с количеством непросмотренных предложений, сгенерированных рекомендательной системой Маркета. Это будет заметнее, но требует дополнительной работы."
   ]
  }
 ],
 "metadata": {
  "kernelspec": {
   "display_name": "Python 3",
   "language": "python",
   "name": "python3"
  },
  "language_info": {
   "codemirror_mode": {
    "name": "ipython",
    "version": 3
   },
   "file_extension": ".py",
   "mimetype": "text/x-python",
   "name": "python",
   "nbconvert_exporter": "python",
   "pygments_lexer": "ipython3",
   "version": "3.8.5"
  }
 },
 "nbformat": 4,
 "nbformat_minor": 4
}
